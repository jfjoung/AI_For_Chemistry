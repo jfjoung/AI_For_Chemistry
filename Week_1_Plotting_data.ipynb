{
  "nbformat": 4,
  "nbformat_minor": 0,
  "metadata": {
    "colab": {
      "provenance": [],
      "authorship_tag": "ABX9TyOz0C4nBou1hvAL/Cw7CGuU"
    },
    "kernelspec": {
      "name": "python3",
      "display_name": "Python 3"
    },
    "language_info": {
      "name": "python"
    }
  },
  "cells": [
    {
      "cell_type": "markdown",
      "source": [
        "<a href=\"https://github.com/jfjoung/AI_For_Chemistry/blob/main/Week_1_Plotting_data.ipynb\" target=\"_parent\"><img src=\"https://colab.research.google.com/assets/colab-badge.svg\" alt=\"Open In Colab\"/></a>"
      ],
      "metadata": {
        "id": "P9gxFnGSyGMt"
      }
    },
    {
      "cell_type": "markdown",
      "source": [
        "## 🎯 **학습 목표:**\n",
        "- Python에서 **데이터 시각화(Plotting)** 의 기본 개념을 이해한다.\n",
        "- `matplotlib` 및 `seaborn`을 사용하여 데이터를 **시각적으로 표현**하는 방법을 익힌다.\n",
        "- 다양한 **그래프(히스토그램, 산점도, 선 그래프 등)** 를 생성하고 분석할 수 있다.\n",
        "- 데이터를 효과적으로 **커뮤니케이션**하기 위해 적절한 스타일과 레이블을 적용하는 방법을 학습한다.\n"
      ],
      "metadata": {
        "id": "29ILIjx5cKbl"
      }
    },
    {
      "cell_type": "markdown",
      "source": [
        "# 📌 Python Essentials - Plotting Data  \n",
        "\n",
        "## 📌 필수 라이브러리 설치 (Install Dependencies)  \n",
        "\n",
        "우선, **필요한 라이브러리**가 설치되어 있는지 확인해야 합니다.  \n",
        "\n",
        "---\n",
        "\n",
        "### ✅ **Python 모듈 설치 방법**  \n",
        "Python 패키지는 일반적으로 **패키지 관리자**를 통해 설치됩니다.  \n",
        "- **`pip`** → Python의 기본 패키지 관리자  \n",
        "- **`conda`** → Anaconda 환경에서 사용되는 패키지 관리자  \n",
        "\n",
        "---\n",
        "\n",
        "### ✅ **어떤 명령어를 실행해야 할까?**  \n",
        "특정 패키지를 설치하려면 **공식 문서**에서 확인하는 것이 가장 정확합니다.  \n",
        "1️⃣ Google에서 패키지명을 검색 (`matplotlib` 검색 예시)  \n",
        "2️⃣ 공식 웹사이트(예: [Matplotlib 공식 문서](https://matplotlib.org/stable/index.html)) 방문  \n",
        "3️⃣ **설치 방법**을 확인하고 해당 명령어 실행  \n",
        "\n",
        "예를 들어, `matplotlib`을 설치하려면 아래 명령어를 실행하면 됩니다.  \n",
        "```python\n",
        "!pip install matplotlib\n",
        "```\n",
        "\n",
        "이 명령어는 Shell 명령어이므로, 실행할 때 앞에 `!`를 붙여야 합니다."
      ],
      "metadata": {
        "id": "gZaySatjcXK_"
      }
    },
    {
      "cell_type": "code",
      "source": [
        "!pip install matplotlib"
      ],
      "metadata": {
        "id": "YM0PmvE7cI9f"
      },
      "execution_count": null,
      "outputs": []
    },
    {
      "cell_type": "markdown",
      "source": [
        "마찬가지로 `seaborn`을 설치하려면,  \n",
        "1️⃣ **Google에서 `seaborn`을 검색**  \n",
        "2️⃣ [Seaborn 공식 문서](https://seaborn.pydata.org) 방문  \n",
        "3️⃣ **설치 방법 확인** 후 아래 명령어 실행  \n",
        "\n",
        "```python\n",
        "!pip install seaborn\n",
        "```\n",
        "이 명령어도 Shell 명령어이므로, 실행할 때 앞에 `!`를 붙여야 합니다."
      ],
      "metadata": {
        "id": "f6HpZFxlcd_I"
      }
    },
    {
      "cell_type": "code",
      "source": [
        "!pip install seaborn"
      ],
      "metadata": {
        "id": "eT0Scd-0cr-r"
      },
      "execution_count": null,
      "outputs": []
    },
    {
      "cell_type": "markdown",
      "source": [
        "## matplotlib과 seaborn  \n",
        "\n",
        "`matplotlib`과 `seaborn`은 Python에서 가장 널리 사용되는 **데이터 시각화 라이브러리**입니다.  \n",
        "\n",
        "---\n",
        "\n",
        "### ✅ **matplotlib**  \n",
        "- **저수준(Low-level) 시각화 라이브러리**로 다양한 그래프를 생성할 수 있습니다.  \n",
        "- **선 그래프(Line plot)**, **산점도(Scatter plot)**, **막대 그래프(Bar plot)**, **히스토그램(Histogram)** 등 다양한 시각화 기능을 제공합니다.  \n",
        "- 커스터마이징 옵션이 많아 **유연한 시각화 가능**, 하지만 다른 라이브러리에 비해 코드가 더 복잡할 수 있습니다.  \n",
        "\n",
        "---\n",
        "\n",
        "### ✅ **matplotlib을 사용한 간단한 선 그래프(Line Plot) 예제**  \n"
      ],
      "metadata": {
        "id": "OHcZVkYMc9Mu"
      }
    },
    {
      "cell_type": "code",
      "source": [
        "import matplotlib.pyplot as plt  # matplotlib의 pyplot 모듈을 불러옴 (그래프 그리기)\n",
        "\n",
        "# x와 y 데이터 정의\n",
        "x = [1, 2, 3, 4, 5]  # x축 값\n",
        "y = [2, 4, 6, 8, 10]  # y축 값\n",
        "\n",
        "# 선 그래프(Line Plot) 그리기\n",
        "plt.plot(x, y)  # x와 y 데이터를 이용하여 선 그래프를 그림\n",
        "\n",
        "# x축, y축, 그래프 제목 설정\n",
        "plt.xlabel(\"X Axis\")  # x축 라벨 설정\n",
        "plt.ylabel(\"Y Axis\")  # y축 라벨 설정\n",
        "plt.title(\"Line Plot\")  # 그래프 제목 설정\n",
        "\n",
        "# 그래프 표시\n",
        "plt.show()\n"
      ],
      "metadata": {
        "id": "3tuLuXp6dTQk"
      },
      "execution_count": null,
      "outputs": []
    },
    {
      "cell_type": "markdown",
      "source": [
        "## ✅ **seaborn**  \n",
        "\n",
        "`seaborn`은 **matplotlib을 기반으로 만들어진 고수준(High-level) 시각화 라이브러리**입니다.  \n",
        "- `matplotlib`보다 **더 직관적인 코드**로 **스타일이 깔끔한 통계적 그래프**를 쉽게 그릴 수 있습니다.  \n",
        "- **바이올린 플롯(Violin plot)**, **박스 플롯(Box plot)**, **히트맵(Heatmap)** 등 **통계적 시각화**에 특화된 함수들을 제공합니다.  \n",
        "- `seaborn`을 사용하면 **데이터 분석 과정에서 시각적 통찰을 더 쉽게 얻을 수 있습니다.**  \n",
        "\n",
        "---\n",
        "\n",
        "### ✅ **seaborn을 사용한 간단한 산점도(Scatter Plot) 예제**  \n"
      ],
      "metadata": {
        "id": "5DU9WXyHdWzb"
      }
    },
    {
      "cell_type": "code",
      "source": [
        "import seaborn as sns  # seaborn 라이브러리 불러오기 (더 쉬운 데이터 시각화)\n",
        "# import matplotlib.pyplot as plt  # seaborn은 내부적으로 matplotlib을 사용하므로 함께 불러와야 하지만 앞에서 이미 불렀음.\n",
        "\n",
        "# x와 y 데이터 정의\n",
        "x = [1, 2, 3, 4, 5]  # x축 값\n",
        "y = [2, 4, 6, 8, 10]  # y축 값\n",
        "\n",
        "# 산점도(Scatter Plot) 그리기\n",
        "sns.scatterplot(x=x, y=y)  # seaborn의 scatterplot() 함수로 산점도 생성\n",
        "\n",
        "# x축, y축, 그래프 제목 설정\n",
        "plt.xlabel(\"X Axis\")  # x축 라벨 설정\n",
        "plt.ylabel(\"Y Axis\")  # y축 라벨 설정\n",
        "plt.title(\"Scatter Plot\")  # 그래프 제목 설정\n",
        "\n",
        "# 그래프 표시\n",
        "plt.show()\n"
      ],
      "metadata": {
        "id": "_M9jL-6Odisx"
      },
      "execution_count": null,
      "outputs": []
    },
    {
      "cell_type": "markdown",
      "source": [
        "이것들은 단순한 예제일 뿐이지만, 더 복잡하고 다양한 시각화 예제를 확인하려면  \n",
        "[`seaborn` 갤러리](https://seaborn.pydata.org/examples/index.html)를 참고하세요.  \n",
        "여기에는 **고급 통계 그래프 및 스타일링 예제**가 포함되어 있어 영감을 얻을 수 있습니다. 🚀  \n"
      ],
      "metadata": {
        "id": "hHrt7Leod0I1"
      }
    },
    {
      "cell_type": "markdown",
      "source": [
        "## 📌 ESOL 데이터 시각화 (Plotting the ESOL Data)  \n",
        "\n",
        "이제 **Delaney 데이터셋(ESOL 데이터)** 을 다시 불러와 시각화해 보겠습니다.  \n",
        "데이터는 **로컬 파일이 아니라 URL에서 직접 불러올 수도 있습니다.**  \n"
      ],
      "metadata": {
        "id": "7k9nZjvLd-UW"
      }
    },
    {
      "cell_type": "code",
      "source": [
        "import pandas as pd  # pandas 라이브러리 불러오기 (데이터 분석 및 조작)\n",
        "\n",
        "# ESOL 데이터셋을 URL에서 직접 읽어와 DataFrame 생성\n",
        "df = pd.read_csv(\"https://raw.githubusercontent.com/schwallergroup/ai4chem_course/main/notebooks/01%20-%20Basics/data/delaney-processed.csv\")\n",
        "\n",
        "# 데이터프레임의 각 열에 대한 요약 통계 출력 (평균, 표준편차, 최소/최대값 등)\n",
        "df.describe()\n"
      ],
      "metadata": {
        "id": "WAknW0L2d0n1"
      },
      "execution_count": null,
      "outputs": []
    },
    {
      "cell_type": "markdown",
      "source": [
        "Pandas는 **DataFrame을 직접 이용하여 그래프를 그릴 수 있는 기능**을 제공합니다.  \n",
        "따로 `matplotlib`을 설정하지 않아도, `pandas`의 `.plot()` 메서드를 사용하면 간단한 시각화를 쉽게 수행할 수 있습니다.  \n"
      ],
      "metadata": {
        "id": "ZJi7s5hkfsr0"
      }
    },
    {
      "cell_type": "code",
      "source": [
        "# 'measured log solubility in mols per litre' vs 'Molecular Weight' 산점도(Scatter Plot) 그리기\n",
        "\n",
        "df.plot(\n",
        "    x='Molecular Weight',  # x축: 분자량 (Molecular Weight)\n",
        "    y='measured log solubility in mols per litre',  # y축: 용해도 (log solubility)\n",
        "    kind='scatter'  # 그래프 종류를 산점도(Scatter Plot)로 설정\n",
        ")\n"
      ],
      "metadata": {
        "id": "T9jjExeGfyZo"
      },
      "execution_count": null,
      "outputs": []
    },
    {
      "cell_type": "code",
      "source": [
        "# 회귀선이 포함된 산점도(Scatter Plot with Regression Line) 그리기\n",
        "\n",
        "sns.regplot(\n",
        "    x='Molecular Weight',  # x축: 분자량 (Molecular Weight)\n",
        "    y='measured log solubility in mols per litre',  # y축: 용해도 (log solubility)\n",
        "    data=df  # 사용 데이터: df (ESOL 데이터셋)\n",
        ")\n"
      ],
      "metadata": {
        "id": "rl6Jcc4mf7es"
      },
      "execution_count": null,
      "outputs": []
    },
    {
      "cell_type": "code",
      "source": [
        "# 히스토그램이 포함된 조인트 플롯(Joint Plot with Histograms) 생성\n",
        "\n",
        "sns.jointplot(\n",
        "    x='Number of Rings',  # x축: 고리 개수 (Number of Rings)\n",
        "    y='Number of H-Bond Donors',  # y축: 수소 결합 기부자 개수 (Number of H-Bond Donors)\n",
        "    data=df  # 사용 데이터: df (ESOL 데이터셋)\n",
        ")\n"
      ],
      "metadata": {
        "id": "oxrkrJ8zgGAC"
      },
      "execution_count": null,
      "outputs": []
    },
    {
      "cell_type": "code",
      "source": [
        "# 박스 플롯(Box Plot)으로 'Polar Surface Area'의 분포 시각화\n",
        "\n",
        "sns.boxplot(\n",
        "    x='Polar Surface Area',  # x축: 극성 표면적 (Polar Surface Area)\n",
        "    data=df  # 사용 데이터: df (ESOL 데이터셋)\n",
        ")\n"
      ],
      "metadata": {
        "id": "VTTsG-dNgLZG"
      },
      "execution_count": null,
      "outputs": []
    },
    {
      "cell_type": "code",
      "source": [
        "# 바이올린 플롯(Violin Plot)으로 'Number of Rotatable Bonds'의 분포 시각화\n",
        "\n",
        "sns.violinplot(\n",
        "    x='Number of Rotatable Bonds',  # x축: 회전 가능한 결합 개수 (Number of Rotatable Bonds)\n",
        "    data=df  # 사용 데이터: df (ESOL 데이터셋)\n",
        ")\n",
        "\n",
        "# 그래프 표시\n",
        "plt.show()\n"
      ],
      "metadata": {
        "id": "unyK2WWpgREX"
      },
      "execution_count": null,
      "outputs": []
    },
    {
      "cell_type": "code",
      "source": [
        "# 여러 열 간의 관계를 시각화하는 페어 플롯(Pair Plot) 생성\n",
        "\n",
        "sns.pairplot(\n",
        "    df[['Number of H-Bond Donors', 'Molecular Weight', 'measured log solubility in mols per litre']]\n",
        "    # 시각화할 컬럼 선택:\n",
        "    # - Number of H-Bond Donors (수소 결합 기부자 개수)\n",
        "    # - Molecular Weight (분자량)\n",
        "    # - measured log solubility in mols per litre (용해도)\n",
        ")\n",
        "\n",
        "# 그래프 표시\n",
        "plt.show()\n"
      ],
      "metadata": {
        "id": "ayJ7ahRggX6_"
      },
      "execution_count": null,
      "outputs": []
    },
    {
      "cell_type": "code",
      "source": [],
      "metadata": {
        "id": "wcuq-sq5glzo"
      },
      "execution_count": null,
      "outputs": []
    }
  ]
}