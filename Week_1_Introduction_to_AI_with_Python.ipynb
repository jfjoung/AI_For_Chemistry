{
  "nbformat": 4,
  "nbformat_minor": 0,
  "metadata": {
    "colab": {
      "provenance": [],
      "authorship_tag": "ABX9TyPHtIoRVy0hoKjk3N/veecn"
    },
    "kernelspec": {
      "name": "python3",
      "display_name": "Python 3"
    },
    "language_info": {
      "name": "python"
    }
  },
  "cells": [
    {
      "cell_type": "markdown",
      "source": [
        "📚 목표\n",
        "\n",
        "-주피터 노트북 환경에 익숙해지기\n",
        "\n",
        "-간단한 AI 예제를 통해 AI의 강력함을 경험하기\n",
        "\n",
        "-코드 셀과 텍스트 셀을 활용해보며 노트북을 탐험하기\n",
        "\n",
        "# 🤖 **AI의 첫걸음: Hello AI!**"
      ],
      "metadata": {
        "id": "TtNSIzfPF_F2"
      }
    },
    {
      "cell_type": "markdown",
      "source": [
        "**1. AI가 멋진 말을 해봅니다!**"
      ],
      "metadata": {
        "id": "oMLvHVudGqjg"
      }
    },
    {
      "cell_type": "code",
      "execution_count": 1,
      "metadata": {
        "colab": {
          "base_uri": "https://localhost:8080/"
        },
        "id": "ojkA7X93F4pP",
        "outputId": "6ff64ca4-ae8b-48e6-98c2-0667f09fa307"
      },
      "outputs": [
        {
          "output_type": "stream",
          "name": "stdout",
          "text": [
            "AI는 미래입니다! 🚀\n"
          ]
        }
      ],
      "source": [
        "# random 기능을 수행하는 라이브러리를 불러옵니다.\n",
        "import random\n",
        "\n",
        "# 다양한 메시지를 저장한 리스트입니다.\n",
        "messages = [\n",
        "    \"AI는 미래입니다! 🚀\",  # AI의 미래를 강조하는 메시지\n",
        "    \"머신러닝과 함께라면 불가능은 없습니다! 🌟\",  # 머신러닝의 가능성을 강조\n",
        "    \"데이터는 새로운 석유입니다! 💡\",  # 데이터의 중요성을 비유\n",
        "    \"AI와 함께라면 당신의 아이디어는 현실이 됩니다! 🤖\"  # AI의 강력함을 나타냄\n",
        "]\n",
        "\n",
        "# 리스트에서 무작위로 하나의 메시지를 선택하여 출력합니다.\n",
        "print(random.choice(messages))\n"
      ]
    },
    {
      "cell_type": "markdown",
      "source": [
        "👉 실행 (Shift + Enter)"
      ],
      "metadata": {
        "id": "RXdKyq_YF-cP"
      }
    },
    {
      "cell_type": "markdown",
      "source": [
        "**2. 사용자 상호작용 예제**"
      ],
      "metadata": {
        "id": "eJslmg_6HIwO"
      }
    },
    {
      "cell_type": "code",
      "source": [
        "# 사용자로부터 입력을 받을 수 있는 기능을 사용합니다.\n",
        "name = input(\"당신의 이름은 무엇인가요? \")  # 이름을 입력받습니다.\n",
        "\n",
        "# 입력받은 이름을 활용해 환영 메시지를 출력합니다.\n",
        "print(f\"반가워요, {name}! AI와 함께 멋진 여정을 시작해봅시다! 🚀\")\n"
      ],
      "metadata": {
        "colab": {
          "base_uri": "https://localhost:8080/"
        },
        "id": "vDGI60XlHKnh",
        "outputId": "9ac0eb80-1772-4683-e60d-2ae8cf0e07ed"
      },
      "execution_count": 2,
      "outputs": [
        {
          "output_type": "stream",
          "name": "stdout",
          "text": [
            "당신의 이름은 무엇인가요? 정준영\n",
            "반가워요, 정준영! AI와 함께 멋진 여정을 시작해봅시다! 🚀\n"
          ]
        }
      ]
    },
    {
      "cell_type": "markdown",
      "source": [
        "👉 실행 (Shift + Enter)"
      ],
      "metadata": {
        "id": "8dT0oQXeHNJA"
      }
    },
    {
      "cell_type": "markdown",
      "source": [
        "**3. 데이터 시각화 예제**"
      ],
      "metadata": {
        "id": "nDagfFfWHAiC"
      }
    },
    {
      "cell_type": "code",
      "source": [
        "# 데이터 시각화를 위한 라이브러리를 불러옵니다.\n",
        "import matplotlib.pyplot as plt\n",
        "\n",
        "# X축에 사용할 데이터를 정의합니다.\n",
        "x = [1, 2, 3, 4, 5]  # X축 데이터 포인트\n",
        "\n",
        "# Y축에 사용할 데이터를 정의합니다.\n",
        "y = [10, 20, 25, 30, 40]  # Y축 데이터 포인트\n",
        "\n",
        "# 그래프를 그립니다.\n",
        "plt.plot(x, y)  # X축과 Y축 데이터를 연결하는 선 그래프를 그립니다.\n",
        "\n",
        "# 그래프에 제목을 추가합니다.\n",
        "plt.title(\"Simple graph\")  # 그래프 제목\n",
        "\n",
        "# X축에 라벨을 추가합니다.\n",
        "plt.xlabel(\"X axis\")  # X축 설명\n",
        "\n",
        "# Y축에 라벨을 추가합니다.\n",
        "plt.ylabel(\"Y axis축\")  # Y축 설명\n",
        "\n",
        "# 그래프를 화면에 표시합니다.\n",
        "plt.show()  # 그래프 출력\n"
      ],
      "metadata": {
        "colab": {
          "base_uri": "https://localhost:8080/",
          "height": 472
        },
        "id": "s7A-MHnCG91a",
        "outputId": "536d4c21-0848-41a4-a425-01f8104afcea"
      },
      "execution_count": 4,
      "outputs": [
        {
          "output_type": "display_data",
          "data": {
            "text/plain": [
              "<Figure size 640x480 with 1 Axes>"
            ],
            "image/png": "[encoded data removed]"
          },
          "metadata": {}
        }
      ]
    },
    {
      "cell_type": "markdown",
      "source": [
        "👉 실행 (Shift + Enter)"
      ],
      "metadata": {
        "id": "d_pUwiqFHdoU"
      }
    },
    {
      "cell_type": "markdown",
      "source": [
        "**4. 주피터 노트북 사용법 복습**\n",
        "\n",
        "\\#: 한 줄 주석입니다. 코드 설명이나 메모를 작성할 때 사용합니다.\n",
        "\n",
        "import: 라이브러리를 불러와서 사용할 수 있게 해줍니다.\n",
        "\n",
        "print(): 화면에 메시지나 값을 출력합니다.\n",
        "\n",
        "input(): 사용자로부터 데이터를 입력받습니다.\n",
        "\n",
        "plt.plot(): 데이터를 그래프로 그립니다.\n"
      ],
      "metadata": {
        "id": "oXffnJsFHgmJ"
      }
    },
    {
      "cell_type": "code",
      "source": [],
      "metadata": {
        "id": "rUj-7A16HVzt"
      },
      "execution_count": null,
      "outputs": []
    }
  ]
}