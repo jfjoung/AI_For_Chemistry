{
  "nbformat": 4,
  "nbformat_minor": 0,
  "metadata": {
    "colab": {
      "provenance": [],
      "authorship_tag": "ABX9TyNjDyhOju9qzrljFw/ykfbQ"
    },
    "kernelspec": {
      "name": "python3",
      "display_name": "Python 3"
    },
    "language_info": {
      "name": "python"
    }
  },
  "cells": [
    {
      "cell_type": "markdown",
      "source": [
        "📚 목표\n",
        "\n",
        "-주피터 노트북 환경에 익숙해지기\n",
        "\n",
        "-간단한 AI 예제를 통해 AI의 강력함을 경험하기\n",
        "\n",
        "-코드 셀과 텍스트 셀을 활용해보며 노트북을 탐험하기\n",
        "\n",
        "# 🤖 **AI의 첫걸음: Hello AI!**"
      ],
      "metadata": {
        "id": "TtNSIzfPF_F2"
      }
    },
    {
      "cell_type": "markdown",
      "source": [
        "**1. AI가 멋진 말을 해봅니다!**"
      ],
      "metadata": {
        "id": "oMLvHVudGqjg"
      }
    },
    {
      "cell_type": "code",
      "execution_count": 1,
      "metadata": {
        "colab": {
          "base_uri": "https://localhost:8080/"
        },
        "id": "ojkA7X93F4pP",
        "outputId": "6ff64ca4-ae8b-48e6-98c2-0667f09fa307"
      },
      "outputs": [
        {
          "output_type": "stream",
          "name": "stdout",
          "text": [
            "AI는 미래입니다! 🚀\n"
          ]
        }
      ],
      "source": [
        "# random 기능을 수행하는 라이브러리를 불러옵니다.\n",
        "import random\n",
        "\n",
        "# 다양한 메시지를 저장한 리스트입니다.\n",
        "messages = [\n",
        "    \"AI는 미래입니다! 🚀\",  # AI의 미래를 강조하는 메시지\n",
        "    \"머신러닝과 함께라면 불가능은 없습니다! 🌟\",  # 머신러닝의 가능성을 강조\n",
        "    \"데이터는 새로운 석유입니다! 💡\",  # 데이터의 중요성을 비유\n",
        "    \"AI와 함께라면 당신의 아이디어는 현실이 됩니다! 🤖\"  # AI의 강력함을 나타냄\n",
        "]\n",
        "\n",
        "# 리스트에서 무작위로 하나의 메시지를 선택하여 출력합니다.\n",
        "print(random.choice(messages))\n"
      ]
    },
    {
      "cell_type": "markdown",
      "source": [
        "👉 실행 (Shift + Enter)"
      ],
      "metadata": {
        "id": "RXdKyq_YF-cP"
      }
    },
    {
      "cell_type": "markdown",
      "source": [
        "**2. 사용자 상호작용 예제**"
      ],
      "metadata": {
        "id": "eJslmg_6HIwO"
      }
    },
    {
      "cell_type": "code",
      "source": [
        "# 사용자로부터 입력을 받을 수 있는 기능을 사용합니다.\n",
        "name = input(\"당신의 이름은 무엇인가요? \")  # 이름을 입력받습니다.\n",
        "\n",
        "# 입력받은 이름을 활용해 환영 메시지를 출력합니다.\n",
        "print(f\"반가워요, {name}! AI와 함께 멋진 여정을 시작해봅시다! 🚀\")\n"
      ],
      "metadata": {
        "colab": {
          "base_uri": "https://localhost:8080/"
        },
        "id": "vDGI60XlHKnh",
        "outputId": "9ac0eb80-1772-4683-e60d-2ae8cf0e07ed"
      },
      "execution_count": 2,
      "outputs": [
        {
          "output_type": "stream",
          "name": "stdout",
          "text": [
            "당신의 이름은 무엇인가요? 정준영\n",
            "반가워요, 정준영! AI와 함께 멋진 여정을 시작해봅시다! 🚀\n"
          ]
        }
      ]
    },
    {
      "cell_type": "markdown",
      "source": [
        "👉 실행 (Shift + Enter)"
      ],
      "metadata": {
        "id": "8dT0oQXeHNJA"
      }
    },
    {
      "cell_type": "markdown",
      "source": [
        "**3. 데이터 시각화 예제**"
      ],
      "metadata": {
        "id": "nDagfFfWHAiC"
      }
    },
    {
      "cell_type": "code",
      "source": [
        "# 데이터 시각화를 위한 라이브러리를 불러옵니다.\n",
        "import matplotlib.pyplot as plt\n",
        "\n",
        "# X축에 사용할 데이터를 정의합니다.\n",
        "x = [1, 2, 3, 4, 5]  # X축 데이터 포인트\n",
        "\n",
        "# Y축에 사용할 데이터를 정의합니다.\n",
        "y = [10, 20, 25, 30, 40]  # Y축 데이터 포인트\n",
        "\n",
        "# 그래프를 그립니다.\n",
        "plt.plot(x, y)  # X축과 Y축 데이터를 연결하는 선 그래프를 그립니다.\n",
        "\n",
        "# 그래프에 제목을 추가합니다.\n",
        "plt.title(\"Simple graph\")  # 그래프 제목\n",
        "\n",
        "# X축에 라벨을 추가합니다.\n",
        "plt.xlabel(\"X axis\")  # X축 설명\n",
        "\n",
        "# Y축에 라벨을 추가합니다.\n",
        "plt.ylabel(\"Y axis축\")  # Y축 설명\n",
        "\n",
        "# 그래프를 화면에 표시합니다.\n",
        "plt.show()  # 그래프 출력\n"
      ],
      "metadata": {
        "colab": {
          "base_uri": "https://localhost:8080/",
          "height": 472
        },
        "id": "s7A-MHnCG91a",
        "outputId": "536d4c21-0848-41a4-a425-01f8104afcea"
      },
      "execution_count": 4,
      "outputs": [
        {
          "output_type": "display_data",
          "data": {
            "text/plain": [
              "<Figure size 640x480 with 1 Axes>"
            ],
            "image/png": "[encoded data removed]"
          },
          "metadata": {}
        }
      ]
    },
    {
      "cell_type": "markdown",
      "source": [
        "👉 실행 (Shift + Enter)"
      ],
      "metadata": {
        "id": "d_pUwiqFHdoU"
      }
    },
    {
      "cell_type": "markdown",
      "source": [
        "\n",
        "# **🧪 RDKit으로 아스피린(Aspirin) 구조 그리기**\n",
        "\n",
        "RDKit는 화학 물질의 구조를 그리는 데 사용되는 강력한 라이브러리입니다. 아래 코드를 통해 아스피린의 구조를 시각화해보겠습니다.\n",
        "\n"
      ],
      "metadata": {
        "id": "ttquN4K2IQSS"
      }
    },
    {
      "cell_type": "markdown",
      "source": [
        "**4. RDKit 설치 및 임포트**"
      ],
      "metadata": {
        "id": "awktj9fgIrIM"
      }
    },
    {
      "cell_type": "code",
      "source": [
        "# RDKit 설치 (Google Colab 전용)\n",
        "!pip install rdkit"
      ],
      "metadata": {
        "colab": {
          "base_uri": "https://localhost:8080/"
        },
        "id": "U4Q0uNS8IQIA",
        "outputId": "50e0c280-435c-4425-ab25-6e8637caa624"
      },
      "execution_count": 5,
      "outputs": [
        {
          "output_type": "stream",
          "name": "stdout",
          "text": [
            "Collecting rdkit\n",
            "  Downloading rdkit-2024.9.1-cp310-cp310-manylinux_2_28_x86_64.whl.metadata (4.0 kB)\n",
            "Requirement already satisfied: numpy in /usr/local/lib/python3.10/dist-packages (from rdkit) (1.26.4)\n",
            "Requirement already satisfied: Pillow in /usr/local/lib/python3.10/dist-packages (from rdkit) (11.0.0)\n",
            "Downloading rdkit-2024.9.1-cp310-cp310-manylinux_2_28_x86_64.whl (33.3 MB)\n",
            "\u001b[2K   \u001b[90m━━━━━━━━━━━━━━━━━━━━━━━━━━━━━━━━━━━━━━━━\u001b[0m \u001b[32m33.3/33.3 MB\u001b[0m \u001b[31m39.0 MB/s\u001b[0m eta \u001b[36m0:00:00\u001b[0m\n",
            "\u001b[?25hInstalling collected packages: rdkit\n",
            "Successfully installed rdkit-2024.9.1\n"
          ]
        }
      ]
    },
    {
      "cell_type": "markdown",
      "source": [
        "👉 실행 (Shift + Enter)"
      ],
      "metadata": {
        "id": "GC4Z5dr3I0KS"
      }
    },
    {
      "cell_type": "markdown",
      "source": [
        "**5. 아스피린 구조 그리기**"
      ],
      "metadata": {
        "id": "HR2E7JfuI4T1"
      }
    },
    {
      "cell_type": "code",
      "source": [
        "# RDKit 라이브러리 불러오기\n",
        "from rdkit import Chem  # 화학 구조 처리 라이브러리\n",
        "from rdkit.Chem import Draw  # 화학 구조 시각화 라이브러리\n",
        "\n",
        "# 아스피린의 SMILES 문자열\n",
        "aspirin_smiles = \"CC(=O)Oc1ccccc1C(=O)O\"  # 아스피린 구조를 나타내는 SMILES 코드\n",
        "\n",
        "# SMILES 문자열을 사용하여 화합물 객체 생성\n",
        "aspirin_molecule = Chem.MolFromSmiles(aspirin_smiles)\n",
        "\n",
        "# 아스피린 구조 그리기\n",
        "Draw.MolToImage(aspirin_molecule, size=(300, 300))\n"
      ],
      "metadata": {
        "colab": {
          "base_uri": "https://localhost:8080/",
          "height": 317
        },
        "id": "F23vsgxiIQFy",
        "outputId": "6138be59-c088-4cb0-f6f9-1f4651b66f64"
      },
      "execution_count": 6,
      "outputs": [
        {
          "output_type": "execute_result",
          "data": {
            "text/plain": [
              "<PIL.PngImagePlugin.PngImageFile image mode=RGB size=300x300>"
            ],
            "image/png": "[encoded data removed]",
            "image/jpeg": "[encoded data removed]"
          },
          "metadata": {},
          "execution_count": 6
        }
      ]
    },
    {
      "cell_type": "markdown",
      "source": [
        "👉 실행 (Shift + Enter)"
      ],
      "metadata": {
        "id": "z-MXDIgBI991"
      }
    },
    {
      "cell_type": "markdown",
      "source": [
        "**4. 주피터 노트북 사용법 복습**\n",
        "\n",
        "\\#: 한 줄 주석입니다. 코드 설명이나 메모를 작성할 때 사용합니다.\n",
        "\n",
        "import: 라이브러리를 불러와서 사용할 수 있게 해줍니다.\n",
        "\n",
        "print(): 화면에 메시지나 값을 출력합니다.\n",
        "\n",
        "input(): 사용자로부터 데이터를 입력받습니다.\n",
        "\n",
        "plt.plot(): 데이터를 그래프로 그립니다.\n",
        "\n",
        "RDKit 설치: !pip install rdkit로 라이브러리를 설치합니다.\n",
        "\n",
        "SMILES 문자열: 아스피린의 화학 구조를 나타내는 표준 문자열입니다.\n",
        "\n",
        "MolFromSmiles: SMILES 문자열을 분자 객체로 변환합니다.\n",
        "\n",
        "Draw.MolToImage: 분자 객체를 이미지로 변환하고 표시합니다."
      ],
      "metadata": {
        "id": "oXffnJsFHgmJ"
      }
    }
  ]
}