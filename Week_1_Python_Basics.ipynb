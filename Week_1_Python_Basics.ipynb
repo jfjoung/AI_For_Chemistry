{
  "nbformat": 4,
  "nbformat_minor": 0,
  "metadata": {
    "colab": {
      "provenance": [],
      "authorship_tag": "ABX9TyO5G9pTAngf8LtIWXmH4NTI"
    },
    "kernelspec": {
      "name": "python3",
      "display_name": "Python 3"
    },
    "language_info": {
      "name": "python"
    }
  },
  "cells": [
    {
      "cell_type": "markdown",
      "source": [
        "## 🎯 **학습 목표:**\n",
        "- Python의 기본 문법과 사칙연산을 이해한다.\n",
        "- 변수와 데이터 타입의 개념을 익힌다.\n",
        "- 리스트, 딕셔너리, 튜플의 사용법을 학습한다.\n",
        "- 간단한 실습을 통해 Python 프로그래밍 능력을 향상한다."
      ],
      "metadata": {
        "id": "N6Vkf9n9kQJX"
      }
    },
    {
      "cell_type": "code",
      "execution_count": 1,
      "metadata": {
        "colab": {
          "base_uri": "https://localhost:8080/"
        },
        "id": "mpvqceDNjWvj",
        "outputId": "a9995e09-dc1b-4905-a6d0-16733f39e5a3"
      },
      "outputs": [
        {
          "output_type": "stream",
          "name": "stdout",
          "text": [
            "Python version: 3.10.12 (main, Nov  6 2024, 20:22:13) [GCC 11.4.0]\n"
          ]
        }
      ],
      "source": [
        "# 1. Python 소개 및 환경 설정\n",
        "# Python은 간결하고 강력한 프로그래밍 언어입니다.\n",
        "# 설치된 Python 버전 확인\n",
        "def check_python_version():\n",
        "    import sys\n",
        "    print(f'Python version: {sys.version}')\n",
        "\n",
        "check_python_version()"
      ]
    },
    {
      "cell_type": "code",
      "source": [
        "# 2. 기본 문법과 사칙연산\n",
        "# Python의 사칙연산 예제\n",
        "print('Addition:', 5 + 3)\n",
        "print('Subtraction:', 5 - 3)\n",
        "print('Multiplication:', 5 * 3)\n",
        "print('Division:', 5 / 3)\n",
        "print('Exponentiation:', 5 ** 3)\n",
        "\n",
        "# 몫과 나머지 구하기\n",
        "print('Floor Division (몫):', 5 // 3)\n",
        "print('Modulo (나머지):', 5 % 3)"
      ],
      "metadata": {
        "colab": {
          "base_uri": "https://localhost:8080/"
        },
        "id": "LKE10bc0kYDZ",
        "outputId": "1a34c5e1-2bcf-45bd-a733-ed6759653a8c"
      },
      "execution_count": 2,
      "outputs": [
        {
          "output_type": "stream",
          "name": "stdout",
          "text": [
            "Addition: 8\n",
            "Subtraction: 2\n",
            "Multiplication: 15\n",
            "Division: 1.6666666666666667\n",
            "Exponentiation: 125\n",
            "Floor Division (몫): 1\n",
            "Modulo (나머지): 2\n"
          ]
        }
      ]
    },
    {
      "cell_type": "markdown",
      "source": [
        "📝 **Task 2:**\n",
        "두 숫자를 입력받아 다음을 계산해보세요:\n",
        "1. 두 숫자의 합\n",
        "2. 두 숫자의 곱\n",
        "3. 첫 번째 숫자를 두 번째 숫자로 나눈 몫\n",
        "4. 첫 번째 숫자를 두 번째 숫자로 나눈 나머지\n",
        "\n",
        "아래에 코드 블럭을 새로 만들어 해보세요."
      ],
      "metadata": {
        "id": "JmGGoRnHk1ZM"
      }
    },
    {
      "cell_type": "code",
      "source": [
        "# 3. 변수와 데이터 타입\n",
        "x = 10        # 정수\n",
        "y = 3.14      # 실수\n",
        "name = 'Alice'  # 문자열\n",
        "is_valid = True # 논리값\n",
        "\n",
        "print('Integer:', x)\n",
        "print('Float:', y)\n",
        "print('String:', name)\n",
        "print('Boolean:', is_valid)"
      ],
      "metadata": {
        "colab": {
          "base_uri": "https://localhost:8080/"
        },
        "id": "Xkfv-2qnkkK8",
        "outputId": "a7bb21ba-fa7d-4875-cef7-34de638dbf30"
      },
      "execution_count": 3,
      "outputs": [
        {
          "output_type": "stream",
          "name": "stdout",
          "text": [
            "Integer: 10\n",
            "Float: 3.14\n",
            "String: Alice\n",
            "Boolean: True\n"
          ]
        }
      ]
    },
    {
      "cell_type": "markdown",
      "source": [
        "'Chemistry'는 어떤 데이터 타입입니까?\n",
        "\n",
        "Chemistry = 3 으로 정의하면 어떤 데이터 타입입니까?\n",
        "\n",
        "아래에 코드 블럭을 새로 만들어 해보세요."
      ],
      "metadata": {
        "id": "KsNSmzGjlP85"
      }
    },
    {
      "cell_type": "code",
      "source": [
        "# 4. 과학 상수 표현\n",
        "# 아보가드로 상수 (6.02 × 10^23)\n",
        "# `e`는 10의 거듭제곱을 의미합니다.\n",
        "# 예를 들어, `6.02e23`은 `6.02 × 10^23`을 의미합니다.\n",
        "avogadro_constant = 6.02e23\n",
        "print('Avogadro Constant:', avogadro_constant)\n",
        "\n",
        "# 플랑크 상수 (6.626 × 10^-34 Js)\n",
        "# `6.626e-34`는 `6.626 × 10^-34`를 의미합니다.\n",
        "planck_constant = 6.626e-34\n",
        "print('Planck Constant:', planck_constant)"
      ],
      "metadata": {
        "colab": {
          "base_uri": "https://localhost:8080/"
        },
        "id": "fDvW0SgmlOzh",
        "outputId": "26c9c31c-6ff0-4a9b-cd78-89fc2f1417fa"
      },
      "execution_count": 4,
      "outputs": [
        {
          "output_type": "stream",
          "name": "stdout",
          "text": [
            "Avogadro Constant: 6.02e+23\n",
            "Planck Constant: 6.626e-34\n"
          ]
        }
      ]
    },
    {
      "cell_type": "markdown",
      "source": [
        "빛의 속도, 전자의 전하량 변수를 저장하고 출력해보세요.\n",
        "아래에 코드 블럭을 새로 만들어 해보세요.\n"
      ],
      "metadata": {
        "id": "zjekPht2ls_2"
      }
    },
    {
      "cell_type": "markdown",
      "source": [
        "5. 리스트(List)\n",
        "\n",
        "리스트(List)란 여러 개의 값을 순서대로 저장할 수 있는 자료구조입니다.\n",
        "\n",
        "리스트는 대괄호([])로 정의하며, 각 요소는 쉼표(,)로 구분됩니다.\n",
        "\n",
        "Python의 리스트는 **0부터 시작하는 인덱스**를 사용합니다.\n"
      ],
      "metadata": {
        "id": "5BuVYgHCnLMC"
      }
    },
    {
      "cell_type": "code",
      "source": [
        "fruits = ['apple', 'banana', 'cherry']  # 문자열 요소를 가진 리스트 생성\n",
        "print('Fruits:', fruits)  # 리스트 전체 출력\n",
        "print('First fruit (Index 0):', fruits[0])  # 첫 번째 요소 접근 (0번 인덱스)\n",
        "fruits.append('orange')  # 리스트에 'orange' 추가\n",
        "print('Updated Fruits:', fruits)  # 업데이트된 리스트 출력"
      ],
      "metadata": {
        "colab": {
          "base_uri": "https://localhost:8080/"
        },
        "id": "p1R8RHJNlsnt",
        "outputId": "132ffc9f-ced8-4cdd-df37-dc39c84cdb94"
      },
      "execution_count": 8,
      "outputs": [
        {
          "output_type": "stream",
          "name": "stdout",
          "text": [
            "Fruits: ['apple', 'banana', 'cherry']\n",
            "First fruit (Index 0): apple\n",
            "Updated Fruits: ['apple', 'banana', 'cherry', 'orange']\n"
          ]
        }
      ]
    },
    {
      "cell_type": "code",
      "source": [
        "# 리스트 더하기(+): 두 리스트를 합칠 수 있습니다.\n",
        "more_fruits = ['grape', 'melon']  # 새로운 리스트 생성\n",
        "all_fruits = fruits + more_fruits  # 두 리스트 합치기\n",
        "print('All Fruits:', all_fruits)  # 합쳐진 리스트 출력"
      ],
      "metadata": {
        "colab": {
          "base_uri": "https://localhost:8080/"
        },
        "id": "KRcXUkxzlsAb",
        "outputId": "770f8c0d-243c-444b-997f-ed7ab18b211a"
      },
      "execution_count": 9,
      "outputs": [
        {
          "output_type": "stream",
          "name": "stdout",
          "text": [
            "All Fruits: ['apple', 'banana', 'cherry', 'orange', 'grape', 'melon']\n"
          ]
        }
      ]
    },
    {
      "cell_type": "code",
      "source": [
        "# 리스트 빼기: 특정 요소를 제거합니다.\n",
        "all_fruits.remove('banana')  # 'banana' 요소 제거\n",
        "print('After Removing Banana:', all_fruits)  # 업데이트된 리스트 출력"
      ],
      "metadata": {
        "colab": {
          "base_uri": "https://localhost:8080/"
        },
        "id": "y7bbSxNhnngq",
        "outputId": "18975733-347d-4d5b-9605-a191d62e0e16"
      },
      "execution_count": 10,
      "outputs": [
        {
          "output_type": "stream",
          "name": "stdout",
          "text": [
            "After Removing Banana: ['apple', 'cherry', 'orange', 'grape', 'melon']\n"
          ]
        }
      ]
    },
    {
      "cell_type": "code",
      "source": [],
      "metadata": {
        "id": "mdXuoKdunowE"
      },
      "execution_count": null,
      "outputs": []
    }
  ]
}