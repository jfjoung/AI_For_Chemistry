{
  "nbformat": 4,
  "nbformat_minor": 0,
  "metadata": {
    "colab": {
      "provenance": [],
      "authorship_tag": "ABX9TyP7wSVlnnLWTAM+RDPHaC84"
    },
    "kernelspec": {
      "name": "python3",
      "display_name": "Python 3"
    },
    "language_info": {
      "name": "python"
    }
  },
  "cells": [
    {
      "cell_type": "markdown",
      "source": [
        "<a href=\"https://github.com/jfjoung/AI_For_Chemistry/blob/main/Week_1_Python_Basics.ipynb\" target=\"_parent\"><img src=\"https://colab.research.google.com/assets/colab-badge.svg\" alt=\"Open In Colab\"/></a>"
      ],
      "metadata": {
        "id": "4sQxwbB0xyRa"
      }
    },
    {
      "cell_type": "markdown",
      "source": [
        "## 🎯 **학습 목표:**\n",
        "- Python의 기본 문법과 사칙연산을 이해한다.\n",
        "- 변수와 데이터 타입의 개념을 익힌다.\n",
        "- 리스트, 딕셔너리, 튜플의 사용법을 학습한다.\n",
        "- 간단한 실습을 통해 Python 프로그래밍 능력을 향상한다."
      ],
      "metadata": {
        "id": "N6Vkf9n9kQJX"
      }
    },
    {
      "cell_type": "code",
      "execution_count": null,
      "metadata": {
        "colab": {
          "base_uri": "https://localhost:8080/"
        },
        "id": "mpvqceDNjWvj",
        "outputId": "5b67629d-03b8-46ca-b648-b3f06dddc4d8"
      },
      "outputs": [
        {
          "output_type": "stream",
          "name": "stdout",
          "text": [
            "Python version: 3.11.11 (main, Dec  4 2024, 08:55:07) [GCC 11.4.0]\n"
          ]
        }
      ],
      "source": [
        "# 1. Python 소개 및 환경 설정\n",
        "# Python은 간결하고 강력한 프로그래밍 언어입니다.\n",
        "# 설치된 Python 버전 확인\n",
        "def check_python_version():\n",
        "    import sys\n",
        "    print(f'Python version: {sys.version}')\n",
        "\n",
        "check_python_version()"
      ]
    },
    {
      "cell_type": "markdown",
      "source": [
        "만약 Python 프로그래밍 경험이 많지 않다면, [Kaggle Learn](https://www.kaggle.com/learn)과 같은 온라인 튜토리얼을 먼저 학습하는 것을 추천합니다. 이를 통해 기본 개념을 익히고 Python 사용에 익숙해질 수 있습니다. 아래에서는 Python의 기본 개념을 간단히 소개합니다.\n",
        "\n",
        "##변수(Variables)\n",
        "변수는 프로그램에서 값을 저장하는 데 사용됩니다. `=` 연산자를 사용하여 변수를 선언하고 값을 할당할 수 있습니다. 예를 들어, 다음 코드를 실행하려면 `Shift + Enter`를 누르거나 `Run` 버튼을 클릭하세요."
      ],
      "metadata": {
        "id": "7Q1ehZf4Irql"
      }
    },
    {
      "cell_type": "code",
      "source": [
        "# Python의 사칙연산 예제\n",
        "print('Addition:', 5 + 3)\n",
        "print('Subtraction:', 5 - 3)\n",
        "print('Multiplication:', 5 * 3)\n",
        "print('Division:', 5 / 3)\n",
        "print('Exponentiation:', 5 ** 3)\n",
        "\n",
        "# 몫과 나머지 구하기\n",
        "print('Floor Division (몫):', 5 // 3)\n",
        "print('Modulo (나머지):', 5 % 3)"
      ],
      "metadata": {
        "id": "LKE10bc0kYDZ"
      },
      "execution_count": null,
      "outputs": []
    },
    {
      "cell_type": "markdown",
      "source": [
        "##데이터 타입(Data Types)\n",
        "Python에는 다양한 내장 데이터 타입이 있으며, 대표적으로 숫자형(정수, 실수), 문자열(String), 리스트(List), 튜플(Tuple), 딕셔너리(Dictionary) 등이 있습니다. 예를 들면 다음과 같습니다:"
      ],
      "metadata": {
        "id": "XZ1wfPGbJB9l"
      }
    },
    {
      "cell_type": "code",
      "source": [
        "# Numbers\n",
        "x = 5\n",
        "y = 5.5\n",
        "\n",
        "# Strings\n",
        "name = \"John Doe\"\n",
        "\n",
        "# Lists\n",
        "fruits = [\"apple\", \"banana\", \"cherry\"]\n",
        "\n",
        "# Tuples\n",
        "person = (\"John\", \"Doe\", 30)\n",
        "\n",
        "# Dictionaries\n",
        "person = {\n",
        "    \"first_name\": \"John\",\n",
        "    \"last_name\": \"Doe\",\n",
        "    \"age\": 30\n",
        "}\n"
      ],
      "metadata": {
        "id": "Xkfv-2qnkkK8"
      },
      "execution_count": null,
      "outputs": []
    },
    {
      "cell_type": "markdown",
      "source": [
        "##연산자(Operators)\n",
        "Python에서는 다양한 종류의 연산자를 지원하며, 대표적으로 산술 연산자, 비교 연산자, 할당 연산자 등이 있습니다."
      ],
      "metadata": {
        "id": "H8MrJbxwJWKU"
      }
    },
    {
      "cell_type": "code",
      "source": [
        "# 산술 Arithmetic\n",
        "a = 10\n",
        "b = 3\n",
        "\n",
        "print(a + b)  # 덧셈: 10 + 3 = 13\n",
        "print(a - b)  # 뺄셈: 10 - 3 = 7\n",
        "print(a * b)  # 곱셈: 10 * 3 = 30\n",
        "print(a / b)  # 나눗셈: 10 / 3 = 3.333...\n",
        "print(a // b) # 몫: 10 // 3 = 3\n",
        "print(a % b)  # 나머지: 10 % 3 = 1\n",
        "print(a ** b) # 거듭제곱: 10^3 = 1000\n",
        "\n",
        "\n",
        "# 비교 Comparison\n",
        "x = 5\n",
        "y = 10\n",
        "\n",
        "print(x == y)  # 같음: False\n",
        "print(x != y)  # 다름: True\n",
        "print(x > y)   # 크다: False\n",
        "print(x < y)   # 작다: True\n",
        "print(x >= y)  # 크거나 같다: False\n",
        "print(x <= y)  # 작거나 같다: True\n",
        "\n",
        "\n",
        "# 할당 Assignment\n",
        "num = 10\n",
        "num += 5  # num = num + 5 → 15\n",
        "num -= 3  # num = num - 3 → 12\n",
        "num *= 2  # num = num * 2 → 24\n",
        "num /= 4  # num = num / 4 → 6.0\n",
        "num %= 4  # num = num % 4 → 2.0\n",
        "num **= 3 # num = num ** 3 → 8.0\n",
        "print(num)"
      ],
      "metadata": {
        "id": "Cdj6pA1yJV7M"
      },
      "execution_count": null,
      "outputs": []
    },
    {
      "cell_type": "code",
      "source": [
        "# 아보가드로 상수 (6.02 × 10^23)\n",
        "# `e`는 10의 거듭제곱을 의미합니다.\n",
        "# 예를 들어, `6.02e23`은 `6.02 × 10^23`을 의미합니다.\n",
        "avogadro_constant = 6.02e23\n",
        "print('Avogadro Constant:', avogadro_constant)\n",
        "\n",
        "# 플랑크 상수 (6.626 × 10^-34 Js)\n",
        "# `6.626e-34`는 `6.626 × 10^-34`를 의미합니다.\n",
        "planck_constant = 6.626e-34\n",
        "print('Planck Constant:', planck_constant)"
      ],
      "metadata": {
        "id": "fDvW0SgmlOzh"
      },
      "execution_count": null,
      "outputs": []
    },
    {
      "cell_type": "markdown",
      "source": [
        "빛의 속도, 전자의 전하량 변수를 저장하고 출력해보세요.\n",
        "아래에 코드 블럭을 새로 만들어 해보세요.\n"
      ],
      "metadata": {
        "id": "zjekPht2ls_2"
      }
    },
    {
      "cell_type": "markdown",
      "source": [
        "##조건문 (Conditional Statements)\n",
        "조건문을 사용하면 특정 조건에 따라 프로그램의 흐름을 제어할 수 있습니다. if, elif, else 문을 활용하여 다양한 조건을 설정할 수 있습니다.\n",
        "\n",
        "아래 코드를 실행하면서 x의 값을 변경해 보세요."
      ],
      "metadata": {
        "id": "ziMsCL0FJyLc"
      }
    },
    {
      "cell_type": "code",
      "source": [
        "x = 10  # x 값을 변경하며 테스트해보세요.\n",
        "\n",
        "if x > 0:\n",
        "    print(\"x는 양수입니다.\")\n",
        "elif x == 0:\n",
        "    print(\"x는 0입니다.\")\n",
        "else:\n",
        "    print(\"x는 음수입니다.\")\n"
      ],
      "metadata": {
        "id": "Ml6yKttHJz7i"
      },
      "execution_count": null,
      "outputs": []
    },
    {
      "cell_type": "markdown",
      "source": [
        "조건문 설명\n",
        "- if : 조건이 참(True)일 경우 실행됩니다.\n",
        "- elif : 추가적인 조건을 설정할 때 사용됩니다.\n",
        "- else : 위의 조건이 모두 거짓(False)일 경우 실행됩니다."
      ],
      "metadata": {
        "id": "8AjQ5GQ2J4Hc"
      }
    },
    {
      "cell_type": "markdown",
      "source": [
        "## 반복문 (Loops)\n",
        "반복문을 사용하면 특정 코드 블록을 여러 번 실행할 수 있습니다. Python에서는 `for` 루프와 `while` 루프의 두 가지 주요 반복문이 있습니다.\n",
        "\n",
        "###1. `for` 반복문\n",
        "`for` 루프는 리스트(List), 튜플(Tuple), 문자열(String) 등의 요소를 하나씩 순회할 때 사용됩니다.\n",
        "\n",
        "예제 1: 리스트 반복"
      ],
      "metadata": {
        "id": "HYa6d5HbJ945"
      }
    },
    {
      "cell_type": "code",
      "source": [
        "# List 반복\n",
        "fruits = [\"apple\", \"banana\", \"cherry\"]\n",
        "\n",
        "for fruit in fruits:\n",
        "    print(fruit)"
      ],
      "metadata": {
        "id": "cmP02QAKKJAD"
      },
      "execution_count": null,
      "outputs": []
    },
    {
      "cell_type": "markdown",
      "source": [
        "💡 설명: 리스트 fruits의 각 요소를 fruit 변수에 저장하며 순차적으로 출력합니다.\n",
        "\n",
        "예제 2: 숫자 범위 반복 (`range()`)"
      ],
      "metadata": {
        "id": "SN-8Z-RuKP8W"
      }
    },
    {
      "cell_type": "code",
      "source": [
        "for i in range(5):  # 0부터 4까지 반복 (5번)\n",
        "    print(f\"반복 횟수: {i}\")"
      ],
      "metadata": {
        "id": "S1NdjGQ7KUwn"
      },
      "execution_count": null,
      "outputs": []
    },
    {
      "cell_type": "markdown",
      "source": [
        "💡 설명: range(5)는 0, 1, 2, 3, 4의 값을 생성하며, i가 해당 값을 순서대로 받으며 실행됩니다.\n",
        "\n",
        "---\n",
        "###2. `while` 반복문\n",
        "`while` 루프는 특정 조건이 참(True) 인 동안 계속 실행됩니다.\n",
        "\n",
        "예제 3: 조건을 만족할 때까지 반복\n",
        "\n"
      ],
      "metadata": {
        "id": "tPiQRz6RKWiz"
      }
    },
    {
      "cell_type": "code",
      "source": [
        "x = 0\n",
        "\n",
        "while x < 5:\n",
        "    print(f\"x의 값: {x}\")\n",
        "    x += 1  # x 값을 1씩 증가\n"
      ],
      "metadata": {
        "id": "ylWsK20EKh78"
      },
      "execution_count": null,
      "outputs": []
    },
    {
      "cell_type": "markdown",
      "source": [
        "💡 설명: x가 5보다 작을 동안 반복되며, 반복할 때마다 x가 1씩 증가합니다.\n",
        "\n",
        "\n",
        "---\n",
        "\n",
        "\n",
        "###3. 반복문 제어 (`break` & `continue`)\n",
        "예제 4: `break` 사용 (반복문 종료)"
      ],
      "metadata": {
        "id": "Ous9jToAKiq6"
      }
    },
    {
      "cell_type": "code",
      "source": [
        "for num in range(10):\n",
        "    if num == 5:\n",
        "        print(\"반복문 종료!\")\n",
        "        break  # num이 5일 때 반복문 종료\n",
        "    print(num)\n"
      ],
      "metadata": {
        "id": "-uaZqDFwKqNf"
      },
      "execution_count": null,
      "outputs": []
    },
    {
      "cell_type": "markdown",
      "source": [
        "💡 설명: `num`이 `5`가 되면 `break`로 인해 반복문이 즉시 종료됩니다.\n",
        "\n",
        "예제 5: `continue` 사용 (특정 반복 건너뛰기)"
      ],
      "metadata": {
        "id": "LgZgnYZiKp6W"
      }
    },
    {
      "cell_type": "code",
      "source": [
        "for num in range(5):\n",
        "    if num == 2:\n",
        "        continue  # num이 2일 때만 건너뛰고 다음 반복 진행\n",
        "    print(num)\n"
      ],
      "metadata": {
        "id": "HcKgTOumK0MM"
      },
      "execution_count": null,
      "outputs": []
    },
    {
      "cell_type": "markdown",
      "source": [
        "💡 설명: `num == 2`일 때 `continue`를 만나 해당 반복을 건너뛰고, 이후 반복을 계속 진행합니다."
      ],
      "metadata": {
        "id": "qZmuElP1Kz7f"
      }
    },
    {
      "cell_type": "markdown",
      "source": [
        "##함수 (Functions)\n",
        "함수는 특정 작업을 수행하는 재사용 가능한 코드 블록입니다. Python에서는 `def` 키워드를 사용하여 함수를 정의할 수 있습니다.\n",
        "\n",
        "\n",
        "\n",
        "---\n",
        "###1. 기본 함수 정의 및 호출\n",
        "함수를 정의하고 호출하는 기본적인 방법입니다.\n"
      ],
      "metadata": {
        "id": "wn2rUtUqLEC-"
      }
    },
    {
      "cell_type": "code",
      "source": [
        "# 함수 정의\n",
        "def greet():\n",
        "    print(\"안녕하세요! 😊\")\n",
        "\n",
        "# 함수 호출\n",
        "greet()\n"
      ],
      "metadata": {
        "id": "daXunbC6LG2z"
      },
      "execution_count": null,
      "outputs": []
    },
    {
      "cell_type": "markdown",
      "source": [
        "💡 설명: `greet()` 함수를 호출하면 \"안녕하세요! 😊\"가 출력됩니다.\n",
        "\n",
        "###2. 매개변수가 있는 함수\n",
        "함수에 매개변수를 전달하여 동적으로 값을 처리할 수 있습니다."
      ],
      "metadata": {
        "id": "qMRe402cLLcR"
      }
    },
    {
      "cell_type": "code",
      "source": [
        "def greet_user(name):\n",
        "    print(f\"안녕하세요, {name}님! 😊\")\n",
        "\n",
        "# 함수 호출\n",
        "greet_user(\"철수\")\n",
        "greet_user(\"영희\")\n"
      ],
      "metadata": {
        "id": "D0LDw3jeLRwn"
      },
      "execution_count": null,
      "outputs": []
    },
    {
      "cell_type": "markdown",
      "source": [
        "💡 설명: 함수 `greet_user()`는 `name` 매개변수를 받아, 호출할 때마다 다른 이름을 출력할 수 있습니다.\n",
        "\n",
        "###3. 반환값이 있는 함수 (return)\n",
        "함수가 값을 반환하도록 만들 수도 있습니다.\n"
      ],
      "metadata": {
        "id": "zF3chOcLLUiG"
      }
    },
    {
      "cell_type": "code",
      "source": [
        "def add_numbers(a, b):\n",
        "    return a + b  # 두 수의 합을 반환\n",
        "\n",
        "# 함수 호출 및 결과 저장\n",
        "result = add_numbers(3, 7)\n",
        "print(f\"결과: {result}\")  # 출력: 결과: 10\n"
      ],
      "metadata": {
        "id": "Hx4EbNUNLhG8"
      },
      "execution_count": null,
      "outputs": []
    },
    {
      "cell_type": "markdown",
      "source": [
        "💡 설명: add_numbers() 함수는 두 숫자의 합을 반환하며, 결과를 result 변수에 저장하여 출력합니다.\n",
        "\n",
        "###4. 기본값을 가진 매개변수 (Default Parameters)\n",
        "매개변수에 기본값을 설정하면, 호출 시 인자를 생략할 수 있습니다."
      ],
      "metadata": {
        "id": "nXniSvGPLZbl"
      }
    },
    {
      "cell_type": "code",
      "source": [
        "def greet(name=\"사용자\"):\n",
        "    print(f\"안녕하세요, {name}님! 😊\")\n",
        "\n",
        "greet()  # 기본값 사용\n",
        "greet(\"민수\")  # 직접 값 전달\n"
      ],
      "metadata": {
        "id": "jzAL50akLldW"
      },
      "execution_count": null,
      "outputs": []
    },
    {
      "cell_type": "markdown",
      "source": [
        "💡 설명: `greet()`를 호출할 때 인자를 제공하지 않으면 `\"사용자\"`가 기본값으로 사용됩니다.\n",
        "\n",
        "###5. 여러 개의 반환값 (Multiple Return Values)\n",
        "함수는 여러 개의 값을 반환할 수도 있습니다."
      ],
      "metadata": {
        "id": "sVV6yeTgLouu"
      }
    },
    {
      "cell_type": "code",
      "source": [
        "def get_person():\n",
        "    name = \"철수\"\n",
        "    age = 25\n",
        "    return name, age  # 튜플 형태로 반환\n",
        "\n",
        "person_name, person_age = get_person()  # 여러 변수에 저장 가능\n",
        "print(f\"이름: {person_name}, 나이: {person_age}\")\n"
      ],
      "metadata": {
        "id": "96yWtHFiLwR-"
      },
      "execution_count": null,
      "outputs": []
    },
    {
      "cell_type": "markdown",
      "source": [
        "💡 설명: `get_person()` 함수는 이름과 나이를 반환하며, 이를 두 개의 변수로 받아 출력할 수 있습니다.\n",
        "\n",
        "###6. 가변 인자 (`*args`, `**kwargs`)\n",
        "`*args`: 여러 개의 위치 인자를 받을 때 사용\n",
        "`**kwargs`: 여러 개의 키워드 인자를 받을 때 사용"
      ],
      "metadata": {
        "id": "7XzTFSWaLw3s"
      }
    },
    {
      "cell_type": "code",
      "source": [
        "# *args 사용 (여러 개의 값 전달 가능)\n",
        "def add_all(*numbers):\n",
        "    return sum(numbers)\n",
        "\n",
        "print(add_all(1, 2, 3, 4, 5))  # 출력: 15\n",
        "\n",
        "# **kwargs 사용 (키워드 인자로 데이터 전달)\n",
        "def print_info(**info):\n",
        "    for key, value in info.items():\n",
        "        print(f\"{key}: {value}\")\n",
        "\n",
        "print_info(name=\"영희\", age=24, city=\"서울\")\n"
      ],
      "metadata": {
        "id": "ovWHm4lHL7t6"
      },
      "execution_count": null,
      "outputs": []
    },
    {
      "cell_type": "markdown",
      "source": [
        "💡 설명:\n",
        "\n",
        "`*args`는 여러 개의 숫자를 받아 합을 구할 수 있습니다.\n",
        "\n",
        "`**kwargs`는 키-값 쌍의 데이터를 받아 출력할 수 있습니다.\n",
        "\n",
        "**함수를 활용하면 코드의 재사용성을 높이고 유지보수를 쉽게 할 수 있습니다!**"
      ],
      "metadata": {
        "id": "4fLMj3rBL8MO"
      }
    },
    {
      "cell_type": "markdown",
      "source": [
        "#기타 예제"
      ],
      "metadata": {
        "id": "V3rPfu8SOvAq"
      }
    },
    {
      "cell_type": "markdown",
      "source": [
        "##문자열 (Strings)\n",
        "Python의 문자열(String)은 문자들의 연속된 집합이며, 다양한 조작이 가능합니다.\n",
        "\n",
        "1. 문자열 연결 (Concatenation)\n",
        " - `+` 연산자를 사용하여 문자열을 연결할 수 있습니다.\n",
        "2. 문자열 반복 (Repetition)\n",
        " - `*` 연산자를 사용하여 문자열을 반복할 수 있습니다.\n",
        "3. 문자열 인덱싱 (Indexing)\n",
        " - 문자열에서 특정 문자를 가져오려면 인덱스를 사용할 수 있습니다.\n",
        "Python의 인덱스는 `0`부터 시작하며, 음수 인덱스를 사용하여 뒤에서 접근할 수도 있습니다.\n",
        "4. 문자열 슬라이싱 (Slicing)\n",
        " - 문자열의 특정 부분을 추출하려면 슬라이싱(Slicing) 을 사용할 수 있습니다.\n",
        " - `[시작:끝]` → 시작 인덱스부터 끝 인덱스 직전까지 추출\n",
        " - `[시작:]` → 시작부터 끝까지 추출\n",
        " - `[:끝]` → 처음부터 끝 인덱스 직전까지 추출\n",
        "5. 문자열 포함 여부 확인 (Membership Operators)\n",
        " - `in` 연산자를 사용하여 문자열 안에 특정 문자가 포함되어 있는지 확인할 수 있습니다."
      ],
      "metadata": {
        "id": "rJdXr35SOjEW"
      }
    },
    {
      "cell_type": "code",
      "source": [
        "first_name = \"John\"\n",
        "last_name = \"Smith\"\n",
        "full_name = first_name + \" \" + last_name\n",
        "print(full_name) # Output: John Smith\n",
        "\n",
        "# Repetition\n",
        "x = \"hello\"\n",
        "y = x * 3\n",
        "print(y) # Output: hellohellohello\n",
        "\n",
        "# Indexing\n",
        "x = \"hello\"\n",
        "print(x[0]) # First element -> Output: h\n",
        "print(x[-1]) # Last element -> Output: o\n",
        "\n",
        "# Slicing\n",
        "x = \"hello\"\n",
        "print(x[1:4]) # Output: ell\n",
        "print(x[:3]) # Output: hel\n",
        "print(x[1:]) # Output: ello\n",
        "\n",
        "# Membership\n",
        "x = \"hello\"\n",
        "print(\"h\" in x) # Output: True\n",
        "print(\"z\" in x) # Output: False"
      ],
      "metadata": {
        "id": "S5F5RrjQPbOI"
      },
      "execution_count": null,
      "outputs": []
    },
    {
      "cell_type": "markdown",
      "source": [
        "## 📌 리스트 (Lists)\n",
        "Python의 리스트(List)는 여러 개의 값을 저장할 수 있는 **변경 가능한(mutable) 데이터 구조**입니다.  \n",
        "\n",
        "1. 인덱싱 (Indexing)\n",
        " - 리스트에서 특정 요소를 가져올 때 인덱스를 사용합니다.  \n",
        " - `0`부터 시작하며, 음수 인덱스를 사용하여 뒤에서 접근할 수도 있습니다.  \n",
        "\n",
        "2. 슬라이싱 (Slicing)\n",
        " - 리스트의 특정 부분을 추출하려면 슬라이싱을 사용할 수 있습니다.  \n",
        " - `[시작:끝]` → 시작 인덱스부터 끝 인덱스 **직전**까지 추출  \n",
        "\n",
        "3. 포함 여부 확인 (Membership Operators)\n",
        " - `in` 연산자를 사용하여 리스트 안에 특정 요소가 포함되어 있는지 확인할 수 있습니다.  \n",
        "\n",
        "4. 리스트 길이 확인 (Length)\n",
        " - `len()` 함수를 사용하여 리스트의 요소 개수를 확인할 수 있습니다.  \n",
        "\n",
        "5. 요소 추가 (Append & Insert)\n",
        " - `append()` : 리스트의 **끝**에 요소를 추가합니다.  \n",
        " - `insert(인덱스, 값)` : 특정 **위치**에 요소를 삽입합니다.  \n",
        "\n",
        "6. 요소 제거 (Remove & Pop)\n",
        " - `remove(값)` : 특정 요소를 찾아서 제거합니다.  \n",
        " - `pop()` : 리스트의 마지막 요소를 제거하고 반환합니다. (인덱스를 지정하면 특정 위치의 요소를 제거 가능)  \n"
      ],
      "metadata": {
        "id": "M_RMXwlcQCbo"
      }
    },
    {
      "cell_type": "code",
      "source": [
        "# Indexing\n",
        "fruits = [\"apple\", \"banana\", \"cherry\"]\n",
        "print(fruits[0]) # Output: apple\n",
        "print(fruits[-1]) # Output: cherry\n",
        "\n",
        "# Slicing\n",
        "fruits = [\"apple\", \"banana\", \"cherry\"]\n",
        "print(fruits[1:3]) # Output: ['banana', 'cherry']\n",
        "\n",
        "# Membership\n",
        "fruits = [\"apple\", \"banana\", \"cherry\"]\n",
        "print(\"apple\" in fruits) # Output: True\n",
        "print(\"orange\" in fruits) # Output: False\n",
        "\n",
        "# Length\n",
        "fruits = [\"apple\", \"banana\", \"cherry\"]\n",
        "print(len(fruits)) # Output: 3\n",
        "\n",
        "# Append\n",
        "fruits = [\"apple\", \"banana\", \"cherry\"]\n",
        "fruits.append(\"orange\")\n",
        "print(fruits) # Output: ['apple', 'banana', 'cherry', 'orange']\n",
        "\n",
        "# Insert\n",
        "fruits = [\"apple\", \"banana\", \"cherry\"]\n",
        "fruits.insert(1, \"orange\")\n",
        "print(fruits) # Output: ['apple', 'orange', 'banana', 'cherry']\n",
        "\n",
        "# Remove\n",
        "fruits = [\"apple\", \"banana\", \"cherry\"]\n",
        "fruits.remove(\"banana\")\n",
        "print(fruits) # Output: ['apple', 'cherry']\n",
        "\n",
        "# Pop\n",
        "fruits = [\"apple\", \"banana\", \"cherry\"]\n",
        "x = fruits.pop()\n",
        "print(x) # Output: cherry\n",
        "print(fruits) # Output: ['apple', 'banana']"
      ],
      "metadata": {
        "id": "7S65cI0YQcZB"
      },
      "execution_count": null,
      "outputs": []
    },
    {
      "cell_type": "markdown",
      "source": [
        "##튜플 (Tuples)\n",
        "Python의 튜플(Tuple)은 **변경할 수 없는(Immutable) 데이터 구조**로, 여러 개의 값을 저장할 수 있습니다.  \n",
        "\n",
        "1. 인덱싱 (Indexing)\n",
        " - 튜플에서 특정 요소를 가져올 때 **인덱스**를 사용할 수 있습니다.  \n",
        " - `0`부터 시작하며, **음수 인덱스**를 사용하여 뒤에서 접근할 수도 있습니다.  \n",
        "\n",
        "2. 슬라이싱 (Slicing)\n",
        " - 튜플의 특정 부분을 추출하려면 **슬라이싱(Slicing)** 을 사용할 수 있습니다.  \n",
        " - `[시작:끝]` → 시작 인덱스부터 끝 인덱스 **직전**까지 추출  \n",
        "\n",
        "3. 포함 여부 확인 (Membership Operators)\n",
        " - `in` 연산자를 사용하여 튜플 안에 특정 요소가 포함되어 있는지 확인할 수 있습니다.  \n",
        "\n",
        "4. 튜플 길이 확인 (Length)\n",
        " - `len()` 함수를 사용하여 튜플의 요소 개수를 확인할 수 있습니다.  \n"
      ],
      "metadata": {
        "id": "ASQmgusdQix6"
      }
    },
    {
      "cell_type": "code",
      "source": [
        "# Indexing\n",
        "person = (\"John\", \"Doe\", 30)\n",
        "print(person[0]) # Output: John\n",
        "print(person[-1]) # Output: 30\n",
        "\n",
        "# Slicing\n",
        "person = (\"John\", \"Doe\", 30)\n",
        "print(person[1:3]) # Output: ('Doe', 30)\n",
        "\n",
        "# Membership\n",
        "person = (\"John\", \"Doe\", 30)\n",
        "print(\"John\" in person) # Output: True\n",
        "print(\"Jane\" in person) # Output: False\n",
        "\n",
        "# Length\n",
        "person = (\"John\", \"Doe\", 30)\n",
        "print(len(person)) # Output: 3"
      ],
      "metadata": {
        "id": "KllQaW4dQiXo"
      },
      "execution_count": null,
      "outputs": []
    },
    {
      "cell_type": "markdown",
      "source": [
        "##딕셔너리 (Dictionaries)\n",
        "Python의 딕셔너리(Dictionary)는 **키(Key)와 값(Value)의 쌍**으로 데이터를 저장하는 **변경 가능한(mutable) 데이터 구조**입니다.\n",
        "\n",
        "1. 인덱싱 (Indexing)\n",
        " - 키(Key)를 사용하여 해당 값을 가져올 수 있습니다.\n",
        "\n",
        "2. 포함 여부 확인 (Membership Operators)\n",
        " - `in` 연산자를 사용하여 딕셔너리 안에 특정 **키(Key)** 가 포함되어 있는지 확인할 수 있습니다.  \n",
        " - 값(Value)이 아닌 키(Key)를 기준으로 검사합니다.\n",
        "\n",
        "3. 딕셔너리 길이 확인 (Length)\n",
        " - `len()` 함수를 사용하여 딕셔너리에 포함된 **키-값 쌍의 개수**를 확인할 수 있습니다.\n",
        "\n",
        "4. 키-값 쌍 추가 (Adding Key-Value Pairs)\n",
        " - `[키] = 값` 형식으로 새로운 키-값 쌍을 추가할 수 있습니다.\n",
        "\n",
        "5. 값 수정 (Modifying Values)\n",
        " - 기존 키에 새로운 값을 할당하여 값을 수정할 수 있습니다.\n",
        "\n",
        "6. 키-값 쌍 삭제 (Removing Key-Value Pairs)\n",
        " - `del` 키워드를 사용하여 특정 키-값 쌍을 삭제할 수 있습니다.\n"
      ],
      "metadata": {
        "id": "gjIhmAuHRBKG"
      }
    },
    {
      "cell_type": "code",
      "source": [
        "# Indexing\n",
        "person = {\n",
        "    \"first_name\": \"John\",\n",
        "    \"last_name\": \"Doe\",\n",
        "    \"age\": 30\n",
        "}\n",
        "print(person[\"first_name\"]) # Output: John\n",
        "\n",
        "# Membership\n",
        "person = {\n",
        "    \"first_name\": \"John\",\n",
        "    \"last_name\": \"Doe\",\n",
        "    \"age\": 30\n",
        "}\n",
        "print(\"first_name\" in person) # Output: True\n",
        "print(\"email\" in person) # Output: False\n",
        "\n",
        "# Length\n",
        "person = {\n",
        "    \"first_name\": \"John\",\n",
        "    \"last_name\": \"Doe\",\n",
        "    \"age\": 30\n",
        "}\n",
        "print(len(person)) # Output: 3\n",
        "\n",
        "# Adding key-value pairs\n",
        "person = {\n",
        "    \"first_name\": \"John\",\n",
        "    \"last_name\": \"Doe\",\n",
        "    \"age\": 30\n",
        "}\n",
        "person[\"email\"] = \"johndoe@email.com\"\n",
        "print(person) # Output: {'first_name': 'John', 'last_name': 'Doe', 'age': 30, 'email': 'johndoe@email.com'}\n",
        "\n",
        "# Modifying values\n",
        "person = {\n",
        "    \"first_name\": \"John\",\n",
        "    \"last_name\": \"Doe\",\n",
        "    \"age\": 30\n",
        "}\n",
        "person[\"first_name\"] = \"Jane\"\n",
        "print(person) # Output: {'first_name': 'Jane', 'last_name': 'Doe', 'age': 30}\n",
        "\n",
        "# Removing key-value pairs\n",
        "person = {\n",
        "    \"first_name\": \"John\",\n",
        "    \"last_name\": \"Doe\",\n",
        "    \"age\": 30\n",
        "}\n",
        "del person[\"age\"]\n",
        "print(person) # Output: {'first_name': 'John', 'last_name': 'Doe'}"
      ],
      "metadata": {
        "id": "OisK4g08QiUU"
      },
      "execution_count": null,
      "outputs": []
    },
    {
      "cell_type": "markdown",
      "source": [
        "## 집합 (Sets)\n",
        "Python의 **집합(Set)** 은 **중복을 허용하지 않고, 순서가 없는 데이터 구조**입니다.  \n",
        "수학에서의 집합 개념과 유사하며, 집합 연산(합집합, 교집합, 차집합 등)을 수행할 수 있습니다.\n",
        "\n",
        "---\n",
        "\n",
        "1. 집합 생성 (Creating a Set)\n",
        " - `{}` 또는 `set()`을 사용하여 집합을 생성할 수 있습니다.\n",
        " - 중복된 값은 자동으로 제거됩니다.\n",
        "\n",
        "2. 요소 추가 및 삭제 (Adding & Removing Elements)\n",
        " - `.add(값)` : 집합에 요소 추가  \n",
        " - `.remove(값)` : 특정 요소 제거 (존재하지 않는 값 제거 시 오류 발생)  \n",
        " - `.discard(값)` : 특정 요소 제거 (존재하지 않는 값이어도 오류 없음)  \n",
        " - `.clear()` : 모든 요소 삭제  \n",
        "\n",
        "3. 집합 연산 (Set Operations)\n",
        " - `|` 또는 `.union(set2)` : 합집합 (두 집합의 모든 요소)  \n",
        " - `&` 또는 `.intersection(set2)` : 교집합 (두 집합의 공통 요소)  \n",
        " - `-` 또는 `.difference(set2)` : 차집합 (첫 번째 집합에서 두 번째 집합 요소 제외)  \n",
        " - `^` 또는 `.symmetric_difference(set2)` : 대칭 차집합 (두 집합에서 겹치지 않는 요소들)  \n",
        "\n",
        "4. 포함 여부 확인 (Membership Operators)\n",
        " - `in` 연산자를 사용하여 특정 요소가 집합에 포함되어 있는지 확인할 수 있습니다.\n",
        "\n",
        "5. 집합 크기 확인 (Length)\n",
        " - `len()` 함수를 사용하여 집합의 요소 개수를 확인할 수 있습니다.\n"
      ],
      "metadata": {
        "id": "y7hkL3nzVAOq"
      }
    },
    {
      "cell_type": "code",
      "source": [
        "fruits = {\"apple\", \"banana\", \"cherry\", \"apple\"}  # 중복된 'apple'은 자동으로 제거됨\n",
        "print(fruits)  # Output: {'banana', 'apple', 'cherry'}\n",
        "\n",
        "numbers = set([1, 2, 3, 3, 4])  # 리스트를 집합으로 변환\n",
        "print(numbers)  # Output: {1, 2, 3, 4}\n",
        "\n",
        "\n",
        "fruits = {\"apple\", \"banana\", \"cherry\"}\n",
        "fruits.add(\"orange\")  # 요소 추가\n",
        "print(fruits)  # Output: {'banana', 'cherry', 'orange', 'apple'}\n",
        "\n",
        "fruits.remove(\"banana\")  # 요소 제거\n",
        "print(fruits)  # Output: {'cherry', 'orange', 'apple'}\n",
        "\n",
        "fruits.discard(\"grape\")  # 존재하지 않는 요소를 제거 (오류 없음)\n",
        "print(fruits)  # Output: {'cherry', 'orange', 'apple'}\n",
        "\n",
        "fruits.clear()  # 모든 요소 삭제\n",
        "print(fruits)  # Output: set()\n",
        "\n",
        "\n",
        "set_a = {1, 2, 3, 4}\n",
        "set_b = {3, 4, 5, 6}\n",
        "\n",
        "print(set_a | set_b)  # 합집합: {1, 2, 3, 4, 5, 6}\n",
        "print(set_a & set_b)  # 교집합: {3, 4}\n",
        "print(set_a - set_b)  # 차집합: {1, 2}\n",
        "print(set_a ^ set_b)  # 대칭 차집합: {1, 2, 5, 6}\n",
        "\n",
        "fruits = {\"apple\", \"banana\", \"cherry\"}\n",
        "print(\"apple\" in fruits)  # Output: True\n",
        "print(\"grape\" in fruits)  # Output: False\n",
        "\n",
        "fruits = {\"apple\", \"banana\", \"cherry\"}\n",
        "print(len(fruits))  # Output: 3\n"
      ],
      "metadata": {
        "id": "orqqMXvKU_-x"
      },
      "execution_count": null,
      "outputs": []
    },
    {
      "cell_type": "markdown",
      "source": [
        "이번 내용은 Python 프로그래밍의 기초에 대한 간단한 소개입니다.  \n",
        "Python에는 더 많은 고급 기능과 개념이 존재하지만, 이번 기본 내용을 익히면 시작하는 데 큰 도움이 될 것입니다.  \n",
        "\n",
        "💡 **더 많은 연습이 필요하다면?**  \n",
        "Python 프로그래밍의 기초를 더 연습하고 싶다면 **[Kaggle Learn](https://www.kaggle.com/learn)**의  \n",
        " *Intro to Programming* 및 *Python* 코스를 참고해 보세요!\n"
      ],
      "metadata": {
        "id": "-nXMkOKOQiHC"
      }
    },
    {
      "cell_type": "code",
      "source": [],
      "metadata": {
        "id": "zUjg08qNRY-4"
      },
      "execution_count": null,
      "outputs": []
    }
  ]
}