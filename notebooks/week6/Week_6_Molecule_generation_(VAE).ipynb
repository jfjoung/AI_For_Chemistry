{
  "nbformat": 4,
  "nbformat_minor": 0,
  "metadata": {
    "colab": {
      "provenance": [],
      "authorship_tag": "ABX9TyM5DFm8ghhAY7La2Sva9nTw"
    },
    "kernelspec": {
      "name": "python3",
      "display_name": "Python 3"
    },
    "language_info": {
      "name": "python"
    }
  },
  "cells": [
    {
      "cell_type": "markdown",
      "source": [
        "<a href=\"https://colab.research.google.com/github/jfjoung/AI_For_Chemistry/blob/main/Week_6_Introduction_to_AI_with_Python.ipynb\" target=\"_parent\"><img src=\"https://colab.research.google.com/assets/colab-badge.svg\" alt=\"Open In Colab\"/></a>"
      ],
      "metadata": {
        "id": "ACLlr87NaySR"
      }
    },
    {
      "cell_type": "markdown",
      "source": [
        "## 🎯 학습 목표\n",
        "\n",
        "- **분자 생성 모델(Molecular Generative Models)**의 개념과 **화학에서의 활용 사례**를 이해한다.  \n",
        "- **SMILES 기반의 분자 표현 방식**과 이를 활용한 **생성 모델 학습 방법**을 학습한다.  \n",
        "- **Recurrent Neural Networks (RNNs)**를 활용한 **SMILES 생성 모델**의 구조와 작동 원리를 이해한다.  \n",
        "- **RNN 학습을 위한 데이터 전처리** 및 **문자열 생성 방식(greedy sampling, multinomial sampling)**의 차이를 배운다.  \n",
        "- 실습을 통해 **훈련된 분자 생성 모델을 평가**하고, **생성된 분자의 유효성(validity), 고유성(novelty), 다양성(diversity)** 등의 지표를 통해 모델 성능을 해석한다.  \n",
        "- **화학적으로 타당한 분자 생성**을 위한 모델 개선 방향(예: 조건부 생성, graph-based 모델 등)에 대해 간단히 고찰한다.  \n"
      ],
      "metadata": {
        "id": "Uqis1shzayP1"
      }
    },
    {
      "cell_type": "code",
      "source": [],
      "metadata": {
        "id": "b5vq9SPOayCR"
      },
      "execution_count": null,
      "outputs": []
    },
    {
      "cell_type": "code",
      "execution_count": null,
      "metadata": {
        "id": "lgdOs09UaxYH"
      },
      "outputs": [],
      "source": []
    }
  ]
}