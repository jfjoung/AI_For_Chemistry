{
  "cells": [
    {
      "cell_type": "markdown",
      "metadata": {
        "id": "EsqhciVlxFDR"
      },
      "source": [
        "<a href=\"https://colab.research.google.com/github/jfjoung/AI_For_Chemistry/blob/main/notebooks/week1/Week_1_Introduction_to_AI_with_Python.ipynb\" target=\"_parent\"><img src=\"https://colab.research.google.com/assets/colab-badge.svg\" alt=\"Open In Colab\"/></a>\n"
      ]
    },
    {
      "cell_type": "markdown",
      "metadata": {
        "id": "TtNSIzfPF_F2"
      },
      "source": [
        "📚 목표\n",
        "\n",
        "-주피터 노트북 환경에 익숙해지기\n",
        "\n",
        "-간단한 AI 예제를 통해 AI의 강력함을 경험하기\n",
        "\n",
        "-코드 셀과 텍스트 셀을 활용해보며 노트북을 탐험하기\n",
        "\n",
        "# 🤖 **AI의 첫걸음: Hello AI!**"
      ]
    },
    {
      "cell_type": "markdown",
      "metadata": {
        "id": "RvDnVSvkHukh"
      },
      "source": [
        "##Jupyter 노트북\n",
        "Jupyter 노트북은 웹 기반의 대화형 컴퓨팅 플랫폼으로, 코드 실행, 수식 작성, 시각화, 설명 텍스트 등을 포함하는 문서를 만들고 공유할 수 있습니다. 주로 데이터 분석, 과학 계산, 머신러닝 등의 분야에서 사용됩니다. Jupyter 노트북을 시작하는 방법은 다음과 같습니다.\n",
        "\n",
        "1. 코드 실행\n",
        "Jupyter 노트북에서는 코드 셀(cell)에 코드를 작성하고 실행할 수 있습니다. 실행하려면 해당 셀을 클릭한 후 Shift + Enter를 누르거나 툴바의 \"Run\" 버튼을 클릭하세요.\n",
        "\n",
        "2. 마크다운(Markdown) 셀\n",
        "코드 셀 외에도 설명을 작성할 수 있는 마크다운(Markdown) 셀을 추가할 수 있습니다. 마크다운 문법을 활용하면 제목, 목록, 링크 등을 손쉽게 작성할 수 있습니다.\n",
        "\n",
        "3. 저장 및 내보내기\n",
        "노트북을 저장하려면 툴바에서 \"Save\" 버튼을 클릭하세요. Jupyter 노트북 파일의 확장자는 .ipynb이며, HTML, PDF 등의 다른 형식으로 내보낼 수도 있습니다.\n",
        "\n",
        "4. 주요 단축키\n",
        "Jupyter 노트북에는 작업 속도를 높여주는 다양한 단축키가 있습니다.\n",
        "\n",
        "- Esc: 명령 모드로 전환\n",
        "- Enter: 편집 모드로 전환\n",
        "- b: 현재 셀 아래에 새로운 셀 추가\n",
        "- a: 현재 셀 위에 새로운 셀 추가\n",
        "- dd: 현재 셀 삭제\n",
        "\n",
        "---\n",
        "##Google Colab\n",
        "Google Colab(콜랩)은 Jupyter 노트북을 별도의 설치 없이 바로 사용할 수 있도록 지원하는 서비스입니다. 다운로드나 환경 설정 없이 온라인에서 바로 다른 사람과 협업하며 Jupyter 노트북을 실행할 수 있습니다.\n",
        "\n",
        "\n"
      ]
    },
    {
      "cell_type": "markdown",
      "metadata": {
        "id": "oMLvHVudGqjg"
      },
      "source": [
        "**1. AI가 멋진 말을 해봅니다!**"
      ]
    },
    {
      "cell_type": "code",
      "execution_count": null,
      "metadata": {
        "id": "ojkA7X93F4pP"
      },
      "outputs": [],
      "source": [
        "# random 기능을 수행하는 라이브러리를 불러옵니다.\n",
        "import random\n",
        "\n",
        "# 다양한 메시지를 저장한 리스트입니다.\n",
        "messages = [\n",
        "    \"AI는 미래입니다! 🚀\",  # AI의 미래를 강조하는 메시지\n",
        "    \"머신러닝과 함께라면 불가능은 없습니다! 🌟\",  # 머신러닝의 가능성을 강조\n",
        "    \"데이터는 새로운 석유입니다! 💡\",  # 데이터의 중요성을 비유\n",
        "    \"AI와 함께라면 당신의 아이디어는 현실이 됩니다! 🤖\"  # AI의 강력함을 나타냄\n",
        "]\n",
        "\n",
        "# 리스트에서 무작위로 하나의 메시지를 선택하여 출력합니다.\n",
        "print(random.choice(messages))\n"
      ]
    },
    {
      "cell_type": "markdown",
      "metadata": {
        "id": "RXdKyq_YF-cP"
      },
      "source": [
        "👉 실행 (Shift + Enter)"
      ]
    },
    {
      "cell_type": "markdown",
      "metadata": {
        "id": "eJslmg_6HIwO"
      },
      "source": [
        "**2. 사용자 상호작용 예제**"
      ]
    },
    {
      "cell_type": "code",
      "execution_count": null,
      "metadata": {
        "id": "vDGI60XlHKnh"
      },
      "outputs": [],
      "source": [
        "# 사용자로부터 입력을 받을 수 있는 기능을 사용합니다.\n",
        "name = input(\"당신의 이름은 무엇인가요? \")  # 이름을 입력받습니다.\n",
        "\n",
        "# 입력받은 이름을 활용해 환영 메시지를 출력합니다.\n",
        "print(f\"반가워요, {name}! AI와 함께 멋진 여정을 시작해봅시다! 🚀\")\n"
      ]
    },
    {
      "cell_type": "markdown",
      "metadata": {
        "id": "8dT0oQXeHNJA"
      },
      "source": [
        "👉 실행 (Shift + Enter)"
      ]
    },
    {
      "cell_type": "markdown",
      "metadata": {
        "id": "nDagfFfWHAiC"
      },
      "source": [
        "**3. 데이터 시각화 예제**"
      ]
    },
    {
      "cell_type": "code",
      "execution_count": null,
      "metadata": {
        "id": "s7A-MHnCG91a"
      },
      "outputs": [],
      "source": [
        "# 데이터 시각화를 위한 라이브러리를 불러옵니다.\n",
        "import matplotlib.pyplot as plt\n",
        "\n",
        "# X축에 사용할 데이터를 정의합니다.\n",
        "x = [1, 2, 3, 4, 5]  # X축 데이터 포인트\n",
        "\n",
        "# Y축에 사용할 데이터를 정의합니다.\n",
        "y = [10, 20, 25, 30, 40]  # Y축 데이터 포인트\n",
        "\n",
        "# 그래프를 그립니다.\n",
        "plt.plot(x, y)  # X축과 Y축 데이터를 연결하는 선 그래프를 그립니다.\n",
        "\n",
        "# 그래프에 제목을 추가합니다.\n",
        "plt.title(\"Simple graph\")  # 그래프 제목\n",
        "\n",
        "# X축에 라벨을 추가합니다.\n",
        "plt.xlabel(\"X axis\")  # X축 설명\n",
        "\n",
        "# Y축에 라벨을 추가합니다.\n",
        "plt.ylabel(\"Y axis축\")  # Y축 설명\n",
        "\n",
        "# 그래프를 화면에 표시합니다.\n",
        "plt.show()  # 그래프 출력\n"
      ]
    },
    {
      "cell_type": "markdown",
      "metadata": {
        "id": "d_pUwiqFHdoU"
      },
      "source": [
        "👉 실행 (Shift + Enter)"
      ]
    },
    {
      "cell_type": "markdown",
      "metadata": {
        "id": "ttquN4K2IQSS"
      },
      "source": [
        "\n",
        "# **🧪 RDKit으로 아스피린(Aspirin) 구조 그리기**\n",
        "\n",
        "RDKit는 화학 물질의 구조를 그리는 데 사용되는 강력한 라이브러리입니다. 아래 코드를 통해 아스피린의 구조를 시각화해보겠습니다.\n",
        "\n"
      ]
    },
    {
      "cell_type": "markdown",
      "metadata": {
        "id": "awktj9fgIrIM"
      },
      "source": [
        "**4. RDKit 설치 및 임포트**"
      ]
    },
    {
      "cell_type": "code",
      "execution_count": null,
      "metadata": {
        "id": "U4Q0uNS8IQIA"
      },
      "outputs": [],
      "source": [
        "# RDKit 설치 (Google Colab 전용)\n",
        "!pip install rdkit"
      ]
    },
    {
      "cell_type": "markdown",
      "metadata": {
        "id": "GC4Z5dr3I0KS"
      },
      "source": [
        "👉 실행 (Shift + Enter)"
      ]
    },
    {
      "cell_type": "markdown",
      "metadata": {
        "id": "HR2E7JfuI4T1"
      },
      "source": [
        "**5. 아스피린 구조 그리기**"
      ]
    },
    {
      "cell_type": "code",
      "execution_count": null,
      "metadata": {
        "id": "F23vsgxiIQFy"
      },
      "outputs": [],
      "source": [
        "# RDKit 라이브러리 불러오기\n",
        "from rdkit import Chem  # 화학 구조 처리 라이브러리\n",
        "from rdkit.Chem import Draw  # 화학 구조 시각화 라이브러리\n",
        "\n",
        "# 아스피린의 SMILES 문자열\n",
        "aspirin_smiles = \"CC(=O)Oc1ccccc1C(=O)O\"  # 아스피린 구조를 나타내는 SMILES 코드\n",
        "# SMILES 문자열을 사용하여 화합물 객체 생성\n",
        "aspirin_molecule = Chem.MolFromSmiles(aspirin_smiles)\n",
        "\n",
        "# 아스피린 구조 그리기\n",
        "Draw.MolToImage(aspirin_molecule, size=(300, 300))\n"
      ]
    },
    {
      "cell_type": "markdown",
      "metadata": {
        "id": "z-MXDIgBI991"
      },
      "source": [
        "👉 실행 (Shift + Enter)"
      ]
    },
    {
      "cell_type": "markdown",
      "metadata": {
        "id": "oXffnJsFHgmJ"
      },
      "source": [
        "**6. 주피터 노트북 사용법 복습**\n",
        "\n",
        "\\#: 한 줄 주석입니다. 코드 설명이나 메모를 작성할 때 사용합니다.\n",
        "\n",
        "import: 라이브러리를 불러와서 사용할 수 있게 해줍니다.\n",
        "\n",
        "print(): 화면에 메시지나 값을 출력합니다.\n",
        "\n",
        "input(): 사용자로부터 데이터를 입력받습니다.\n",
        "\n",
        "plt.plot(): 데이터를 그래프로 그립니다.\n",
        "\n",
        "RDKit 설치: !pip install rdkit로 라이브러리를 설치합니다.\n",
        "\n",
        "SMILES 문자열: 아스피린의 화학 구조를 나타내는 표준 문자열입니다.\n",
        "\n",
        "MolFromSmiles: SMILES 문자열을 분자 객체로 변환합니다.\n",
        "\n",
        "Draw.MolToImage: 분자 객체를 이미지로 변환하고 표시합니다."
      ]
    }
  ],
  "metadata": {
    "colab": {
      "authorship_tag": "ABX9TyNpPGxtbyNQgh2bczFjGqxH",
      "provenance": []
    },
    "kernelspec": {
      "display_name": "Python 3",
      "name": "python3"
    },
    "language_info": {
      "name": "python"
    }
  },
  "nbformat": 4,
  "nbformat_minor": 0
}
