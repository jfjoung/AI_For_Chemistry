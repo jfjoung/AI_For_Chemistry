{
  "cells": [
    {
      "cell_type": "markdown",
      "metadata": {
        "id": "5vemEI0NyqC0"
      },
      "source": [
        "<a href=\"https://colab.research.google.com/github/jfjoung/AI_For_Chemistry/blob/main/notebooks/week1/Week_1_Pandas_Basics.ipynb\" target=\"_parent\"><img src=\"https://colab.research.google.com/assets/colab-badge.svg\" alt=\"Open In Colab\"/></a>\n"
      ]
    },
    {
      "cell_type": "markdown",
      "metadata": {
        "id": "G5ADEhm5SQ5Y"
      },
      "source": [
        "## 🎯 **학습 목표:**\n",
        "- Pandas의 기본 개념과 데이터 프레임(DataFrame)의 구조를 이해한다.\n",
        "- Pandas를 사용하여 데이터를 로드하고, 탐색하며, 조작하는 방법을 익힌다.\n",
        "- 데이터 필터링, 정렬, 그룹화 등의 기본 연산을 수행할 수 있다.\n",
        "- 간단한 실습을 통해 Pandas를 활용한 데이터 분석 기초를 다진다.\n"
      ]
    },
    {
      "cell_type": "markdown",
      "metadata": {
        "id": "J_-TNsfbSZiF"
      },
      "source": [
        "## 📌 Python Essentials - Files and Pandas\n",
        "이제 기본 기능을 익혔다면, **파일을 읽고 쓰는 방법**과  \n",
        "**Pandas, Matplotlib 등의 일반적인 패키지 활용법**을 살펴보겠습니다.  \n",
        "\n",
        "---\n",
        "\n",
        "### 📌 **파일 읽기 및 쓰기 (Reading and Writing Files)**\n",
        "파일을 읽고 쓰는 기능은 프로그래밍에서 매우 중요합니다.  \n",
        "예를 들어, 다음과 같은 분자 리스트가 있다고 가정해 보겠습니다.\n",
        "\n",
        "```python\n",
        "molecules = ['Amigdalin', 'Fenfuram', 'Estradiol', '2-Methylbutanol']\n",
        "```\n",
        "이 리스트를 텍스트 파일로 저장하여, 각 분자 이름을 한 줄씩 기록하려면 어떻게 해야 할까요?\n",
        "이를 위해 다음 코드를 실행할 수 있습니다."
      ]
    },
    {
      "cell_type": "code",
      "execution_count": null,
      "metadata": {
        "id": "vh4OTsHkR_lN"
      },
      "outputs": [],
      "source": [
        "# 분자 이름이 포함된 리스트 생성\n",
        "molecules = ['Amigdalin', 'Fenfuram', 'Estradiol', '2-Methylbutanol']\n",
        "\n",
        "# 'molecules.txt'라는 파일을 쓰기 모드('w')로 열기\n",
        "# with 문을 사용하면 파일을 자동으로 닫아줌\n",
        "with open('molecules.txt', 'w') as file:\n",
        "    # 리스트의 각 요소를 줄바꿈(\\n)으로 연결하여 파일에 저장\n",
        "    file.write('\\n'.join(molecules))\n"
      ]
    },
    {
      "cell_type": "markdown",
      "metadata": {
        "id": "x0kdlx6jSl_k"
      },
      "source": [
        "💡 설명:\n",
        "\n",
        " - `open('molecules.txt', 'w')` → `'molecules.txt'` 파일을 쓰기 모드(`'w'`) 로 엽니다.\n",
        " - `'w'` 모드는 파일이 존재하면 내용을 덮어쓰고, 존재하지 않으면 새로 생성합니다.\n",
        " - `with open(...) as file`: → `with` 문을 사용하면 파일을 자동으로 닫아주므로, `file.close()`를 호출할 필요가 없습니다.\n",
        " - `'\\n'.join(molecules)` → `molecules` 리스트의 요소를 줄바꿈 문자(`\\n`) 를 사용하여 하나의 문자열로 변환합니다.\n",
        " - `file.write(...)` → 변환된 문자열을 파일에 기록합니다.\n",
        "이렇게 하면 각 분자 이름이 한 줄씩 저장된 텍스트 파일이 생성됩니다!"
      ]
    },
    {
      "cell_type": "code",
      "execution_count": null,
      "metadata": {
        "colab": {
          "base_uri": "https://localhost:8080/"
        },
        "id": "FT3mKjr5TDVK",
        "outputId": "e9384ef1-b004-435c-e2d1-25c627f64f3c"
      },
      "outputs": [
        {
          "name": "stdout",
          "output_type": "stream",
          "text": [
            "Amigdalin\n",
            "Fenfuram\n",
            "Estradiol\n",
            "2-Methylbutanol\n"
          ]
        }
      ],
      "source": [
        "print('\\n'.join(molecules))"
      ]
    },
    {
      "cell_type": "markdown",
      "metadata": {
        "id": "QPOb9OQLVpwR"
      },
      "source": [
        "이전에 생성한 `molecules.txt` 파일을 다시 읽어와 **리스트 형태로 복원**하려면 어떻게 해야 할까요?  \n",
        "파일을 읽는 방법은 파일을 쓰는 방법과 유사합니다."
      ]
    },
    {
      "cell_type": "code",
      "execution_count": null,
      "metadata": {
        "colab": {
          "base_uri": "https://localhost:8080/"
        },
        "id": "IbPiQL0hVwfl",
        "outputId": "0da48b86-ff20-403a-f6ce-1f7bbefeb22e"
      },
      "outputs": [
        {
          "name": "stdout",
          "output_type": "stream",
          "text": [
            "['Amigdalin\\n', 'Fenfuram\\n', 'Estradiol\\n', '2-Methylbutanol']\n"
          ]
        }
      ],
      "source": [
        "with open('molecules.txt', 'r') as file:\n",
        "    molecules = [molecule for molecule in file.readlines()]\n",
        "print(molecules)"
      ]
    },
    {
      "cell_type": "markdown",
      "metadata": {
        "id": "Jonho6LeV8JH"
      },
      "source": [
        "- `'molecules.txt'` → 읽고자 하는 파일의 이름입니다.\n",
        "- `'r'` 모드 → 파일을 읽기 모드로 엽니다.\n",
        "- `open()` 함수 → 파일 객체를 반환하며, 이를 통해 파일을 읽을 수 있습니다.\n",
        "- `.readlines()` → 파일 내용을 **한 줄씩 읽어 리스트로 반환**합니다.\n",
        "\n",
        "💡 **문제점: `\\n` 개행 문자 포함**  \n",
        "- `.readlines()`를 사용하면 각 줄 끝에 **개행 문자(`\\n`)** 가 포함됩니다.  \n",
        "- 이를 제거하기 위해 **`.strip()`** 메서드를 적용합니다.  \n"
      ]
    },
    {
      "cell_type": "code",
      "execution_count": null,
      "metadata": {
        "colab": {
          "base_uri": "https://localhost:8080/"
        },
        "id": "HB8rK1OYV82t",
        "outputId": "30a5040d-9142-4ef1-e60b-5a2ff242749b"
      },
      "outputs": [
        {
          "name": "stdout",
          "output_type": "stream",
          "text": [
            "['Amigdalin', 'Fenfuram', 'Estradiol', '2-Methylbutanol']\n"
          ]
        }
      ],
      "source": [
        "with open('molecules.txt', 'r') as file:\n",
        "    molecules = [molecule.strip() for molecule in file.readlines()]\n",
        "print(molecules)"
      ]
    },
    {
      "cell_type": "markdown",
      "metadata": {
        "id": "xsrRVj4MWWef"
      },
      "source": [
        "## 📌 Pandas  \n",
        "\n",
        "[Pandas](https://pandas.pydata.org/)는 Python에서 **데이터 분석 및 조작**을 위한 인기 있는 라이브러리입니다.  \n",
        "엑셀과 유사한 **테이블 형태의 데이터(DataFrame)** 를 저장하고 조작할 수 있도록 도와줍니다.  \n",
        "\n",
        "---\n",
        "\n",
        "### 📌 **Pandas를 활용한 파일 읽기 및 쓰기**  \n",
        "다음은 `pandas`를 사용하여 CSV 및 Excel 파일을 읽고 쓰는 기본적인 방법입니다.  \n",
        "\n",
        "```python\n",
        "import pandas as pd  # pandas 라이브러리 불러오기\n",
        "\n",
        "# CSV 파일 읽기\n",
        "df = pd.read_csv('file.csv')\n",
        "print(df)\n",
        "\n",
        "# Excel 파일 읽기\n",
        "df = pd.read_excel('file.xlsx')\n",
        "print(df)\n",
        "\n",
        "# CSV 파일 저장 (인덱스 제외)\n",
        "df.to_csv('file.csv', index=False)\n",
        "\n",
        "# Excel 파일 저장 (인덱스 제외)\n",
        "df.to_excel('file.xlsx', index=False)\n"
      ]
    },
    {
      "cell_type": "markdown",
      "metadata": {
        "id": "9-HutsbdWiJa"
      },
      "source": [
        "## ESOL 데이터셋  \n",
        "이제 분자가 포함된 데이터셋을 다운로드해 보겠습니다.  \n",
        "우리는 **Delaney의 Estimated SOLubility (ESOL) 데이터셋**을 사용할 것입니다.  \n",
        "이 데이터셋은 **DeepChem에서 전처리된 CSV 파일** 형식으로 제공됩니다.  \n",
        "\n",
        "---\n",
        "\n",
        "### **ESOL 데이터셋이란?**  \n",
        "- **Delaney 데이터셋**은 **작은 유기 분자의 물에 대한 용해도(Solubility)**을 포함하는 컬렉션입니다.  \n",
        "- 분자의 **실험적 용해도 값**이 기록된 데이터로,  \n",
        "  머신러닝 모델의 성능을 평가하는 **벤치마크 데이터셋**으로 자주 사용됩니다.  \n",
        "- 총 **1,084개의 분자**가 포함되어 있으며, 다음과 같은 다양한 **분자 특성**을 포함합니다.  \n",
        "  - **Solubility (용해도 값)**  \n",
        "  - **Molecular Weight (분자량)**  \n",
        "  - **Number of Atoms (원자의 개수)**  \n",
        "  - **Types of Bonds (결합의 종류)**  \n",
        "\n",
        "`.csv` 형식의 데이터를 다운로드하여 사용할 것입니다.\n"
      ]
    },
    {
      "cell_type": "code",
      "execution_count": null,
      "metadata": {
        "colab": {
          "base_uri": "https://localhost:8080/"
        },
        "id": "ejDvZcM2WWKm",
        "outputId": "ffbfefdb-b661-4b5e-f884-a57ec62b2fb7"
      },
      "outputs": [
        {
          "name": "stdout",
          "output_type": "stream",
          "text": [
            "--2025-02-10 05:55:21--  https://raw.githubusercontent.com/schwallergroup/ai4chem_course/main/notebooks/01%20-%20Basics/data/delaney-processed.csv\n",
            "Resolving raw.githubusercontent.com (raw.githubusercontent.com)... 185.199.110.133, 185.199.108.133, 185.199.109.133, ...\n",
            "Connecting to raw.githubusercontent.com (raw.githubusercontent.com)|185.199.110.133|:443... connected.\n",
            "HTTP request sent, awaiting response... 200 OK\n",
            "Length: 96698 (94K) [text/plain]\n",
            "Saving to: ‘delaney-processed.csv.1’\n",
            "\n",
            "delaney-processed.c 100%[===================>]  94.43K  --.-KB/s    in 0.09s   \n",
            "\n",
            "2025-02-10 05:55:21 (1.01 MB/s) - ‘delaney-processed.csv.1’ saved [96698/96698]\n",
            "\n"
          ]
        }
      ],
      "source": [
        "!wget \"https://raw.githubusercontent.com/schwallergroup/ai4chem_course/main/notebooks/01%20-%20Basics/data/delaney-processed.csv\""
      ]
    },
    {
      "cell_type": "markdown",
      "metadata": {
        "id": "cm4Kh6vzWuP9"
      },
      "source": [
        "💡 **설명**  \n",
        "- **`!wget`** → Jupyter Notebook 및 Google Colab에서 **터미널 명령어**를 실행할 때 사용됩니다.  \n",
        "- **`!` (느낌표)** → Python 코드가 아닌 **Shell 명령어**를 실행할 때 사용됩니다.  \n",
        "- **`wget`** → 웹에서 파일을 다운로드하는 명령어입니다.  \n",
        "- **`\"URL\"`** → 다운로드할 파일의 위치입니다.  \n",
        "\n",
        "\n",
        "Jupyter Notebook에서 터미널 명령어를 실행하는 또 다른 예시는 Python 버전 확인입니다."
      ]
    },
    {
      "cell_type": "code",
      "execution_count": null,
      "metadata": {
        "colab": {
          "base_uri": "https://localhost:8080/"
        },
        "id": "sqhXhV5cW31u",
        "outputId": "713664fd-a789-435a-e566-bacb8aad0efc"
      },
      "outputs": [
        {
          "name": "stdout",
          "output_type": "stream",
          "text": [
            "Python 3.11.11\n"
          ]
        }
      ],
      "source": [
        "!python --version"
      ]
    },
    {
      "cell_type": "markdown",
      "metadata": {
        "id": "TziVH3cDXAx8"
      },
      "source": [
        "💡 **추가 설명**  \n",
        "- 이 기능은 **Jupyter Notebook 내에서 직접 Shell 명령어를 실행**할 때 유용합니다.  \n",
        "- 별도로 터미널이나 명령 프롬프트(Command Prompt)로 전환할 필요 없이 **노트북 내에서 즉시 실행**할 수 있습니다.  \n",
        "- 단, **`!` (느낌표) 명령어는 Jupyter Notebook에서만 동작**하며, 일반 Python 스크립트에서는 사용할 수 없습니다.  \n"
      ]
    },
    {
      "cell_type": "markdown",
      "metadata": {
        "id": "jCGtbr4CXVHg"
      },
      "source": [
        "### 📌 Shell 명령어 실습  \n",
        "이제 몇 가지 **유용한 Shell 명령어**를 연습해 보겠습니다.  \n",
        "\n",
        "---\n",
        "\n",
        "💡 **유용한 Shell 명령어**  \n",
        "- **`ls`** → 현재 폴더 내 파일 목록 확인  \n",
        "- **`head file`** → 파일의 **첫 번째 몇 줄** 출력  \n",
        "- **`mv file target_location`** → 파일을 지정된 위치로 이동  \n",
        "- **`mkdir folder_name`** → 새 폴더 생성  \n",
        "\n",
        "---\n",
        "\n",
        "### ✅ **실습: Shell 명령어 사용하기**  \n",
        "아래 명령어를 실행하여 `delaney-processed.csv` 파일을 조작해 보세요.  \n",
        "\n",
        "```python\n",
        "# 1️⃣ 현재 폴더 내 파일 목록 확인\n",
        "!ls  \n",
        "\n",
        "# 2️⃣ 새로운 폴더 'data' 생성\n",
        "!mkdir data  \n",
        "\n",
        "# 3️⃣ 'delaney-processed.csv' 파일이 있는지 확인\n",
        "!ls  \n",
        "\n",
        "# 4️⃣ 'delaney-processed.csv' 파일을 'data' 폴더로 이동\n",
        "!mv delaney-processed.csv data/  \n",
        "\n",
        "# 5️⃣ 이동한 파일이 'data' 폴더 안에 있는지 확인\n",
        "!ls data  \n"
      ]
    },
    {
      "cell_type": "code",
      "execution_count": null,
      "metadata": {
        "id": "DJzpRyOFXHk9"
      },
      "outputs": [],
      "source": [
        "# 여기에 코드를 작성하세요. Shell 명령어를 사용할 때는 반드시 `!`를 앞에 붙여야 합니다.\n",
        "\n",
        "\n"
      ]
    },
    {
      "cell_type": "markdown",
      "metadata": {
        "id": "F03g-u7RX5yZ"
      },
      "source": [
        "**파일을 성공적으로 `data` 폴더로 이동했다면**, 다음 명령어를 사용하여 파일의 **첫 몇 줄**을 확인할 수 있습니다.  \n"
      ]
    },
    {
      "cell_type": "code",
      "execution_count": null,
      "metadata": {
        "id": "kir_Cbp5X73B"
      },
      "outputs": [],
      "source": [
        "!head data/delaney-processed.csv"
      ]
    },
    {
      "cell_type": "markdown",
      "metadata": {
        "id": "W928aBx3YGYv"
      },
      "source": [
        "###  Pandas로 ESOL 데이터셋 다루기  \n",
        "\n",
        "앞서 확인한 `.csv` 파일은 **콤마(`,`)로 구분된 값(Comma-Separated Values)** 형식입니다.  \n",
        "이제 Pandas를 사용하여 데이터를 **불러오고(DataFrame 생성)**, **처음 몇 개의 행을 출력**해 보겠습니다.  \n",
        "\n",
        "---\n",
        "\n",
        "✅ **해야 할 것:**  \n",
        "1️⃣ `read_csv` 함수를 사용하여 파일을 **DataFrame(`df`)** 으로 읽어오기  \n",
        "2️⃣ `df.head()` 를 사용하여 **데이터의 첫 5개 행 출력**  \n"
      ]
    },
    {
      "cell_type": "code",
      "execution_count": null,
      "metadata": {
        "id": "0rMG8vXQYIpW"
      },
      "outputs": [],
      "source": [
        "# 아직 pandas를 불러오지 않았다면, 먼저 pandas 모듈을 가져옵니다.\n",
        "\n",
        "\n",
        "\n",
        "# ESOL 데이터셋을 DataFrame으로 읽어옵니다.\n",
        "\n",
        "\n",
        "\n",
        "# DataFrame의 처음 5개 행을 확인합니다.\n"
      ]
    },
    {
      "cell_type": "code",
      "execution_count": null,
      "metadata": {
        "id": "fc-qGPv7YZvR"
      },
      "outputs": [],
      "source": [
        "# Google Colab에서 DataFrame을 인터랙티브하게 표시하려면 다음 명령어를 실행하세요.\n",
        "%load_ext google.colab.data_table\n",
        "\n",
        "# DataFrame 출력\n",
        "df\n"
      ]
    },
    {
      "cell_type": "markdown",
      "metadata": {
        "id": "FjWt_r8XYQGl"
      },
      "source": [
        "### 특정 열(Column) 다루기  \n",
        "\n",
        "이제 **DataFrame에서 특정 열을 선택하고 조작하는 방법**을 살펴보겠습니다.  \n",
        "\n",
        "**특정 열을 선택하는 방법**  \n",
        "- `df[\"컬럼명\"]` → 원하는 열을 가져올 수 있습니다.  \n",
        "- 예를 들어, **용해도(Solubility) 값이 저장된 열**을 선택하려면 다음과 같이 작성합니다.  \n",
        "  ```python\n",
        "  df[\"measured log solubility in mols per litre\"]\n",
        "```\n",
        "\n",
        "**열(Column) 연산 수행하기**  \n",
        "\n",
        "- 특정 열에 대해 다양한 연산을 수행할 수 있습니다.  \n",
        "- 예를 들어, **평균값(mean)을 계산하려면** `.mean()` 메서드를 사용합니다.  \n",
        "\n",
        "💡 **실습: 평균 용해도 구하기**  \n",
        "아래 코드 셀에서 **평균 용해도를 계산**하고, 결과를 `mean_solubility` 변수에 저장하세요!\n"
      ]
    },
    {
      "cell_type": "code",
      "execution_count": null,
      "metadata": {
        "id": "Qz5q2OYvYvMz"
      },
      "outputs": [],
      "source": [
        "# \"measured log solubility in mols per litre\" 열에 접근하기\n",
        "\n",
        "\n",
        "# 해당 열의 평균값 계산하여 변수에 저장\n"
      ]
    },
    {
      "cell_type": "markdown",
      "metadata": {
        "id": "VXi5pp2QZBEB"
      },
      "source": [
        "###  Pandas를 활용한 ESOL 데이터셋 조작  \n",
        "\n",
        "아래 예제에서는 **Pandas를 사용하여 데이터셋을 다루는 방법**을 살펴봅니다.  \n",
        "\n",
        "✅ **포함된 기능:**  \n",
        "- **조건을 기반으로 행 선택** (`boolean indexing`)  \n",
        "- **새로운 열 추가 및 값 설정**  \n",
        "- **데이터 그룹화 (`groupby`) 및 통계 계산**  \n",
        "- **DataFrame 정렬 (`sort_values`)**  \n",
        "\n",
        "---\n",
        "\n",
        "💡 **설명:**  \n",
        "\n",
        "- **`df[df[\"measured log solubility in mols per litre\"] > mean_solubility]`**  \n",
        "  → **용해도 값이 평균보다 큰 행을 선택**하여 새로운 DataFrame 생성  \n",
        "\n",
        "- **`df[\"Solubility Class\"] = \"Low\"`**  \n",
        "  → DataFrame에 **새로운 열(`Solubility Class`)을 추가**하고 기본값을 `\"Low\"`로 설정  \n",
        "\n",
        "- **`df.loc[df[\"measured log solubility in mols per litre\"] > mean_solubility, \"Solubility Class\"] = \"High\"`**  \n",
        "  → **조건을 만족하는 행에 `\"High\"` 값을 할당** (평균보다 용해도가 높은 경우)  \n",
        "\n",
        "- **`grouped = df.groupby(\"Solubility Class\")`**  \n",
        "  → `\"Solubility Class\"` 열을 기준으로 **데이터 그룹화**  \n",
        "\n",
        "- **`grouped.mean()`**  \n",
        "  → 각 그룹에 대한 **평균값 계산**  \n",
        "\n",
        "- **`df.sort_values(\"measured log solubility in mols per litre\", ascending=False, inplace=True)`**  \n",
        "  → `\"measured log solubility in mols per litre\"` 값을 기준으로 **내림차순 정렬**  \n",
        "\n",
        "---\n",
        "\n",
        "✅ **이제 Pandas를 활용하여 ESOL 데이터셋을 자유롭게 다룰 수 있습니다!**\n"
      ]
    },
    {
      "cell_type": "markdown",
      "metadata": {
        "id": "IR_n2fLyZT12"
      },
      "source": [
        "### 📌 추가적인 Pandas 기능  \n",
        "\n",
        "Pandas는 데이터 조작과 분석을 위한 강력한 기능을 제공합니다.  \n",
        "더 많은 기능은 **[공식 문서](https://pandas.pydata.org/docs/getting_started/intro_tutorials/index.html)** 에서 확인할 수 있습니다.  \n",
        "\n",
        "💡 **Tip:**  \n",
        "- 대부분의 Pandas 관련 질문은 이미 **[StackOverflow](https://stackoverflow.com/)** 에 답변이 있을 가능성이 높습니다.  \n",
        "- **[ChatGPT](https://chat.openai.com)** 를 개인 튜터처럼 활용하여 실시간 도움을 받을 수도 있습니다.  \n",
        "\n",
        "---\n",
        "\n",
        "✅ **데이터프레임 합치기 (Merging & Concatenation)**  \n",
        "\n",
        "- **두 개의 DataFrame을 공통 열을 기준으로 병합 (Merging)**  \n",
        "\n",
        "  ```python\n",
        "  df1 = df[[\"Compound ID\", \"measured log solubility in mols per litre\"]]\n",
        "  df2 = df[[\"Compound ID\", \"SMILES\"]]\n",
        "  merged = pd.merge(df1, df2, on=\"Compound ID\")\n",
        "  print(merged.head())\n",
        " ```\n",
        "\n",
        "✅ **위쪽 10개 행과 아래쪽 10개 행을 결합 (Concatenation)**  \n",
        "\n",
        "- Pandas를 사용하면 여러 개의 DataFrame을 쉽게 결합할 수 있습니다.  \n",
        "  ```python\n",
        "  df3 = df[[\"Compound ID\", \"measured log solubility in mols per litre\"]].head(10)\n",
        "  df4 = df[[\"Compound ID\", \"SMILES\"]].tail(10)\n",
        "  concatenated = pd.concat([df3, df4])\n",
        "  print(concatenated)\n",
        "```\n",
        "\n",
        "✅ **결측값 처리 (Handling Missing Values)**  \n",
        "\n",
        "- ESOL 데이터셋에는 결측값이 없지만, Pandas를 사용하면 손쉽게 결측값을 처리할 수 있습니다.  \n",
        "\n",
        "  ```python\n",
        "  df[\"Compound ID\"].fillna(\"\", inplace=True)\n",
        "  print(df.head())\n",
        "  ```\n",
        "\n",
        "이제 Pandas의 강력한 데이터 조작 기능을 활용하여 더욱 효율적으로 데이터를 분석할 수 있습니다!"
      ]
    },
    {
      "cell_type": "code",
      "execution_count": null,
      "metadata": {
        "id": "2Ao2qp0gZA0t"
      },
      "outputs": [],
      "source": []
    }
  ],
  "metadata": {
    "colab": {
      "authorship_tag": "ABX9TyN+E9EwWdukZDOCb7elYLbK",
      "provenance": []
    },
    "kernelspec": {
      "display_name": "Python 3",
      "name": "python3"
    },
    "language_info": {
      "name": "python"
    }
  },
  "nbformat": 4,
  "nbformat_minor": 0
}
