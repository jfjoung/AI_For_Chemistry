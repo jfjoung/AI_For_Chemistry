{
  "cells": [
    {
      "cell_type": "markdown",
      "metadata": {
        "id": "usOzKsDGzl50"
      },
      "source": [
        "<a href=\"https://colab.research.google.com/github/jfjoung/AI_For_Chemistry/blob/main/notebooks/week1/Week_1_rdkit_basics.ipynb\" target=\"_parent\"><img src=\"https://colab.research.google.com/assets/colab-badge.svg\" alt=\"Open In Colab\"/></a>"
      ]
    },
    {
      "cell_type": "markdown",
      "metadata": {
        "id": "UmgeH6p6hNlE"
      },
      "source": [
        "## 🎯 **학습 목표:**  \n",
        "- Python에서 **화학정보학(Cheminformatics)** 의 기본 개념을 이해한다.  \n",
        "- `RDKit`을 사용하여 **분자 구조를 생성, 변환 및 시각화**하는 방법을 익힌다.  \n",
        "- **분자 특성(Descriptors), 분자 지문(Fingerprints), 분자 유사도(Similarity)** 등을 분석하는 기법을 학습한다.  \n",
        "- **화학 데이터베이스 검색 및 가상 스크리닝(Virtual Screening)** 을 수행하는 방법을 실습한다.  \n"
      ]
    },
    {
      "cell_type": "markdown",
      "metadata": {
        "id": "J3-4S5Gbhagr"
      },
      "source": [
        "## 📌 RDKit  \n",
        "\n",
        "`RDKit`은 **화학정보학(Cheminformatics)** 을 위한 **오픈소스 소프트웨어 툴킷**입니다.  \n",
        "이 툴킷은 **소분자 및 화합물의 분석 및 설계를 지원**하는 다양한 기능을 제공합니다.  \n",
        "\n",
        "✅ **RDKit 주요 기능:**  \n",
        "- **분자 구조 조작 및 분석**  \n",
        "- **분자 특성(Descriptors) 및 분자 지문(Fingerprints) 계산**  \n",
        "- **분자 간 유사도(Similarity) 분석**  \n",
        "- **분자 시각화 및 렌더링**  \n",
        "- **가상 스크리닝(Virtual Screening) 및 데이터베이스 검색**  \n",
        "\n",
        "RDKit은 **학계 및 제약, 바이오테크, 화학 산업**에서 널리 사용되며,  \n",
        "**리드 최적화(Lead Optimization)**, **화학 데이터베이스 관리**, **신약 탐색(Drug Discovery)** 등에 활용됩니다.  \n",
        "\n",
        "---\n",
        "\n",
        "## 📌 필수 라이브러리 설치 (Install Dependencies)  \n",
        "\n",
        "RDKit을 사용하려면 먼저 **라이브러리를 설치해야 합니다.**  \n",
        "아래 명령어를 실행하여 `RDKit`을 설치할 수 있습니다.  \n",
        "\n",
        "```python\n",
        "!pip install rdkit\n",
        "```\n",
        "\n",
        "이 명령어는 Shell 명령어이므로, 실행할 때 앞에 `!`를 붙여야 합니다."
      ]
    },
    {
      "cell_type": "code",
      "execution_count": null,
      "metadata": {
        "id": "JB-3U3LAg7cc"
      },
      "outputs": [],
      "source": [
        "!pip install rdkit"
      ]
    },
    {
      "cell_type": "markdown",
      "metadata": {
        "id": "pkviwrnyhgdU"
      },
      "source": [
        "이제 `RDKit`이 설치되었으므로, 필요한 모듈을 불러오고 **예제 데이터셋(ESOL 데이터셋)** 을 다운로드하여 사용해 보겠습니다. 🚀  \n"
      ]
    },
    {
      "cell_type": "code",
      "execution_count": null,
      "metadata": {
        "id": "Lh5LAccfhmIC"
      },
      "outputs": [],
      "source": [
        "import pandas as pd  # 데이터 분석 및 조작을 위한 pandas 라이브러리 불러오기\n",
        "from rdkit import Chem  # RDKit의 Chem 모듈 불러오기 (분자 구조 조작 및 분석 기능 포함)\n",
        "from rdkit.Chem.Draw import IPythonConsole  # Jupyter Notebook에서 분자 구조를 시각적으로 표시하는 기능 활성화"
      ]
    },
    {
      "cell_type": "markdown",
      "metadata": {
        "id": "4Y-seHkuh4WB"
      },
      "source": [
        "## 📌 SMILES 및 분자의 기계적 표현  \n",
        "\n",
        "우리는 RDKit 기능을 활용하기 위해 **특정 분자(카페인, Caffeine)** 를 살펴보겠습니다.  \n",
        "\n",
        "하지만 **`caffeine`이라는 이름 자체는 분자 구조에 대한 정보를 포함하고 있지 않습니다.**  \n",
        "컴퓨터가 **원자의 개수와 결합 형태**를 이해하려면,  \n",
        "**기계가 읽을 수 있는 형태(machine-accessible representation)** 로 변환해야 합니다.  \n",
        "\n",
        "---\n",
        "\n",
        "## ✅ **SMILES란?**  \n",
        "\n",
        "**SMILES** (*Simplified Molecular Input Line Entry System*) 는 **분자 구조를 문자열로 표현하는 방법**입니다.  \n",
        "- **화학 분자를 컴퓨터에서 쉽게 처리할 수 있도록 기계가 읽을 수 있는 형태로 변환**합니다.  \n",
        "- 원자 기호(C, H, O 등), **괄호, 결합 정보** 등을 사용하여 분자를 나타냅니다.  \n",
        "- 예를 들어, **에탄올(C₂H₅OH)** 의 SMILES 표현은 `\"CCO\"` 입니다.  \n",
        "\n",
        "SMILES 표현을 사용하면,  \n",
        "- **대량의 화합물 비교 및 분석**이 가능하며,  \n",
        "- **분자의 물리·화학적 특성을 예측하는 계산 작업**에 활용됩니다.  \n",
        "\n",
        "---\n",
        "\n",
        "## 📌 **카페인의 SMILES 표현 찾기**  \n",
        "\n",
        "카페인의 SMILES 표현을 확인하려면  \n",
        "**[Wikipedia](https://en.wikipedia.org/wiki/Caffeine) 또는 [PubChem](https://pubchem.ncbi.nlm.nih.gov/)** 을 참고하세요!  \n"
      ]
    },
    {
      "cell_type": "code",
      "execution_count": null,
      "metadata": {
        "id": "W2TZX1NXh4-a"
      },
      "outputs": [],
      "source": [
        "caffeine_smiles = '' # Caffeine의 SMILES를 입력하세요"
      ]
    },
    {
      "cell_type": "markdown",
      "metadata": {
        "id": "rw2EHjeGiOnF"
      },
      "source": [
        "## 1 - 기본적인 분자 처리 (Basic Molecule Handling)  \n",
        "\n",
        "이 섹션에서는 **RDKit을 사용하여 분자를 생성하고 다루는 방법**을 살펴보겠습니다.  \n",
        "RDKit은 분자 구조를 **기계가 읽을 수 있는 형식(machine-readable format)** 으로 변환하고 분석할 수 있도록 도와줍니다.  \n",
        "\n",
        "---\n",
        "\n",
        "### ✅ **1.1 - 분자 생성 및 시각화 (Creating and Visualizing Molecules)**  \n",
        "\n",
        "RDKit에서 가장 기본적인 기능 중 하나는 **분자를 생성하고 다루는 것**입니다.  \n",
        "\n",
        "`Mol` 객체는 **RDKit에서 분자를 표현하는 핵심 객체**입니다.  \n",
        "이 객체는 **SMILES 문자열, .sdf 파일 등 다양한 분자 표현 방식**으로부터 생성할 수 있습니다.  \n",
        "\n",
        "우리는 가장 간단한 방법인 **`MolFromSmiles`** 함수를 사용하여,  \n",
        "카페인(`caffeine`) 분자를 생성하고 이를 다뤄 보겠습니다.\n"
      ]
    },
    {
      "cell_type": "code",
      "execution_count": null,
      "metadata": {
        "id": "xtkcWoLNiQ7_"
      },
      "outputs": [],
      "source": [
        "# SMILES 문자열을 사용하여 카페인 분자 객체(Mol) 생성\n",
        "caffeine = Chem.MolFromSmiles(caffeine_smiles)\n",
        "\n",
        "# 참고: 직접 SMILES 문자열을 전달해도 동일한 결과를 얻을 수 있음"
      ]
    },
    {
      "cell_type": "markdown",
      "metadata": {
        "id": "2EZFhWlriXyP"
      },
      "source": [
        "Jupyter Notebook에서는 **변수명을 입력하고 셀을 실행하면 해당 변수의 값을 출력할 수 있습니다.**  \n",
        "RDKit에서는 이를 활용하여 **분자 구조를 직접 시각화할 수 있습니다.**  \n",
        "\n",
        "📌 **예제:**  \n",
        "아래와 같이 분자 객체(`Mol`)의 변수를 입력하면, **해당 분자의 구조가 자동으로 표시됩니다.**  \n"
      ]
    },
    {
      "cell_type": "code",
      "execution_count": null,
      "metadata": {
        "id": "mmL7uW6nifSd"
      },
      "outputs": [],
      "source": [
        "caffeine"
      ]
    },
    {
      "cell_type": "markdown",
      "metadata": {
        "id": "f0STctBhig6Z"
      },
      "source": [
        "또 다른 유용한 기능은 **Mol 객체를 이미지로 저장하는 것**입니다.  \n",
        "이렇게 하면 **분자 구조를 다운로드하거나 작업 디렉토리에 저장**할 수 있습니다.  \n",
        "\n",
        "RDKit에서는 **`MolToImage` 함수**를 사용하여 **Mol 객체를 이미지 파일로 변환**할 수 있습니다.  \n",
        "이제, 이를 활용하여 **카페인 분자의 구조를 이미지로 저장해 보겠습니다.**  \n"
      ]
    },
    {
      "cell_type": "code",
      "execution_count": null,
      "metadata": {
        "id": "NSJjlh4RimYN"
      },
      "outputs": [],
      "source": [
        "from rdkit.Chem import Draw  # RDKit의 Draw 모듈 불러오기 (분자 시각화 기능 포함)\n",
        "\n",
        "# 카페인 분자의 이미지 생성\n",
        "im = Draw.MolToImage(caffeine)  # MolToImage 함수를 사용하여 분자 구조를 이미지로 변환\n",
        "\n",
        "# 생성된 이미지를 PNG 파일로 저장 (현재 작업 디렉토리에 저장됨)\n",
        "im.save('caffeine.png')\n"
      ]
    },
    {
      "cell_type": "markdown",
      "metadata": {
        "id": "Ur2qiWHIi3Pv"
      },
      "source": [
        "이미지가 정상적으로 저장되었는지 확인하려면, 현재 작업 디렉토리의 파일 목록을 확인하면 됩니다.  "
      ]
    },
    {
      "cell_type": "markdown",
      "metadata": {
        "id": "tEm-QjbejCOW"
      },
      "source": [
        "##### 🏆 **Exercise 1: 그리드 이미지(GridImage) 생성하기**  \n",
        "\n",
        "RDKit에서는 **여러 개의 분자를 하나의 이미지 파일에 그리드 형태로 저장**할 수 있습니다.  \n",
        "이 기능은 **관련된 분자들을 비교하거나 시각적으로 분석할 때 유용**합니다.  \n",
        "\n",
        "✅ **연습 목표:**  \n",
        "1️⃣ **추가적인 두 개의 Mol 객체 생성**  \n",
        "2️⃣ **세 개의 분자를 포함하는 그리드 이미지 생성**  \n",
        "3️⃣ **이미지를 파일로 저장하여 확인**  \n",
        "\n",
        "이제 **그리드 이미지**를 만들어보세요! 🚀  \n"
      ]
    },
    {
      "cell_type": "code",
      "execution_count": null,
      "metadata": {
        "id": "iQh1mP4Di4yX"
      },
      "outputs": [],
      "source": [
        "#### YOUR CODE HERE\n",
        "\n",
        "# Theobromine과 Xanthine 분자 객체 생성 (SMILES 문자열을 삽입해야 함)\n",
        "theobromine = Chem.MolFromSmiles('')  # Theobromine의 SMILES 문자열을 삽입하세요\n",
        "xanthine = Chem.MolFromSmiles('')  # Xanthine의 SMILES 문자열을 삽입하세요\n",
        "\n",
        "# 생성한 분자 객체들을 리스트에 저장\n",
        "mols = [caffeine, theobromine, xanthine]  # 3개의 분자 객체 리스트\n",
        "\n",
        "# 각 분자의 이름을 리스트에 저장\n",
        "names = [\"Caffeine\", \"Theobromine\", \"Xanthine\"]  # 3개의 분자 이름 리스트\n",
        "\n",
        "# 그리드 이미지 생성 (여러 개의 분자를 한 이미지에 배치)\n",
        "grid = Draw.MolsToGridImage(mols, legends=names)  # 'mols' 리스트를 전달하여 이미지 생성\n",
        "\n",
        "#### END\n",
        "\n",
        "# 생성된 그리드 이미지 시각화\n",
        "grid  # 분자들을 하나의 이미지로 확인\n"
      ]
    },
    {
      "cell_type": "markdown",
      "metadata": {
        "id": "riuEaR1xjVWr"
      },
      "source": [
        "분자 간의 유사성을 쉽게 확인할 수 있나요? 그리드 이미지를 저장하면 나중에 비교할 때 더욱 편리합니다.  \n",
        "\n",
        "📌 아래 코드를 실행하여 `GridImage`를 `.png` 파일로 저장하세요.\n"
      ]
    },
    {
      "cell_type": "code",
      "execution_count": null,
      "metadata": {
        "id": "6jpYFIpOjYIL"
      },
      "outputs": [],
      "source": [
        "# GridImage 객체에서 이미지 데이터를 추출\n",
        "png = grid.data  # 생성된 이미지의 바이너리 데이터 가져오기\n",
        "\n",
        "# 파일을 바이너리 쓰기 모드('wb+')로 열고 PNG 파일로 저장\n",
        "with open('./grid_mols.png', 'wb+') as outf:\n",
        "    outf.write(png)  # 추출한 이미지 데이터를 파일에 기록\n"
      ]
    },
    {
      "cell_type": "markdown",
      "metadata": {
        "id": "OORH4Lx7jlNC"
      },
      "source": [
        "####\\ ✅ 1.2 - 분자 조작하기 (Playing with Molecules)  \n",
        "\n",
        "그렇다면, **Mol 객체란 정확히 무엇일까요?** 🤔  \n",
        "가장 간단하게 말하면, **Mol 객체는 그래프(graph)로 표현된 분자**입니다!  \n",
        "\n",
        "- **그래프의 꼭짓점(vertices)** → **원자(Atoms)**  \n",
        "- **그래프의 간선(edges)** → **결합(Bonds)**  \n",
        "\n",
        "따라서, **분자의 원자 및 결합 정보를 쉽게 추출하고 조작할 수 있습니다.**  \n",
        "아래 예제를 실행하여 **카페인 분자의 원자 및 결합 개수**를 확인해 보세요!  \n"
      ]
    },
    {
      "cell_type": "code",
      "execution_count": null,
      "metadata": {
        "id": "a8YffYSVjo66"
      },
      "outputs": [],
      "source": [
        "# 카페인 분자의 총 원자 개수 가져오기\n",
        "n_atoms = caffeine.GetNumAtoms()  # 분자 내 원자 개수 계산\n",
        "print(f'N of atoms: {n_atoms}')  # 결과 출력\n",
        "\n",
        "# 카페인 분자의 총 결합 개수 가져오기\n",
        "n_bonds = caffeine.GetNumBonds()  # 분자 내 결합 개수 계산\n",
        "print(f'N of bonds: {n_bonds}')  # 결과 출력\n"
      ]
    },
    {
      "cell_type": "markdown",
      "metadata": {
        "id": "nYSXQmLrjz2k"
      },
      "source": [
        "**원자(Atoms)와 결합(Bonds) 정보를 리스트로 변환하여 분석할 수도 있습니다.**  \n",
        "이를 통해, **각 원자의 원자번호(Atomic Number) 및 결합의 종류(Bond Type)** 를 쉽게 확인할 수 있습니다.  \n",
        "\n",
        "아래 예제를 실행하여 카페인 분자의 원자 및 결합 정보를 확인하세요!\n"
      ]
    },
    {
      "cell_type": "code",
      "execution_count": null,
      "metadata": {
        "id": "ib3FtSZ6j2Rb"
      },
      "outputs": [],
      "source": [
        "# 분자의 원자 객체를 리스트로 변환\n",
        "atoms = list(caffeine.GetAtoms())  # 분자의 원자들을 리스트로 저장\n",
        "\n",
        "# 분자 내 각 원자의 원자번호(Atomic Number) 출력\n",
        "for atom in atoms:\n",
        "    print(atom.GetAtomicNum())  # 원자번호 출력 (예: 탄소=6, 산소=8 등)\n",
        "\n",
        "# 분자의 결합 객체를 리스트로 변환\n",
        "bonds = list(caffeine.GetBonds())  # 분자의 결합들을 리스트로 저장\n",
        "\n",
        "# 리스트에서 처음 세 개의 결합만 출력\n",
        "for bond in bonds[0:3]:\n",
        "    print(bond.GetBondType())  # 결합의 종류 출력 (예: 단일 결합, 이중 결합 등)\n"
      ]
    },
    {
      "cell_type": "markdown",
      "metadata": {
        "id": "QuPaKSCNkBfi"
      },
      "source": [
        "**특정 원자를 개별적으로 선택하여 해당 속성(Attributes)을 확인할 수도 있습니다.**  \n",
        "이를 통해, **원자의 기호(Symbol), 결합된 원자 수(Degree), 혼성화 상태(Hybridization)** 등의 정보를 얻을 수 있습니다.  \n",
        "\n",
        "아래 코드를 실행하여 카페인 분자의 특정 원자 속성을 확인하세요!\n"
      ]
    },
    {
      "cell_type": "code",
      "execution_count": null,
      "metadata": {
        "id": "WdCvzTzQkDAE"
      },
      "outputs": [],
      "source": [
        "# 카페인 분자의 특정 원자 선택 (예: 인덱스 3번 원자)\n",
        "atom = caffeine.GetAtomWithIdx(3)  # 3번 인덱스에 해당하는 원자 가져오기\n",
        "\n",
        "# 선택한 원자의 원소 기호(Symbol) 출력\n",
        "print(atom.GetSymbol())  # 예: \"N\" (질소)\n",
        "\n",
        "# 선택한 원자의 결합된 원자 개수(Degree) 출력\n",
        "print(atom.GetTotalDegree())  # 해당 원자와 연결된 원자 개수 반환\n",
        "\n",
        "# 선택한 원자의 혼성화 상태(Hybridization) 출력\n",
        "print(atom.GetHybridization())  # 예: sp2, sp3 등\n"
      ]
    },
    {
      "cell_type": "markdown",
      "metadata": {
        "id": "WtzAD-PJkRN3"
      },
      "source": [
        "### ✅ 1.3 - 정규화(Canonicalization)  \n",
        "\n",
        "**SMILES 표현 방식은 분자를 다루는 데 매우 유용하지만, 유일(unique)하지 않습니다.**  \n",
        "즉, **동일한 분자를 여러 개의 다른 SMILES 문자열로 표현할 수 있습니다.**  \n",
        "\n",
        "아래 예제에서는 **동일한 카페인 분자를 나타내는 세 가지 서로 다른 SMILES 문자열**을 사용합니다.  \n",
        "각각을 RDKit을 사용하여 **Mol 객체로 변환한 후 비교 및 시각화**해 보겠습니다.  \n"
      ]
    },
    {
      "cell_type": "code",
      "execution_count": null,
      "metadata": {
        "id": "-KXqBuXFkRlB"
      },
      "outputs": [],
      "source": [
        "# 동일한 카페인 분자를 나타내는 서로 다른 SMILES 문자열\n",
        "caffeine1 = ''  # 여기에 원본 SMILES 삽입\n",
        "caffeine2 = 'Cn1cnc2c1c(=O)n(C)c(=O)n2C'  # 다른 형태의 카페인 SMILES\n",
        "caffeine3 = 'Cn1c(=O)c2c(ncn2C)n(C)c1=O'  # 또 다른 형태의 카페인 SMILES\n",
        "\n",
        "# SMILES 문자열을 리스트로 저장\n",
        "smiles_list = [caffeine1, caffeine2, caffeine3]\n",
        "\n",
        "# 각 SMILES 문자열을 Mol 객체로 변환\n",
        "mols = [Chem.MolFromSmiles(smiles) for smiles in smiles_list]\n",
        "\n",
        "# 변환된 분자들을 그리드 이미지로 시각화\n",
        "Draw.MolsToGridImage(mols)\n"
      ]
    },
    {
      "cell_type": "markdown",
      "metadata": {
        "id": "qONEq-lFkUll"
      },
      "source": [
        "위에서 확인한 것처럼, **서로 다른 3개의 SMILES 문자열이 동일한 분자를 나타낼 수 있습니다.**  \n",
        "이러한 문제를 방지하기 위해 **정규화(Canonicalization)** 를 적용할 수 있습니다.  \n",
        "\n",
        "📌 **정규화란?**  \n",
        "- **각 분자에 대해 유일한(Canonical) SMILES을 생성하는 과정**을 의미합니다.  \n",
        "- 이를 통해 **동일한 분자가 항상 같은 SMILES로 변환되도록 보장**할 수 있습니다.  \n",
        "\n",
        "이제 **RDKit을 사용하여 정규화된 SMILES을 생성해 보겠습니다.**\n"
      ]
    },
    {
      "cell_type": "markdown",
      "metadata": {
        "id": "IM1hhgo2k3mI"
      },
      "source": [
        "#### **Exercise 2 - 정규화 함수 만들기**  \n",
        "\n",
        "**이전 단계에서 다뤘던 정규화되지 않은(non-canonical) 카페인 SMILES 리스트에 대해**  \n",
        "**정규화된 SMILES를 생성하는 함수를 작성해 보세요.**  \n",
        "\n",
        "RDKit의 **`MolToSmiles` 함수**는 Mol 객체를 SMILES로 변환하며,  \n",
        "기본적으로 **정규화된(Canonicalized) SMILES를 생성합니다.**  \n",
        "이를 활용하여 **정규화 함수(canonicalization function)** 를 만들어 보세요.  \n"
      ]
    },
    {
      "cell_type": "code",
      "execution_count": null,
      "metadata": {
        "id": "8wrNPIA8kje5"
      },
      "outputs": [],
      "source": [
        "def canonicalize_smiles(smiles):\n",
        "    '''이 함수는 비정규화된 SMILES를 받아\n",
        "    정규화된 SMILES를 반환합니다.\n",
        "\n",
        "    Args:\n",
        "        - smiles: str, 비정규화된 분자의 SMILES\n",
        "\n",
        "    Out:\n",
        "        - canonical_smiles: str, 정규화된 분자의 SMILES\n",
        "    '''\n",
        "\n",
        "    #### YOUR CODE HERE\n",
        "\n",
        "    mol = Chem.MolFromSmiles(smiles)  # 입력된 SMILES로부터 Mol 객체 생성\n",
        "\n",
        "    canonical_smiles = Chem.MolToSmiles(mol)  # Mol 객체를 정규화된 SMILES로 변환\n",
        "\n",
        "    #### END\n",
        "    return canonical_smiles\n"
      ]
    },
    {
      "cell_type": "markdown",
      "metadata": {
        "id": "OPjEFFqxlFO5"
      },
      "source": [
        "이제 위에서 작성한 **정규화 함수**를 비정규화된 SMILES 리스트에 적용해 보세요.  \n",
        "함수를 적용하면 **정규화된 SMILES (동일한 SMILES)** 를 얻을 수 있습니다.  "
      ]
    },
    {
      "cell_type": "code",
      "execution_count": null,
      "metadata": {
        "id": "sOoIeTD1lGoS"
      },
      "outputs": [],
      "source": [
        "# 비정규화된 SMILES 리스트에 정규화 함수 적용\n",
        "canonical_smiles = [canonicalize_smiles(smiles) for smiles in smiles_list]  # 정규화된 SMILES 리스트 생성\n",
        "\n",
        "# 새로운 정규화된 SMILES 리스트 출력\n",
        "for smiles in canonical_smiles:\n",
        "    print(smiles)\n"
      ]
    },
    {
      "cell_type": "markdown",
      "metadata": {
        "id": "JPQ1QjiplQDR"
      },
      "source": [
        "**정규화(Canonicalization)에는 하나의 고유 표준이 존재하지 않습니다.**  \n",
        "즉, 생성된 SMILES은 사용된 **화학정보학 툴킷(cheminformatics toolkit)** 및 **툴킷의 버전**에 따라 달라질 수 있습니다.  \n",
        "\n",
        "📌 **따라서, 동일한 결과를 비교하려면 항상 같은 패키지와 버전을 사용하는 것이 권장됩니다.**  \n"
      ]
    },
    {
      "cell_type": "markdown",
      "metadata": {
        "id": "Nff_GN78ld6f"
      },
      "source": [
        "### ✅ 1.4 - 분자 지문(Fingerprints)  \n",
        "\n",
        "**머신러닝 알고리즘은 보통 숫자 벡터를 입력으로 받습니다.**  \n",
        "하지만 우리는 분자를 다루고 있는데,  \n",
        "**어떻게 분자를 숫자화하여 ML 알고리즘에 전달할 수 있을까요?** 🤔  \n",
        "\n",
        "#### 🔑 **[분자 지문(Molecular Fingerprints)](https://chem.libretexts.org/Courses/Intercollegiate_Courses/Cheminformatics/06%3A_Molecular_Similarity/6.01%3A_Molecular_Descriptors):**  \n",
        "- **분자를 비트 배열(0과 1의 배열)** 로 표현하는 벡터입니다.  \n",
        "- **분자 구조를 인코딩**하여 머신러닝 모델에 입력으로 제공할 수 있습니다.  \n",
        "- **분자 간 유사도 계산, 분류 모델 입력, 리그랜드-수용체 상호작용 예측** 등에 사용됩니다.  \n",
        "- **RDKit에서는 [Morgan Fingerprint](https://www.rdkit.org/docs/GettingStartedInPython.html#morgan-fingerprints-circular-fingerprints)**가 널리 사용됩니다.  \n",
        "  - **`GetMorganFingerprintAsBitVect`** 함수를 사용해 벡터를 생성할 수 있습니다.  \n",
        "  - **Radius**와 **bit 길이**를 설정하여 특정 크기의 벡터를 생성합니다.  \n"
      ]
    },
    {
      "cell_type": "code",
      "execution_count": null,
      "metadata": {
        "id": "tkg8lT76lRaJ"
      },
      "outputs": [],
      "source": [
        "from rdkit.Chem import AllChem  # RDKit의 AllChem 모듈 불러오기 (Morgan Fingerprint 함수 포함)\n",
        "import numpy as np  # numpy 모듈은 나중에 필요할 수 있음\n",
        "\n",
        "# Morgan Fingerprint 생성: 반경(radius)=2, 비트 길이=1024\n",
        "caffeine_fp = AllChem.GetMorganFingerprintAsBitVect(caffeine, 2, nBits=1024)\n",
        "\n",
        "# 벡터의 비트 길이 출력\n",
        "print(caffeine_fp.GetNumBits())  # 예: 1024 (벡터의 총 비트 수)\n",
        "\n",
        "# 벡터를 리스트 형식으로 변환하여 확인\n",
        "caffeine_fp.ToList()  # 비트 벡터를 0과 1의 배열로 확인\n"
      ]
    },
    {
      "cell_type": "markdown",
      "metadata": {
        "id": "1BOQpPzvmAaO"
      },
      "source": [
        "##### **Exercise 3 - Tanimoto 거리(Tanimoto Distance)를 사용한 분자 유사성 분석**  \n",
        "\n",
        "**이 연습에서는 지문(Fingerprint)과 [Tanimoto 유사도](https://en.wikipedia.org/wiki/Jaccard_index)를 사용하여**  \n",
        "**화학 정보를 추출하는 방법을 배웁니다.**  \n",
        "\n",
        "#### 🔑 **Tanimoto 유사도:**  \n",
        "- **두 개의 지문 간 공유된 비트를 기반으로 분자 유사성을 측정**합니다.  \n",
        "- **값이 1에 가까울수록 두 분자는 더 비슷합니다.**  \n",
        "\n",
        "✅ **연습 목표:**  \n",
        "1️⃣ **Toluene**과 **Theobromine**의 **Morgan Fingerprint** (반경 r=2, nBits=1024)를 생성  \n",
        "2️⃣ 이 지문을 사용하여 **Caffeine**과의 **Tanimoto 유사도**를 계산  \n",
        "3️⃣ 각각의 유사도를 출력  \n"
      ]
    },
    {
      "cell_type": "code",
      "execution_count": null,
      "metadata": {
        "id": "thA0Fm8hmCOh"
      },
      "outputs": [],
      "source": [
        "# 이전에 생성한 카페인 지문(caffeine_fp)과 theobromine 객체를 사용\n",
        "from rdkit.DataStructs import FingerprintSimilarity  # Tanimoto 유사도 계산 함수\n",
        "\n",
        "#### YOUR CODE\n",
        "toluene = Chem.MolFromSmiles('')  # toluene의 SMILES 문자열 삽입\n",
        "\n",
        "# Toluene 및 Theobromine의 Morgan Fingerprint 생성\n",
        "toluene_fp = AllChem.GetMorganFingerprintAsBitVect(toluene, 2, nBits=1024)  # Toluene 지문 생성\n",
        "theobromine_fp = AllChem.GetMorganFingerprintAsBitVect(theobromine, 2, nBits=1024)  # Theobromine 지문 생성\n",
        "\n",
        "# Tanimoto 유사도 계산\n",
        "sim1 = FingerprintSimilarity(caffeine_fp, toluene_fp)  # 카페인-Toluene 유사도 계산\n",
        "sim2 = FingerprintSimilarity(caffeine_fp, theobromine_fp)  # 카페인-Theobromine 유사도 계산\n",
        "#### END\n",
        "\n",
        "# 계산된 유사도 출력\n",
        "print(f'Caffeine-toluene similarity: {round(sim1, 3)}')\n",
        "print(f'Caffeine-theobromine similarity: {round(sim2, 3)}')\n"
      ]
    },
    {
      "cell_type": "markdown",
      "metadata": {
        "id": "xXiKmXJ1mR_l"
      },
      "source": [
        "### ✅ 1.5 - [Bemis-Murcko 스캐폴드(Bemis-Murcko Scaffold)](https://pubs.acs.org/doi/10.1021/jm9602928)\n",
        "\n",
        "**분자를 기본적인 스캐폴드(scaffold) 또는 핵심 분자 모티프(core molecular motif)로 분해할 수 있습니다.**  \n",
        "이러한 분해는 **다양한 화합물을 비교하거나 그룹화**하는 데 유용합니다.  \n",
        "\n",
        "#### 🔑 **Bemis-Murcko 분해법:**  \n",
        "- **분자의 기본 프레임워크를 반환**합니다.  \n",
        "- 이를 통해 **동일한 기본 구조를 공유하는 화합물**을 쉽게 식별할 수 있습니다.  \n",
        "- RDKit에서는 **Bemis-Murcko 스캐폴드**를 손쉽게 구할 수 있는 함수를 제공합니다.  \n"
      ]
    },
    {
      "cell_type": "code",
      "execution_count": null,
      "metadata": {
        "id": "n4bQyJJ_mXA0"
      },
      "outputs": [],
      "source": [
        "from rdkit.Chem.Scaffolds import MurckoScaffold  # Bemis-Murcko 스캐폴드 추출 함수\n",
        "\n",
        "# Mol 객체에서 Bemis-Murcko 스캐폴드 추출\n",
        "caff_scaffold = MurckoScaffold.GetScaffoldForMol(caffeine)\n",
        "\n",
        "# 원래 분자 표시\n",
        "display(caffeine)  # 원래의 카페인 분자 구조 표시\n",
        "\n",
        "# 추출된 Bemis-Murcko 스캐폴드 표시\n",
        "caff_scaffold  # 스캐폴드 구조 표시\n"
      ]
    },
    {
      "cell_type": "markdown",
      "metadata": {
        "id": "yvlshSJFmi2z"
      },
      "source": [
        "**카페인과 테오브로민(Theobromine) 스캐폴드를 비교해 보면,**  \n",
        "**이 두 분자가 매우 유사하다는 것을 알 수 있습니다.**  \n",
        "아래 코드를 실행하여,  \n",
        "두 분자의 Bemis-Murcko 스캐폴드를 시각적으로 비교해 보세요.  \n"
      ]
    },
    {
      "cell_type": "code",
      "execution_count": null,
      "metadata": {
        "id": "mx_uXPobmj0t"
      },
      "outputs": [],
      "source": [
        "# 테오브로민 분자의 Bemis-Murcko 스캐폴드 추출\n",
        "theobr_scaffold = MurckoScaffold.GetScaffoldForMol(theobromine)\n",
        "\n",
        "# 두 스캐폴드를 그리드 이미지로 시각화\n",
        "Draw.MolsToGridImage(\n",
        "    [caff_scaffold, theobr_scaffold],  # 비교할 스캐폴드 리스트\n",
        "    legends=['caffeine scaffold', 'theobromine scaffold']  # 각각의 레이블\n",
        ")"
      ]
    },
    {
      "cell_type": "markdown",
      "metadata": {
        "id": "yYgwIBKMmu8g"
      },
      "source": [
        "## 📌 2 - RDKit과 Pandas 결합  \n",
        "\n",
        "다음 단계는 **`df` 데이터프레임의 데이터를 RDKit에서 처리할 수 있는 Mol 객체로 변환**하는 것입니다.  \n",
        "RDKit에서는 **`PandasTools.AddMoleculeColumnToFrame` 함수**를 사용하여 간단하게 이를 수행할 수 있습니다.  \n",
        "\n",
        "📌 **작업 과정:**  \n",
        "1️⃣ **ESOL 데이터셋 로드**  \n",
        "2️⃣ **사용할 열 선택** (`Compound ID`, `smiles`, `solubility`)  \n",
        "3️⃣ **열 이름 변경** (`measured log solubility in mols per litre` → `solubility`)  \n"
      ]
    },
    {
      "cell_type": "code",
      "execution_count": null,
      "metadata": {
        "id": "MwddX-p_mvZ2"
      },
      "outputs": [],
      "source": [
        "# 데이터셋 가져오기\n",
        "df = pd.read_csv(\"https://raw.githubusercontent.com/schwallergroup/ai4chem_course/main/notebooks/01%20-%20Basics/data/delaney-processed.csv\")\n",
        "\n",
        "# 사용할 열만 선택: Compound ID, smiles, solubility\n",
        "df = df[['Compound ID', 'smiles', 'measured log solubility in mols per litre']]\n",
        "\n",
        "# 용해도 열의 이름을 'solubility'로 변경\n",
        "df = df.rename(columns={'measured log solubility in mols per litre': 'solubility'})\n",
        "\n",
        "# 데이터프레임 확인\n",
        "df.head()"
      ]
    },
    {
      "cell_type": "markdown",
      "metadata": {
        "id": "9q5buLk8m4Qp"
      },
      "source": [
        "이제 `AddMoleculeColumnToFrame` 를 사용하여 데이터프레임에 **Mol 객체**를 포함하는 새 열을 추가하겠습니다.  \n"
      ]
    },
    {
      "cell_type": "code",
      "execution_count": null,
      "metadata": {
        "id": "0rHYV_kWm6i9"
      },
      "outputs": [],
      "source": [
        "# RDKit의 PandasTools 모듈 불러오기\n",
        "from rdkit.Chem import PandasTools\n",
        "\n",
        "# SMILES를 Mol 객체로 변환하여 'Molecule' 열 추가\n",
        "PandasTools.AddMoleculeColumnToFrame(df, smilesCol='smiles', molCol='Molecule')\n",
        "\n",
        "# 데이터프레임 확인\n",
        "df.head()"
      ]
    },
    {
      "cell_type": "markdown",
      "metadata": {
        "id": "fqFzmDWhnEq_"
      },
      "source": [
        "데이터프레임 **`df`의 'Molecule' 열**에는 각 행에 해당하는 Mol 객체가 포함되어 있습니다.  \n",
        "이 객체들은 **이전 섹션에서 배운 RDKit 함수**를 사용하여 자유롭게 조작할 수 있습니다.  \n",
        "\n",
        "📌 **또한, 데이터프레임에서 분자를 직접 시각화할 수도 있습니다.**  \n"
      ]
    },
    {
      "cell_type": "code",
      "execution_count": null,
      "metadata": {
        "id": "nrH83tIVnFCB"
      },
      "outputs": [],
      "source": [
        "# 데이터프레임을 표시하여 각 행의 Molecule 열을 확인\n",
        "df"
      ]
    },
    {
      "cell_type": "markdown",
      "metadata": {
        "id": "G4g6xMexnTHZ"
      },
      "source": [
        "### ✅ 2.1 - 데이터프레임(df)에 함수 적용하기  \n",
        "\n",
        "Pandas **`apply` 함수**를 사용하면,  \n",
        "데이터프레임의 **모든 행에 동일한 작업을 간편하게 수행**할 수 있습니다.  \n",
        "\n",
        "📌 **예제:**  \n",
        "- 기존의 `smiles` 열에 **정규화 함수(canonicalize_smiles)** 를 적용하여,  \n",
        "- **정규화된 SMILES(canonical_smiles)** 을 포함하는 새 열 생성  \n",
        "- 사용하지 않는 `smiles` 열 제거  "
      ]
    },
    {
      "cell_type": "code",
      "execution_count": null,
      "metadata": {
        "id": "n9hFTO8snTi4"
      },
      "outputs": [],
      "source": [
        "# 데이터프레임의 'smiles' 열에 정규화 함수(canonicalize_smiles) 적용\n",
        "df['canonical_smiles'] = df['smiles'].apply(canonicalize_smiles)\n",
        "\n",
        "# 사용하지 않는 'smiles' 열 삭제\n",
        "df = df.drop(columns='smiles')\n",
        "\n",
        "# 데이터프레임 확인\n",
        "df.head()"
      ]
    },
    {
      "cell_type": "markdown",
      "metadata": {
        "id": "kYZvqK4ynumT"
      },
      "source": [
        "`df` 데이터프레임에 `canonical_smiles`라는 새 열이 추가되었습니다. 이 열은 이전 `smiles` 열에 **`canonicalize_smiles` 함수**를 적용하여 생성한 것입니다.  \n"
      ]
    },
    {
      "cell_type": "markdown",
      "metadata": {
        "id": "vXmn2cPHn6co"
      },
      "source": [
        "##### **Exercise 4 - 분자량(Molecular Weight) 계산하기**  \n",
        "\n",
        "이제 **`apply()` 함수**를 사용하여  \n",
        "모든 분자의 **분자량(Molecular Weight, MW)** 을 계산해 보세요.  \n",
        "\n",
        "✅ **작업 과정:**  \n",
        "1️⃣ **`Molecule` 열**에서 Mol 객체를 가져옴  \n",
        "2️⃣ **`MolWt` 함수**를 적용하여 분자량 계산  \n",
        "3️⃣ **새 열(`MW`)** 에 계산된 값 저장  \n"
      ]
    },
    {
      "cell_type": "code",
      "execution_count": null,
      "metadata": {
        "id": "bSumjiGgnxHd"
      },
      "outputs": [],
      "source": [
        "from rdkit.Chem.Descriptors import MolWt  # 분자량 계산 함수 가져오기\n",
        "\n",
        "#### YOUR CODE\n",
        "\n",
        "# 'Molecule' 열에 apply()를 사용하여 분자량 계산\n",
        "df['MW'] = df['Molecule'].apply(MolWt)\n",
        "\n",
        "#### END\n",
        "\n",
        "# 데이터프레임 확인\n",
        "df.head()"
      ]
    },
    {
      "cell_type": "markdown",
      "metadata": {
        "id": "tFNHmADzoIFH"
      },
      "source": [
        "\n",
        "새로 추가된 `MW` 열에는 **각 분자의 분자량(Molecular Weight)** 값이 포함되어 있습니다."
      ]
    },
    {
      "cell_type": "markdown",
      "metadata": {
        "id": "JEsYRzE-oUvV"
      },
      "source": [
        "### ✅ 2.2 - 분자 특성 계산 (Computing Molecular Descriptors)  \n",
        "\n",
        "**분자량(Molecular Weight)** 은 분자에서 계산할 수 있는 많은 속성 중 하나에 불과합니다.  \n",
        "ML 알고리즘은 분자 지문 외에도,  \n",
        "**logP** 또는 **분자량**과 같은 숫자를 입력값으로 사용할 수 있습니다.  \n",
        "이러한 속성을 **분자 특성(Molecular Descriptors)** 이라고 합니다.  \n",
        "\n",
        "#### 🔑 **분자 특성의 예:**  \n",
        "- **TPSA (Topological Polar Surface Area)**  \n",
        "- **MolLogP (Octanol/Water Partition Coefficient)**  \n",
        "- **NumHAcceptors (Hydrogen Bond Acceptors)**  \n",
        "- **NumHDonors (Hydrogen Bond Donors)**  \n",
        "- **RingCount (Ring Count)**  \n",
        "- **NumAromaticHeterocycles (Aromatic Heterocycles)**  \n",
        "\n",
        "RDKit에서는 **여러 분자 특성을 계산할 수 있는 함수**를 제공하며,  \n",
        "자세한 목록은 [RDKit 문서](https://www.rdkit.org/docs/GettingStartedInPython.html#list-of-available-descriptors) 에서 확인할 수 있습니다.  \n",
        "\n",
        "📌 **아래 예제를 실행하여 데이터프레임의 모든 분자에 대해 여러 특성을 계산하세요.**  \n"
      ]
    },
    {
      "cell_type": "code",
      "execution_count": null,
      "metadata": {
        "id": "ApaIyO3woJAf"
      },
      "outputs": [],
      "source": [
        "from rdkit.ML.Descriptors.MoleculeDescriptors import MolecularDescriptorCalculator  # 분자 특성 계산기\n",
        "\n",
        "# 계산하려는 분자 특성의 이름 리스트 정의\n",
        "descriptors = [\n",
        "    'TPSA',  # 극성 표면적\n",
        "    'MolLogP',  # 옥탄올/물 분배계수\n",
        "    'NumHAcceptors',  # 수소 결합 수용체 개수\n",
        "    'NumHDonors',  # 수소 결합 제공자 개수\n",
        "    'RingCount',  # 고리 개수\n",
        "    'NumAromaticHeterocycles'  # 방향족 헤테로고리 개수\n",
        "]\n",
        "\n",
        "# 정의된 특성 리스트로 특성 계산기 생성\n",
        "calculator = MolecularDescriptorCalculator(descriptors)\n",
        "\n",
        "# 데이터프레임의 'Molecule' 열에 특성 계산기 적용 (apply() 사용)\n",
        "properties = df['Molecule'].apply(calculator.CalcDescriptors)\n",
        "\n",
        "# 계산된 특성을 포함하는 새 데이터프레임 생성\n",
        "df_properties = pd.DataFrame(properties.tolist(), columns=descriptors)\n",
        "\n",
        "# 데이터프레임 확인\n",
        "df_properties.head()\n"
      ]
    },
    {
      "cell_type": "markdown",
      "metadata": {
        "id": "nj4VtQ4Qod1A"
      },
      "source": [
        "### ✅ **결과 확인**  \n",
        "\n",
        "위 코드에서는,  \n",
        "**각 분자의 특성을 포함하는 데이터프레임**을 성공적으로 생성했습니다.  \n",
        "이 데이터프레임에는 **TPSA**, **MolLogP**, **RingCount** 등의 **우리가 관심 있는 분자 특성**이 포함되어 있습니다.  \n",
        "\n",
        "---\n",
        "\n",
        "추가적으로, **[mordred](https://github.com/mordred-descriptor/mordred)** 같은  특화된 라이브러리를 사용하면, **단일 분자에 대해 수백 개의 특성을 계산**할 수도 있습니다.  \n",
        "\n",
        "다음 섹션에서는,  **머신러닝 모델에 사용하기 위한 특성을 더 자세히 계산하는 방법**을 살펴보겠습니다.  \n"
      ]
    },
    {
      "cell_type": "markdown",
      "metadata": {
        "id": "1iJ8tzuxouYi"
      },
      "source": [
        "### ✅ 2.3 - 서브구조 검색 (Substructure Search)  \n",
        "\n",
        "분자 내의 특정 구조적 패턴을 검색하는 것은 **다양한 화합물을 다룰 때 매우 중요한 작업**입니다.  \n",
        "\n",
        "#### 🔑 **예제:**  \n",
        "아래 예제에서는,  \n",
        "- **SMILES를 사용하여 특정 패턴**을 생성  \n",
        "- **카페인 분자**에 이러한 패턴이 포함되어 있는지 확인  \n",
        "\n",
        "이를 통해 **데이터셋에서 화학 정보를 추출하거나, 특정 구조를 공유하는 분자를 식별**할 수 있습니다.  \n"
      ]
    },
    {
      "cell_type": "code",
      "execution_count": null,
      "metadata": {
        "id": "10U6rx-1oiHh"
      },
      "outputs": [],
      "source": [
        "# SMILES로부터 패턴 생성\n",
        "patt1 = Chem.MolFromSmiles('C=O')  # 카보닐기(C=O) 패턴 생성\n",
        "patt2 = Chem.MolFromSmiles('CC(N)C')  # 알파 아미노산 구조 패턴 생성\n",
        "\n",
        "# 생성된 패턴 시각화 (그리드 이미지)\n",
        "Draw.MolsToGridImage(\n",
        "    [patt1, patt2],  # 패턴 리스트\n",
        "    legends=['pattern1', 'pattern2'],  # 레이블\n",
        "    molsPerRow=2  # 한 행에 표시할 분자 수\n",
        ")\n"
      ]
    },
    {
      "cell_type": "markdown",
      "metadata": {
        "id": "WbUxuuJyo77L"
      },
      "source": [
        "**`HasSubstructMatch()` 메서드**를 사용하여 **카페인 분자 객체(caffeine)** 가 두 패턴 중 하나라도 포함하는지 확인할 수 있습니다.  \n",
        "\n"
      ]
    },
    {
      "cell_type": "code",
      "execution_count": null,
      "metadata": {
        "id": "sOaqt7-EpCDK"
      },
      "outputs": [],
      "source": [
        "# 카페인 분자가 패턴 1을 포함하는지 확인\n",
        "check_p1 = caffeine.HasSubstructMatch(patt1)\n",
        "print('Contains pattern 1: {}'.format(check_p1))  # 포함하면 True, 그렇지 않으면 False\n",
        "\n",
        "# 카페인 분자가 패턴 2를 포함하는지 확인\n",
        "check_p2 = caffeine.HasSubstructMatch(patt2)\n",
        "print('Contains pattern 2: {}'.format(check_p2))  # 포함하면 True, 그렇지 않으면 False\n"
      ]
    },
    {
      "cell_type": "markdown",
      "metadata": {
        "id": "ggqkmH31pP2D"
      },
      "source": [
        "`caffeine`은 패턴 1(카보닐기)을 포함하고, 패턴 2(아민)는 포함하지 않는다는 것을 확인할 수 있습니다.  \n",
        "\n",
        "---\n",
        "\n",
        "#### **SMARTS**  \n",
        "\n",
        "**SMARTS**는 **`SMILES`의 확장**으로, 더욱 다양한 구조적 패턴을 명시적으로 지정할 수 있는 서브구조 검색 언어입니다.  \n",
        "SMARTS를 사용하면, 특정 구조적 특징을 가진 원자, 결합, 부분 구조를 정밀하게 검색할 수 있습니다.  \n",
        "\n",
        "📌 아래 예제에서는, SMARTS를 사용하여\n",
        "- **고리 안에 포함된 모든 탄소 원자**를 검색합니다.  \n",
        "- 그런 다음, **일치하는 원자들을 강조 표시**합니다.  \n"
      ]
    },
    {
      "cell_type": "code",
      "execution_count": null,
      "metadata": {
        "id": "qph-7mLtpYPW"
      },
      "outputs": [],
      "source": [
        "from IPython.display import SVG  # Jupyter에서 SVG 이미지 표시\n",
        "\n",
        "# SMARTS 패턴 생성: 고리에 포함된 모든 탄소 원자를 의미\n",
        "patt = '[#6;r]'  # SMARTS: 고리 내 탄소 원자\n",
        "\n",
        "# SMARTS로부터 Mol 객체 생성\n",
        "patt = Chem.MolFromSmarts(patt)\n",
        "\n",
        "# 카페인 분자에서 패턴과 일치하는 모든 원자(인덱스) 가져오기\n",
        "matches = caffeine.GetSubstructMatches(patt)\n",
        "\n",
        "# 일치하는 원자(인덱스)들을 리스트로 저장\n",
        "highlightAtomLists = [atom[0] for atom in matches]\n",
        "\n",
        "# 카페인 분자의 구조를 표시하며, 일치하는 원자를 강조\n",
        "SVG(Draw._MolsToGridSVG([caffeine], highlightAtomLists=[highlightAtomLists], molsPerRow=1))\n"
      ]
    },
    {
      "cell_type": "markdown",
      "metadata": {
        "id": "-StB86x_pjhr"
      },
      "source": [
        "##### **Exercise 5: 서브구조 검색 (Substructure Search)**  \n",
        "\n",
        "이번 연습에서는 **SMILES 및 SMARTS 패턴을 사용하여**  용해도 데이터셋에서 **특정 서브구조를 포함하는 분자만 필터링**합니다.  \n",
        "\n",
        "✅ **연습 목표:**  \n",
        "1️⃣ **SMILES 패턴**을 사용하여 페닐 고리(phenyl ring) 구조를 정의  \n",
        "2️⃣ 데이터프레임에서 **페닐 고리 구조를 포함하는 분자만 선택**  \n",
        "3️⃣ 선택된 행을 표시하고, 포함된 분자의 수를 출력  \n"
      ]
    },
    {
      "cell_type": "code",
      "execution_count": null,
      "metadata": {
        "id": "aX2MeORWplnp"
      },
      "outputs": [],
      "source": [
        "### YOUR CODE\n",
        "\n",
        "# 페닐 고리(phenyl ring) 패턴 생성\n",
        "phenyl = Chem.MolFromSmiles('')  # 페닐 고리의 SMILES 표현을 삽입하세요\n",
        "\n",
        "# 데이터프레임의 각 분자에 대해 HasSubstructMatch 함수 적용\n",
        "df['phenyl'] = df['Molecule'].apply(lambda x: x.HasSubstructMatch(phenyl))  # 페닐 패턴과 일치 여부 확인\n",
        "\n",
        "### END\n",
        "\n",
        "# 페닐 구조를 포함하는 행만 필터링\n",
        "df_phenyl = df[df['phenyl']]\n",
        "\n",
        "# 페닐 구조를 포함하는 분자의 수 출력\n",
        "print(f'There are {len(df_phenyl)} molecules containing a phenyl ring')\n",
        "\n",
        "# 필터링된 데이터프레임 확인\n",
        "df_phenyl.head()\n"
      ]
    },
    {
      "cell_type": "markdown",
      "metadata": {
        "id": "rXnfBDdYp08-"
      },
      "source": [
        "#### **SMARTS를 사용하여 고리(Ring)가 포함된 분자 검색**  \n",
        "\n",
        "이번에는 **SMARTS**를 사용하여 **데이터셋에서 고리를 포함하는 분자**를 검색해 보세요.  \n"
      ]
    },
    {
      "cell_type": "code",
      "execution_count": null,
      "metadata": {
        "id": "1OmMpwTvp2gO"
      },
      "outputs": [],
      "source": [
        "#### YOUR CODE\n",
        "\n",
        "# SMARTS 패턴 생성: 모든 고리(any ring)를 검색\n",
        "ring = Chem.MolFromSmarts('[r]')  # SMARTS에서 r은 \"ring atom\"을 의미\n",
        "\n",
        "# 데이터프레임의 각 분자에 대해 HasSubstructMatch 함수 적용\n",
        "df['ring'] = df['Molecule'].apply(lambda x: x.HasSubstructMatch(ring))  # 고리 포함 여부 확인\n",
        "\n",
        "### END\n",
        "\n",
        "# 고리를 포함하는 행만 필터링\n",
        "df_ring = df[df['ring']]\n",
        "\n",
        "# 고리를 포함하는 분자의 수 출력\n",
        "print(f'There are {len(df_ring)} molecules containing a ring')\n",
        "\n",
        "# 필터링된 데이터프레임 확인\n",
        "df_ring.head()\n"
      ]
    },
    {
      "cell_type": "markdown",
      "metadata": {
        "id": "SruZ-dYZqAw-"
      },
      "source": [
        "### **결론**  \n",
        "이 세션에서는 **RDKit을 활용하여 다음 작업들을 수행하는 방법**을 배웠습니다:  \n",
        "- **기본 분자 작업**  \n",
        "- **지문(Fingerprint) 생성 및 분자 비교**  \n",
        "- **분자 특성(Descriptors) 계산**  \n",
        "- **서브구조 검색**  \n",
        "\n",
        "이러한 작업은 **화학정보학(Cheminformatics)** 과 **머신러닝(ML)** 에서  \n",
        "자주 수행되는 기본적인 작업들이며,  **계속 연습을 통해 숙달하는 것**이 중요합니다!\n",
        "\n",
        "---\n",
        "\n",
        "### **추가 학습 자료**  \n",
        "**화학정보학에 대한 더 많은 세부 정보를 확인하려면 다음 리소스를 참조하세요:**  \n",
        "- [Cheminformatics Blog by Iwatobipen](https://iwatobipen.wordpress.com/)  \n",
        "- [RDKit Blog by Greg Landrum](https://greglandrum.github.io/rdkit-blog/)  \n",
        "- [RDKit Cookbook](https://www.rdkit.org/docs/Cookbook.html)  \n"
      ]
    },
    {
      "cell_type": "code",
      "execution_count": null,
      "metadata": {
        "id": "he310xQ4qCWc"
      },
      "outputs": [],
      "source": []
    }
  ],
  "metadata": {
    "colab": {
      "authorship_tag": "ABX9TyPELtCWoBvlaJ6ZRGNUJe50",
      "provenance": []
    },
    "kernelspec": {
      "display_name": "Python 3",
      "name": "python3"
    },
    "language_info": {
      "name": "python"
    }
  },
  "nbformat": 4,
  "nbformat_minor": 0
}
