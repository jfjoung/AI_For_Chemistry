{
  "nbformat": 4,
  "nbformat_minor": 0,
  "metadata": {
    "colab": {
      "provenance": [],
      "authorship_tag": "ABX9TyMbfwuv+lGQMNuYDVdkdCfL"
    },
    "kernelspec": {
      "name": "python3",
      "display_name": "Python 3"
    },
    "language_info": {
      "name": "python"
    }
  },
  "cells": [
    {
      "cell_type": "markdown",
      "source": [
        "<a href=\"https://colab.research.google.com/github/jfjoung/AI_For_Chemistry/blob/main/notebooks/week11/Week_11_Interpretability.ipynb\" target=\"_parent\"><img src=\"https://colab.research.google.com/assets/colab-badge.svg\" alt=\"Open In Colab\"/></a>\n"
      ],
      "metadata": {
        "id": "Xr_7sN8LWgJi"
      }
    },
    {
      "cell_type": "markdown",
      "source": [
        "🎯 학습 목표 (Learning Objectives)\n",
        "\n",
        "- 반응 예측 모델의 해석 가능성 (model interpretability or explainability) 개념을 이해하고, permutation importance를 활용하여 각 feature의 영향도를 평가하는 방법을 실습한다.\n",
        "\n",
        "- XGBoost 모델을 활용하여 반응 클래스 분류 작업을 수행하고, 훈련된 모델로부터 예측 결과를 도출하는 과정을 Python 코드로 따라가며 익힌다."
      ],
      "metadata": {
        "id": "ItN5UhxOWg6E"
      }
    },
    {
      "cell_type": "code",
      "execution_count": null,
      "metadata": {
        "id": "E3wxDZzLWLY3"
      },
      "outputs": [],
      "source": [
        "# Make sure shap is installed on binder\n",
        "!pip install shap rdkit\n",
        "import pickle\n",
        "import numpy as np\n",
        "from matplotlib import pyplot as plt\n",
        "from rdkit.Chem.AllChem import MolFromSmiles, MolFromSmarts\n",
        "from rdkit.Chem.Draw import IPythonConsole\n",
        "from rdkit.Chem import Draw\n",
        "import shap\n",
        "\n",
        "IPythonConsole.molSize = (300, 300)\n",
        "\n",
        "shap.initjs()"
      ]
    },
    {
      "cell_type": "markdown",
      "source": [
        "데이터 로드"
      ],
      "metadata": {
        "id": "M1wyAeQuX0bY"
      }
    },
    {
      "cell_type": "code",
      "source": [
        "!curl -L \"https://www.dropbox.com/scl/fi/h99ucb29d37jtzilaa3ms/week11_buchwald_hartwig.pkl?rlkey=g0ryytrkov1reytnmvugob5t2&dl=0\" -o buchwald_hartwig.pkl\n",
        "!curl -L \"https://www.dropbox.com/scl/fi/w2r6cr1witpj4twgooqkx/week11_buchwald_hartwig.map.pkl?rlkey=n55pkt3dvxqy9h29k1idn7ubx&dl=0\" -o buchwald_hartwig.map.pkl\n",
        "!curl -L \"https://www.dropbox.com/scl/fi/ja2yyjztmcew69kdurcek/week11_buchwald_hartwig_model.pkl?rlkey=ybf7yy5bqcp8ks97eiya42avs&dl=0\" -o buchwald_hartwig_model.pkl\n",
        "X, y = pickle.load(open(\"buchwald_hartwig.pkl\", \"rb\"))\n",
        "mapping = pickle.load(open(\"buchwald_hartwig.map.pkl\", \"rb\"))\n",
        "model = pickle.load(open(\"buchwald_hartwig_model.pkl\", \"rb\"))"
      ],
      "metadata": {
        "id": "j20M6NAxXLnN"
      },
      "execution_count": null,
      "outputs": []
    },
    {
      "cell_type": "code",
      "source": [
        "print('Number of Fingerprints', len(X))\n",
        "print('Yield', y[0])"
      ],
      "metadata": {
        "id": "_1ngPf6YXos3"
      },
      "execution_count": null,
      "outputs": []
    },
    {
      "cell_type": "markdown",
      "source": [
        "### SHAP로 보는 모델 해석 (Model Interpretability with SHAP)\n",
        "\n",
        "SHAP(SHapley Additive exPlanations)는 각 입력 feature가 예측값에 얼마나 기여했는지를 수치적으로 보여주는 방법입니다.  \n",
        "SHAP의 핵심 아이디어는 **게임이론에서 유래한 Shapley value 개념**을 기반으로, 각 feature가 모델 예측에 얼마나 기여했는지를 정량적으로 계산하는 것입니다.\n",
        "\n",
        "SHAP 값을 수식으로 표현하면 다음과 같습니다:\n",
        "\n",
        "$$\n",
        "f(x) = \\phi_0 + \\sum_{i=1}^{M} \\phi_i\n",
        "$$\n",
        "\n",
        "- $f(x)$: 입력 $x$에 대한 모델의 예측값  \n",
        "- $\\phi_0$: **기준값 (base value)** — 아무 feature도 사용하지 않았을 때의 평균 예측  \n",
        "- $\\phi_i$: feature $i$가 예측값에 기여한 정도 (SHAP value)\n",
        "\n",
        "즉, 각 예측값은 다음과 같이 **SHAP 값들의 합**으로 설명됩니다:\n",
        "\n",
        "> 예측값 = 기준값 + (각 feature의 기여도 합)\n",
        "\n",
        "SHAP은 각 feature $i$의 기여도 $\\phi_i$를 다음과 같이 계산합니다:\n",
        "\n",
        "$$\n",
        "\\phi_i = \\sum_{S \\subseteq N \\setminus \\{i\\}} \\frac{|S|! (M - |S| - 1)!}{M!} \\left[ f(S \\cup \\{i\\}) - f(S) \\right]\n",
        "$$\n",
        "\n",
        "- $N$: 전체 feature 집합 (즉, $N = {1, 2, ..., M}$)\n",
        "- $M = |N|$: 전체 feature의 개수\n",
        "- $S$: feature $i$를 제외한 feature들의 부분집합  \n",
        "- $f(S)$: subset $S$만 사용할 때의 모델 예측  \n",
        "- $f(S \\cup \\{i\\}) - f(S)$: feature $i$가 추가됨으로써 생긴 기여  \n",
        "- 앞의 계수는 공정한 분배를 위한 **Shapley weight**\n",
        "\n",
        "이 수식은 **feature $i$가 다양한 feature 조합에서 예측값에 얼마나 기여했는지를 평균적으로 평가**하는 방식입니다.\n",
        "\n",
        "즉, SHAP은 **모든 feature 조합**을 고려해  \n",
        "> \"feature $i$가 어떤 경우에 모델 예측을 얼마나 바꾸는가?\"  \n",
        "를 반복적으로 평가하고, 이를 **공정한 방식(Shapley weight)**으로 더한 값이 바로 $\\phi_i$입니다.\n",
        "\n",
        "SHAP은 모델이 복잡하거나 비선형이더라도,  \n",
        "**각 feature가 예측 결과에 어떤 방향과 크기로 영향을 주었는지** 명확하게 설명할 수 있습니다.\n",
        "\n",
        "이제 이 수식을 실제 모델에 적용해보면,  \n",
        "모델이 특정 반응을 왜 그 확률로 분류했는지,  \n",
        "이 경우에는 **어떤 분자 조각(feature)**이 수율 예측에 중요한 역할을 했는지 파악할 수 있습니다.\n"
      ],
      "metadata": {
        "id": "BCdwL9y9Yps-"
      }
    },
    {
      "cell_type": "markdown",
      "source": [
        "- **Saliency Map**은:\n",
        "\n",
        "  > “이 입력의 **어느 feature를 바꿨을 때** 예측이 가장 많이 흔들릴까?”  \n",
        "  → 단순히 **gradient만 보는 방식**\n",
        "\n",
        "- **Integrated Gradients**는:\n",
        "\n",
        "  > “입력이 **0(또는 baseline)에서 지금 값까지 바뀌는 동안**, 예측에 얼마나 영향을 줬을까?”  \n",
        "  → **gradient를 누적한 값**\n",
        "\n",
        "- **SHAP**은:\n",
        "\n",
        "  > “이 feature가 예측값을 만드는 데 **얼마나 공정하게 기여했는가**?”  \n",
        "  → **모든 feature 조합을 고려해가며** 공정하게 분배된 기여도를 계산\n"
      ],
      "metadata": {
        "id": "pR7v9XA0Zc2q"
      }
    },
    {
      "cell_type": "code",
      "source": [
        "# 트리 기반 모델(XGBoost, LightGBM 등)에 대해 SHAP 값을 계산할 수 있는 객체 생성\n",
        "explainer = shap.TreeExplainer(model)\n",
        "\n",
        "# 입력 데이터 X의 앞 500개 샘플에 대해 각 feature의 SHAP 값을 계산\n",
        "# -> 각 feature가 개별 예측값에 얼마나 영향을 미쳤는지를 나타냄\n",
        "shap_values = explainer.shap_values(X[:500])\n",
        "\n",
        "# SHAP summary plot을 시각화 (앞 500개 샘플 기준)\n",
        "# - feature별 중요도 (y축)\n",
        "# - SHAP 값의 크기와 방향 (x축)\n",
        "# - 색상: feature의 원래 값이 높음(빨강) 또는 낮음(파랑)\n",
        "# - max_display=40: 상위 40개 feature까지만 보여줌\n",
        "shap.summary_plot(shap_values, X[:500], max_display=10)\n"
      ],
      "metadata": {
        "id": "DZxowF5XXtPG"
      },
      "execution_count": null,
      "outputs": []
    },
    {
      "cell_type": "code",
      "source": [
        "sub = list(mapping.get(760))[0].replace(\"c\", \"C\")\n",
        "print(sub)\n",
        "MolFromSmiles(sub)"
      ],
      "metadata": {
        "id": "hIyjLPn3aZnO"
      },
      "execution_count": null,
      "outputs": []
    },
    {
      "cell_type": "markdown",
      "source": [
        "✅ **Feature 760 = Cl이 붙은 방향족 탄소 (sp²)**  \n",
        "즉, **aryl chloride (Ar–Cl)** 구조\n",
        "\n",
        "---\n",
        "\n",
        "### 🔬 Buchwald–Hartwig 반응에서의 역할\n",
        "\n",
        "이 구조는 반응에 **직접적으로 필요한 활성화된 coupling site**입니다.\n",
        "\n",
        "> Ar–Cl + R–NH₂ → Ar–NR₂  \n",
        "> 형태의 **C–N 결합 형성**이 반응의 핵심 메커니즘입니다.\n",
        "\n",
        "- Cl이 붙은 aryl halide는 **Pd-catalyzed cross-coupling 반응의 전형적인 출발물**입니다.\n",
        "\n",
        "---\n",
        "\n",
        "### 🤔 그런데 왜 SHAP 값은 음수일까?\n",
        "\n",
        "📉 **SHAP 값이 음수**라는 것은 →  \n",
        "**이 feature가 존재할수록 모델이 수율을 낮게 예측했다**는 의미입니다.\n",
        "\n",
        "이 현상은 오히려 흥미로운 화학적 인사이트를 제공합니다.\n",
        "\n",
        "---\n",
        "\n",
        "### 💡 가능한 해석 1: Ar–Cl은 반응은 되지만 수율이 낮은 계열\n",
        "\n",
        "| 관찰 | 해석 |\n",
        "|------|------|\n",
        "| Ar–Cl은 보통 Ar–Br, Ar–I보다 반응성이 낮음 | C–Cl 결합이 더 강해 **oxidative addition 단계가 느림** |\n",
        "| Pd 촉매와 리간드가 최적화되지 않으면 | Ar–Cl 기반 Buchwald–Hartwig 반응은 **수율이 낮을 수 있음** |\n",
        "| 실제 데이터에 Ar–Cl 기반 반응이 많이 포함되어 있다면 | 모델은 \"**Ar–Cl이 있을수록 수율 낮았다**\"는 패턴을 학습했을 수 있음 |\n",
        "\n",
        "즉,  \n",
        "**이 구조는 반응 중심이 맞지만**,  \n",
        "**일반적으로 수율이 낮은 Ar–Cl 조건에서 자주 등장했기 때문에**,  \n",
        "모델은 이를 수율 감소에 기여하는 feature로 인식했을 가능성이 있습니다.\n",
        "\n",
        "---\n",
        "\n",
        "### 💡 가능한 해석 2: 모델이 Ar–Cl을 Ar–Br이나 Ar–I보다 불리한 출발물로 인식\n",
        "\n",
        "- DRFP는 **구조 변화(reactivity)** 자체를 인코딩하지 않음  \n",
        "- 따라서 Ar–Cl 구조가 **자주 등장하면서 낮은 수율과 동반되었다면**,  \n",
        "  → 해당 구조 자체가 \"**낮은 수율과 연관된 패턴**\"으로 모델에 학습되었을 수 있음\n",
        "\n",
        "---\n"
      ],
      "metadata": {
        "id": "87IJupL8eL2M"
      }
    },
    {
      "cell_type": "code",
      "source": [
        "sub = list(mapping.get(66))[0]\n",
        "print(sub)\n",
        "MolFromSmiles(sub)"
      ],
      "metadata": {
        "id": "VzmyNeEqb4DR"
      },
      "execution_count": null,
      "outputs": []
    },
    {
      "cell_type": "markdown",
      "source": [
        "✅ Feature 66 = 1-methylpiperazine 구조\n",
        "\n",
        "---\n",
        "\n",
        "### 🔬 Buchwald–Hartwig 반응에서의 역할\n",
        "\n",
        "이 구조는 **친핵성 아민(nucleophilic amine)**으로 작용하며,  \n",
        "**Buchwald–Hartwig cross-coupling 반응의 핵심 반응물**입니다.\n",
        "\n",
        "> Ar–Cl + R–NH → Ar–NR  \n",
        "> 형태의 **C–N 결합 형성**에 직접 참여합니다.\n",
        "\n",
        "- 두 개의 질소(N)를 가진 6원 고리\n",
        "- 한 질소는 메틸기로 치환되어 있어 **2차 아민의 특성**을 가짐\n",
        "- 반응 조건에 따라 매우 **높은 친핵성**과 **적당한 염기성**을 나타냄\n",
        "\n",
        "---\n",
        "\n",
        "### 💡 수율을 높이는 이유\n",
        "\n",
        "| 요인 | 설명 |\n",
        "|------|------|\n",
        "| **높은 친핵성** | piperazine 고리는 전자밀도가 높고 반응성이 좋음 |\n",
        "| **2차 아민 특성** | Buchwald–Hartwig 반응에서 **2차 아민은 이상적인 coupling partner** |\n",
        "| **입체적 안정성** | 메틸 치환에도 불구하고 반응성을 방해하지 않음 |\n",
        "| **적당한 염기성** | 촉매(Pd) 또는 리간드를 deactivate시키지 않을 정도로 안정적 |\n",
        "\n",
        "---\n",
        "\n",
        "### 📈 SHAP 값이 양수인 이유\n",
        "\n",
        "- SHAP summary plot에서 Feature 66은 **강한 양의 SHAP 값**을 가짐\n",
        "- 이는 모델이 \"**이 구조가 있으면 수율이 높다**\"고 판단했다는 의미\n",
        "\n",
        "즉,  \n",
        "**1-methylpiperazine이 coupling partner로 사용된 반응들이 높은 수율을 보였기 때문에**,  \n",
        "모델은 해당 feature를 **수율을 높이는 중요한 요소**로 학습했습니다.\n",
        "\n",
        "---\n",
        "\n",
        "### ✅ 결론\n",
        "\n",
        "> Feature 66은 **1-methylpiperazine** 구조로,  \n",
        "> **Buchwald–Hartwig 반응에서 뛰어난 아민 반응물로 작용하며**,  \n",
        "> 실험적으로 높은 수율을 이끄는 패턴을 모델이 포착했음을 의미합니다.\n"
      ],
      "metadata": {
        "id": "ybbptaCUjERJ"
      }
    },
    {
      "cell_type": "markdown",
      "source": [
        "### 🔍 SHAP Force Plot 해석 예시\n",
        "\n",
        "SHAP force plot은 **단일 샘플에 대해 각 feature가 모델의 예측값(f(x))에 얼마나 기여했는지를 시각화**하는 도구입니다.  \n",
        "각 feature는 다음의 요소로 표현됩니다:\n",
        "\n",
        "- **방향**  \n",
        "  - ➡️ 오른쪽: 예측값(수율)을 **높이는 방향**  \n",
        "  - ⬅️ 왼쪽: 예측값(수율)을 **낮추는 방향**\n",
        "\n",
        "- **길이**  \n",
        "  - 각 feature의 **기여도 크기** (SHAP value 절댓값)\n",
        "\n",
        "- **색상**  \n",
        "  - **빨간색**: 수율을 높이는 방향으로 작용  \n",
        "  - **파란색**: 수율을 낮추는 방향으로 작용\n",
        "\n",
        "> ⚠️ 색상은 feature의 실제 값이 아니라, **기여 방향**을 나타냅니다.\n",
        "\n",
        "---"
      ],
      "metadata": {
        "id": "1ZRaTLdtnbYy"
      }
    },
    {
      "cell_type": "code",
      "source": [
        "X[3,760], X[3,66]"
      ],
      "metadata": {
        "id": "USdDJw-GngG8"
      },
      "execution_count": null,
      "outputs": []
    },
    {
      "cell_type": "code",
      "source": [
        "shap.force_plot(explainer.expected_value, shap_values[3,:], matplotlib=True)"
      ],
      "metadata": {
        "id": "DeT0M-jLjDDh"
      },
      "execution_count": null,
      "outputs": []
    },
    {
      "cell_type": "markdown",
      "source": [
        "\n",
        "### 📈 예측 결과 요약\n",
        "\n",
        "- **기준값 (base value)**: 약 33 (모델의 평균 수율 예측)\n",
        "- **최종 예측값 f(x)**: **20.58**\n",
        "  → 모델은 이 반응의 수율이 **평균보다 낮다**고 예측\n",
        "\n",
        "---\n",
        "\n",
        "### 🧪 주요 feature 해석\n",
        "\n",
        "#### ✅ `Feature 66` (1-methylpiperazine)\n",
        "- `X[3, 66] = 1` → 이 구조가 **존재**\n",
        "- **빨간색 + 왼쪽에서 오른쪽 방향**  \n",
        "  → **수율을 높이는 방향으로 작용**\n",
        "- 모델은 이 아민 구조가 반응에 **유리하게 작용**한다고 학습함\n",
        "\n",
        "#### ✅ `Feature 760` (aryl chloride)\n",
        "- `X[3, 760] = 1` → 이 구조도 **존재**\n",
        "- **파란색 + 오른쪽에서 왼쪽 방향**  \n",
        "  → **수율을 낮추는 방향으로 작용**\n",
        "- 모델은 Ar–Cl 구조가 수율을 **떨어뜨리는 경향이 있다고 학습**\n",
        "\n",
        "---\n",
        "\n",
        "### ✅ 결론\n",
        "\n",
        "> 이 force plot은 Feature 66과 760이 모두 **존재(=1)**하는 상황에서,  \n",
        "> 각각이 수율에 **반대 방향으로 기여**하고 있음을 보여줍니다.  \n",
        "> 결과적으로 Feature 760의 음의 기여가 더 크기 때문에,  \n",
        "> 모델은 이 반응의 수율을 평균보다 **낮게 (20.58)** 예측한 것입니다.\n"
      ],
      "metadata": {
        "id": "pJkW_pZ4neMo"
      }
    },
    {
      "cell_type": "code",
      "source": [],
      "metadata": {
        "id": "gCY0k9zbjfgk"
      },
      "execution_count": null,
      "outputs": []
    },
    {
      "cell_type": "code",
      "source": [],
      "metadata": {
        "id": "xgK9SJy9m91K"
      },
      "execution_count": null,
      "outputs": []
    }
  ]
}