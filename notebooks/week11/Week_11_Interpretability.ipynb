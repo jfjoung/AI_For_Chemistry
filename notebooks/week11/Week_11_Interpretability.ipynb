{
  "nbformat": 4,
  "nbformat_minor": 0,
  "metadata": {
    "colab": {
      "provenance": [],
      "authorship_tag": "ABX9TyOAh+iL7BF0qrIe9WDvSkgL"
    },
    "kernelspec": {
      "name": "python3",
      "display_name": "Python 3"
    },
    "language_info": {
      "name": "python"
    }
  },
  "cells": [
    {
      "cell_type": "markdown",
      "source": [
        "<a href=\"https://colab.research.google.com/github/jfjoung/AI_For_Chemistry/blob/main/notebooks/week11/Week_11_Interpretability.ipynb\" target=\"_parent\"><img src=\"https://colab.research.google.com/assets/colab-badge.svg\" alt=\"Open In Colab\"/></a>\n"
      ],
      "metadata": {
        "id": "Xr_7sN8LWgJi"
      }
    },
    {
      "cell_type": "markdown",
      "source": [
        "🎯 학습 목표 (Learning Objectives)\n",
        "\n",
        "- **DRFP (Differentiable Reaction Fingerprint)**의 개념과 생성 원리를 이해하고, 반응의 구조적 차이를 수치적으로 표현하는 방식에 대해 학습한다.\n",
        "\n",
        "- 반응 예측 모델의 해석 가능성 (model explainability) 개념을 이해하고, permutation importance를 활용하여 각 feature의 영향도를 평가하는 방법을 실습한다.\n",
        "\n",
        "- XGBoost 모델을 활용하여 반응 클래스 분류 작업을 수행하고, 훈련된 모델로부터 예측 결과를 도출하는 과정을 Python 코드로 따라가며 익힌다.\n",
        "\n",
        "- 특정 반응 예측에 영향을 미친 DRFP feature의 시각화 및 변화 원자 중심의 분석을 통해 분자 수준에서의 feature importance 해석을 경험한다.\n",
        "\n",
        "- Permutation feature importance 기법을 통해 모델이 어떤 feature에 의존하는지를 파악하고, 그 결과를 직관적으로 해석하는 방법을 배운다.\n",
        "\n",
        "- 반응 예측 문제에 있어 **설명 가능한 인공지능(Explainable AI)**이 왜 중요한지, 특히 화학 연구 및 약물 개발 분야에서의 응용 가능성에 대해 논의한다."
      ],
      "metadata": {
        "id": "ItN5UhxOWg6E"
      }
    },
    {
      "cell_type": "code",
      "execution_count": null,
      "metadata": {
        "id": "E3wxDZzLWLY3"
      },
      "outputs": [],
      "source": [
        "# Make sure shap is installed on binder\n",
        "!pip install shap rdkit\n",
        "import pickle\n",
        "import numpy as np\n",
        "from matplotlib import pyplot as plt\n",
        "from rdkit.Chem.AllChem import MolFromSmiles, MolFromSmarts\n",
        "from rdkit.Chem.Draw import IPythonConsole\n",
        "from rdkit.Chem import Draw\n",
        "import shap\n",
        "\n",
        "IPythonConsole.molSize = (300, 300)\n",
        "\n",
        "shap.initjs()"
      ]
    }
  ]
}