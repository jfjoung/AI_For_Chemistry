{
  "cells": [
    {
      "cell_type": "markdown",
      "metadata": {
        "id": "zz3qQz2V--8p"
      },
      "source": [
        "<a href=\"https://colab.research.google.com/github/jfjoung/AI_For_Chemistry/blob/main/notebooks/week5/Week_5_Dimensionality_Reduction.ipynb\" target=\"_parent\"><img src=\"https://colab.research.google.com/assets/colab-badge.svg\" alt=\"Open In Colab\"/></a>\n"
      ]
    },
    {
      "cell_type": "markdown",
      "metadata": {
        "id": "bzbPCD_y_ect"
      },
      "source": [
        "## 🎯 **학습 목표:**  \n",
        "- **비지도 학습(unsupervised learning)의 기본 개념**과 **화학 데이터에서의 활용**을 이해한다.  \n",
        "- **고차원 분자 데이터를 저차원 공간으로 변환하는 차원 축소(dimensionality reduction) 기법**을 익힌다.  \n",
        "- **PCA(Principal Component Analysis), t-SNE(t-Distributed Stochastic Neighbor Embedding), UMAP(Uniform Manifold Approximation and Projection)과 같은 주요 차원 축소 기법을 실습한다.**  \n",
        "- **화학 데이터셋에서 분자 표현을 시각화하고, 차원 축소 기법이 데이터 구조를 어떻게 반영하는지 분석한다.**  \n",
        "- **차원 축소를 활용하여 데이터 군집화(clustering) 및 특징 분석을 수행한다.**  \n",
        "- **비지도 학습을 통해 분자 구조 간의 유사성을 파악하고, 머신러닝 모델의 입력으로 활용할 수 있는 특징을 추출한다.**  \n"
      ]
    },
    {
      "cell_type": "markdown",
      "metadata": {
        "id": "oJR8y89c_nQ0"
      },
      "source": [
        "# 0. 관련 패키지\n",
        "\n",
        "### **Scikit-learn**\n",
        "이번 실습에서는 다시 `scikit-learn` 패키지를 사용합니다.  \n",
        "이 패키지에는 **주성분 분석(PCA, Principal Component Analysis)** 및 **t-SNE(T-distributed Stochastic Neighbor Embedding)** 등 차원 축소 기법이 포함되어 있습니다."
      ]
    },
    {
      "cell_type": "markdown",
      "metadata": {
        "id": "9qJhKxNwNERV"
      },
      "source": []
    },
    {
      "cell_type": "markdown",
      "metadata": {
        "id": "18BMZnZu_smB"
      },
      "source": [
        "우선 필요한 라이브러리를 설치하고, 해당 데이터셋을 가져옵니다.\n"
      ]
    },
    {
      "cell_type": "code",
      "execution_count": null,
      "metadata": {
        "id": "GASESMe8-9Ic"
      },
      "outputs": [],
      "source": [
        "# 데이터 분석 및 시각화를 위한 필수 라이브러리 설치\n",
        "!pip install numpy scipy matplotlib scikit-learn pandas rdkit seaborn plotly umap-learn\n",
        "\n",
        "# ESOL 데이터셋 다운로드\n",
        "!mkdir -p data/\n",
        "!wget https://raw.githubusercontent.com/jfjoung/AI_For_Chemistry/main/data/week3/esol.csv -O data/esol.csv\n"
      ]
    },
    {
      "cell_type": "markdown",
      "metadata": {
        "id": "7Yt6OIZCAHOG"
      },
      "source": [
        "# 1. 차원 축소 (Dimensionality Reduction)\n",
        "\n",
        "**차원 축소(Dimensionality Reduction)**는 비지도 학습(unsupervised learning)의 핵심 개념 중 하나로,  \n",
        "고차원 데이터셋에서 **핵심적인 정보는 유지하면서 변수(feature)의 개수를 줄이는 기법**입니다.  \n",
        "특히, 많은 특징을 포함하는 **대규모 복잡한 데이터셋을 다룰 때 유용**합니다.  \n",
        "\n",
        "또한, 차원 축소는 데이터를 시각화하고, **데이터의 근본적인 구조와 관계를 이해하는 데 도움을 줄 수 있습니다.**  \n",
        "다음은 대표적인 차원 축소 기법입니다.\n",
        "\n",
        "- **PCA (Principal Component Analysis, 주성분 분석)**\n",
        "- **t-SNE (t-distributed Stochastic Neighbor Embedding)**\n",
        "- **NMF (Non-Negative Matrix Factorization, 비음수 행렬 분해)**\n",
        "- **UMAP (Uniform Manifold Approximation and Projection, 균일 매니폴드 근사 및 투영법)**\n",
        "\n",
        "차원 축소를 통해 데이터의 시각화 및 해석이 더 쉬워지고,  \n",
        "더 **효율적이고 정확한 예측 모델**을 개발하는 데 활용할 수도 있습니다.  \n",
        "이 노트북에서는 다양한 차원 축소 기법을 탐색하고 실습해 보겠습니다.\n"
      ]
    },
    {
      "cell_type": "markdown",
      "metadata": {
        "id": "zhAwL7glARG1"
      },
      "source": [
        "# 2. PCA (주성분 분석)\n",
        "\n",
        "[PCA](https://towardsdatascience.com/principal-component-analysis-pca-explained-visually-with-zero-math-1cbf392b9e7d) (Principal Component Analysis, 주성분 분석)은 **차원 축소를 위한 비지도 학습 기법**으로 매우 널리 사용됩니다.  \n",
        "PCA의 목적은 **고차원 데이터를 저차원 공간으로 변환하면서 중요한 정보를 최대한 보존하는 것**입니다.  \n",
        "이를 위해 데이터의 **주성분(principal components)**을 식별하여, 고차원 데이터의 구조를 간소화합니다.  \n",
        "\n",
        "PCA는 **데이터 분석, 시각화 및 특징 추출** 등 다양한 분야에서 폭넓게 활용됩니다.\n"
      ]
    },
    {
      "cell_type": "markdown",
      "metadata": {
        "id": "erGIl271AddM"
      },
      "source": [
        "### 연습 1: ESOL 데이터셋의 차원 축소(PCA) 적용\n",
        "\n",
        "이 연습에서는 **ESOL 데이터셋에 있는 분자들을 나타내는 2048차원 지문(fingerprint)**에 PCA를 적용할 것입니다.  \n",
        "우리는 이 공간을 **2차원으로 축소**하고 결과 공간을 시각화할 것입니다.  \n",
        "\n",
        "일반적으로 PCA를 적용하기 전에 데이터를 표준화해야 하지만, **이 경우는 이진 특징(binary features)을 사용하므로 표준화가 필요하지 않습니다.**\n"
      ]
    },
    {
      "cell_type": "code",
      "execution_count": null,
      "metadata": {
        "id": "eU5jwr---2pW"
      },
      "outputs": [],
      "source": [
        "import pandas as pd\n",
        "from rdkit import Chem\n",
        "from rdkit.Chem import AllChem\n",
        "from rdkit.Chem import PandasTools\n",
        "import numpy as np\n",
        "\n",
        "### YOUR CODE #####\n",
        "\n",
        "# ESOL 데이터셋 로드\n",
        "# pd.read_csv 를 사용해서 data/esol.csv에 있는 데이터를 로드해보세요.\n",
        "\n",
        "\n",
        "# Chem.MolFromSmiles를 사용해 rdkit.Mol 객체를 생성하여 'Molecule' 열에 저장해보세요\n",
        "# apply를 사용해서 'smiles'열에 일괄적으로 적용해보세요.\n",
        "\n",
        "\n",
        "# Molecule 변환이 실패한 행 제거\n",
        "# 'Molecule' 열에 있는 NaN을 제거하기 위해 dropna를 사용해보세요.\n",
        "\n",
        "\n",
        "# 'Molecule' 열을 이용하여 Morgan fingerprint (r=4, nBits=2048) 생성\n",
        "# lambda mol: AllChem.GetMorganFingerprintAsBitVect(mol, radius=4, nBits=2048) 를 사용해보세요.\n",
        "\n",
        "\n",
        "# 결과 확인\n",
        "\n",
        "\n",
        "#Solution\n",
        "# %load https://raw.githubusercontent.com/jfjoung/AI_For_Chemistry/main/notebooks/week5/solution_01.py\n",
        "\n"
      ]
    },
    {
      "cell_type": "markdown",
      "metadata": {
        "id": "T8xorfBqJX1Y"
      },
      "source": []
    },
    {
      "cell_type": "markdown",
      "metadata": {
        "id": "QSpwkcnADU1K"
      },
      "source": [
        "이제 `PCA` 분해를 적용합니다. 해당 메서드의 문서는 [여기](https://scikit-learn.org/stable/modules/generated/sklearn.decomposition.PCA.html#sklearn.decomposition.PCA)에서 확인할 수 있습니다.\n"
      ]
    },
    {
      "cell_type": "code",
      "execution_count": null,
      "metadata": {
        "id": "MNhk4XOXC_ac"
      },
      "outputs": [],
      "source": [
        "from sklearn.decomposition import PCA\n",
        "import numpy as np\n",
        "# PCA 객체 생성 (주성분 2개)\n",
        "pca = PCA(n_components=2)\n",
        "\n",
        "# Morgan fingerprint 열을 numpy 배열로 변환\n",
        "fingerprint_array = np.array(esol['MorganFP'].tolist())  # RDKit BitVect를 numpy 배열로 변환\n",
        "\n",
        "# fit_transform 메서드를 사용하여 PCA 적용 및 결과 저장\n",
        "coordinates = pca.fit_transform(fingerprint_array)\n",
        "\n",
        "# PC1과 PC2 값을 각 행에 추가\n",
        "esol['PC1'] = coordinates[:, 0]\n",
        "esol['PC2'] = coordinates[:, 1]\n"
      ]
    },
    {
      "cell_type": "markdown",
      "metadata": {
        "id": "AO4NI-RfDr4r"
      },
      "source": [
        "PC1과 PC2를 사용하여 데이터를 시각화합니다.\n"
      ]
    },
    {
      "cell_type": "code",
      "execution_count": null,
      "metadata": {
        "id": "29QMC9NGDkFH"
      },
      "outputs": [],
      "source": [
        "import seaborn as sns\n",
        "import matplotlib.pyplot as plt\n",
        "\n",
        "# PCA 결과를 사용하여 산점도 플롯 생성\n",
        "sns.scatterplot(data=esol, x='PC1', y='PC2')\n",
        "\n",
        "# 플롯 제목 설정\n",
        "plt.title('ESOL PCA plot')\n",
        "\n",
        "# 플롯 표시\n",
        "plt.show()\n"
      ]
    },
    {
      "cell_type": "markdown",
      "metadata": {
        "id": "qQ7ZCI0dD1Kb"
      },
      "source": [
        "마지막으로, 이 플롯에 추가할 특별한 범주(label)를 생성합니다. 범주는 용해도 카테고리를 나타내며, 간단함을 위해 3개의 카테고리를 정의합니다:\n",
        "\n",
        "- **Low**: log 용해도가 -5보다 작은 경우\n",
        "- **Medium**: log 용해도가 -5와 -1 사이인 경우\n",
        "- **High**: log 용해도가 -1보다 큰 경우\n",
        "\n",
        "이 분류의 목적은 플롯에 추가 정보를 제공하여, 축소된 공간에서 다른 해석을 탐색하는 것입니다.\n"
      ]
    },
    {
      "cell_type": "code",
      "execution_count": null,
      "metadata": {
        "id": "R46mEqn3DuNO"
      },
      "outputs": [],
      "source": [
        "# 용해도 값을 기준으로 카테고리 라벨을 생성하는 함수\n",
        "def solubility_class(log_sol):\n",
        "    '''용해도 값에 따라 해당하는 라벨을 반환하는 함수'''\n",
        "    if log_sol < -5:\n",
        "        return 'Low'\n",
        "    elif log_sol > -1:\n",
        "        return 'High'\n",
        "    else:\n",
        "        return 'Medium'\n",
        "\n",
        "# 'log solubility (mol/L)' 값을 이용해 'Solubility_Label' 열에 라벨 추가\n",
        "# solubility_class 함수를 apply를 사용해서 'Solubility_Label' 열에 라벨을 추가합니다.\n",
        "\n",
        "\n",
        "\n",
        "\n",
        "# 새로운 라벨을 포함한 PCA 플롯 생성\n",
        "plt.figure(figsize=(8, 6))\n",
        "sns.scatterplot(x=esol['PC1'], y=esol['PC2'], hue=esol['Solubility_Label'], palette='viridis', alpha=0.7)\n",
        "\n",
        "# X, Y축 라벨 및 제목 설정\n",
        "plt.xlabel('Principal Component 1')\n",
        "plt.ylabel('Principal Component 2')\n",
        "plt.title('ESOL PCA plot with solubility label')\n",
        "\n",
        "# 범례 제목 설정\n",
        "plt.legend(title='Solubility')\n",
        "\n",
        "# 플롯 표시\n",
        "plt.show()\n",
        "\n",
        "#Solution\n",
        "# %load https://raw.githubusercontent.com/jfjoung/AI_For_Chemistry/main/notebooks/week5/solution_02.py\n",
        "\n"
      ]
    },
    {
      "cell_type": "markdown",
      "metadata": {
        "id": "8y9e9ZG2EquX"
      },
      "source": [
        "보시다시피, 라벨 카테고리들이 많이 섞여 있어서 플롯에서 데이터의 명확한 경향을 확인하기 어렵습니다. 그러나, 다양한 시각화를 시도할 수 있습니다. 예를 들어, **PC3**을 포함시켜 3D로 시각화하면 더 많은 정보를 얻을 수 있을지 확인할 수 있습니다.\n"
      ]
    },
    {
      "cell_type": "markdown",
      "metadata": {
        "id": "4f77YSq5EzRh"
      },
      "source": [
        "# 3. t-SNE\n",
        "\n",
        "**t-분포 확률적 이웃 임베딩(t-SNE)**(t-distributed Stochastic Neighbor Embedding)은 PCA와는 달리 **비선형 데이터를 분리할 수 있는 기법**입니다.  \n",
        "따라서 **데이터 포인트들 간의 유사한 특징을 가진 군집을 식별하고, 지역적인 구조(local structures)를 포착하는 데 유용**합니다.  \n",
        "하지만 t-SNE는 **PCA보다 계산 비용이 더 많이 들며**, **매우 큰 데이터셋에 적합하지 않을 수 있습니다.**\n"
      ]
    },
    {
      "cell_type": "markdown",
      "metadata": {
        "id": "7Z6VFziQE9ne"
      },
      "source": [
        "### 연습 2: ESOL 데이터셋의 차원 축소(t-SNE) 적용\n",
        "\n",
        "다음 예제에서는 이전에 생성된 데이터셋에 t-SNE를 적용하고, 그 결과를 PCA 분해와 비교할 것입니다.  \n",
        "해당 메서드의 문서는 [여기](https://scikit-learn.org/stable/modules/generated/sklearn.manifold.TSNE.html)에서 확인할 수 있습니다.\n"
      ]
    },
    {
      "cell_type": "code",
      "execution_count": null,
      "metadata": {
        "id": "rvPDA1ywEiRf"
      },
      "outputs": [],
      "source": [
        "from sklearn.manifold import TSNE\n",
        "\n",
        "### YOUR CODE ####\n",
        "# n_components=2로 t-SNE 객체 생성하고, random_state=42 설정\n",
        "# random_state는 재현성을 보장하기 위해 사용됩니다 (이 알고리즘은 비결정적입니다).\n",
        "\n",
        "# Morgan fingerprint 배열 가져오기\n",
        "\n",
        "# fit_transform()을 데이터에 적용\n",
        "\n",
        "# 원본 데이터프레임에 tSNE 좌표를 새로운 열로 추가\n",
        "\n",
        "#####\n",
        "\n",
        "# Solution\n",
        "# %load https://raw.githubusercontent.com/jfjoung/AI_For_Chemistry/main/notebooks/week5/solution_03.py\n"
      ]
    },
    {
      "cell_type": "markdown",
      "metadata": {
        "id": "nDz_EgHpFZDm"
      },
      "source": [
        "이제 용해도 라벨을 포함한 결과를 시각화하고, 이를 PCA 플롯과 비교해 보세요. 알고리즘 간에 차이가 있는지 관찰해 보세요.\n"
      ]
    },
    {
      "cell_type": "code",
      "execution_count": null,
      "metadata": {
        "id": "c7qriakBFyZZ"
      },
      "outputs": [],
      "source": [
        "### YOUR CODE ####\n",
        "\n",
        "# t-SNE 결과를 포함하여 용해도 라벨을 색상으로 구분하여 시각화\n",
        "\n",
        "#####\n",
        "plt.title('ESOL t-SNE plot')\n",
        "\n",
        "# Solution\n",
        "# %load https://raw.githubusercontent.com/jfjoung/AI_For_Chemistry/main/notebooks/week5/solution_04.py\n"
      ]
    },
    {
      "cell_type": "markdown",
      "metadata": {},
      "source": [
        "# 4. UMAP\n",
        "균일 매니폴드 근사화 및 투영(UMAP, Uniform Manifold Approximation and Projection)은 비선형 차원 축소 기법으로, 고차원 데이터를 저차원으로 변환할 때 **데이터의 지역적인 구조(local structures)**를 잘 유지하는 특성을 가지고 있습니다.\n",
        "UMAP은 t-SNE와 유사하게 지역적인 구조를 포착하며, 군집화 및 데이터의 구조적 패턴을 발견하는 데 유용합니다.\n",
        "또한, UMAP은 t-SNE보다 계산 속도가 빠르고, 대규모 데이터셋에도 효과적으로 적용할 수 있습니다."
      ]
    },
    {
      "cell_type": "code",
      "execution_count": null,
      "metadata": {
        "id": "mMxxVzscGftp"
      },
      "outputs": [],
      "source": [
        "import umap\n",
        "\n",
        "# Initialize UMAP model\n",
        "umap_model = umap.UMAP(n_components=2, random_state=42)  \n",
        "\n",
        "# Fit and transform the data\n",
        "umap_data = umap_model.fit_transform(fingerprint_array)\n",
        "\n",
        "# 원본 데이터프레임에 UMAP 좌표 추가\n",
        "esol['UMAP1'] = umap_data[:, 0]\n",
        "esol['UMAP2'] = umap_data[:, 1]\n"
      ]
    },
    {
      "cell_type": "code",
      "execution_count": null,
      "metadata": {},
      "outputs": [],
      "source": [
        "plt.figure(figsize=(8, 6))\n",
        "sns.scatterplot(x=esol['UMAP1'], y=esol['UMAP2'], hue=esol['Solubility_Label'], palette='viridis', alpha=0.7)\n",
        "\n",
        "# X, Y축 라벨 및 제목 설정\n",
        "plt.xlabel('UMAP Component 1')\n",
        "plt.ylabel('UMAP Component 2')\n",
        "plt.title('ESOL UMAP plot') \n",
        "\n",
        "# 범례 제목 설정\n",
        "plt.legend(title='Solubility')\n",
        "\n",
        "# 플롯 표시\n",
        "plt.show()"
      ]
    }
  ],
  "metadata": {
    "colab": {
      "authorship_tag": "ABX9TyPxj7hTXQofkl68NKCk5lp+",
      "provenance": []
    },
    "kernelspec": {
      "display_name": "Python 3",
      "name": "python3"
    },
    "language_info": {
      "name": "python"
    }
  },
  "nbformat": 4,
  "nbformat_minor": 0
}
